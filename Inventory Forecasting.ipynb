{
 "cells": [
  {
   "cell_type": "code",
   "execution_count": 33,
   "id": "02870439-e96f-46b2-817f-275b3f478c00",
   "metadata": {},
   "outputs": [],
   "source": [
    "import pandas as pd\n",
    "import numpy as np\n",
    "import matplotlib.pyplot as plt\n",
    "from pycaret.regression import *"
   ]
  },
  {
   "cell_type": "code",
   "execution_count": 3,
   "id": "e9f9466f-9afd-4059-8efb-650193e00d5b",
   "metadata": {},
   "outputs": [
    {
     "data": {
      "text/html": [
       "<div>\n",
       "<style scoped>\n",
       "    .dataframe tbody tr th:only-of-type {\n",
       "        vertical-align: middle;\n",
       "    }\n",
       "\n",
       "    .dataframe tbody tr th {\n",
       "        vertical-align: top;\n",
       "    }\n",
       "\n",
       "    .dataframe thead th {\n",
       "        text-align: right;\n",
       "    }\n",
       "</style>\n",
       "<table border=\"1\" class=\"dataframe\">\n",
       "  <thead>\n",
       "    <tr style=\"text-align: right;\">\n",
       "      <th></th>\n",
       "      <th>date</th>\n",
       "      <th>store</th>\n",
       "      <th>item</th>\n",
       "      <th>sales</th>\n",
       "    </tr>\n",
       "  </thead>\n",
       "  <tbody>\n",
       "    <tr>\n",
       "      <th>0</th>\n",
       "      <td>2013-01-01</td>\n",
       "      <td>1</td>\n",
       "      <td>1</td>\n",
       "      <td>13</td>\n",
       "    </tr>\n",
       "    <tr>\n",
       "      <th>1</th>\n",
       "      <td>2013-01-02</td>\n",
       "      <td>1</td>\n",
       "      <td>1</td>\n",
       "      <td>11</td>\n",
       "    </tr>\n",
       "    <tr>\n",
       "      <th>2</th>\n",
       "      <td>2013-01-03</td>\n",
       "      <td>1</td>\n",
       "      <td>1</td>\n",
       "      <td>14</td>\n",
       "    </tr>\n",
       "    <tr>\n",
       "      <th>3</th>\n",
       "      <td>2013-01-04</td>\n",
       "      <td>1</td>\n",
       "      <td>1</td>\n",
       "      <td>13</td>\n",
       "    </tr>\n",
       "    <tr>\n",
       "      <th>4</th>\n",
       "      <td>2013-01-05</td>\n",
       "      <td>1</td>\n",
       "      <td>1</td>\n",
       "      <td>10</td>\n",
       "    </tr>\n",
       "  </tbody>\n",
       "</table>\n",
       "</div>"
      ],
      "text/plain": [
       "         date  store  item  sales\n",
       "0  2013-01-01      1     1     13\n",
       "1  2013-01-02      1     1     11\n",
       "2  2013-01-03      1     1     14\n",
       "3  2013-01-04      1     1     13\n",
       "4  2013-01-05      1     1     10"
      ]
     },
     "execution_count": 3,
     "metadata": {},
     "output_type": "execute_result"
    }
   ],
   "source": [
    "df = pd.read_csv('train.csv')\n",
    "df.head()"
   ]
  },
  {
   "cell_type": "code",
   "execution_count": 4,
   "id": "d9258c08-c511-4e82-b42a-a9acf06fe268",
   "metadata": {},
   "outputs": [
    {
     "name": "stdout",
     "output_type": "stream",
     "text": [
      "<class 'pandas.core.frame.DataFrame'>\n",
      "RangeIndex: 913000 entries, 0 to 912999\n",
      "Data columns (total 4 columns):\n",
      " #   Column  Non-Null Count   Dtype \n",
      "---  ------  --------------   ----- \n",
      " 0   date    913000 non-null  object\n",
      " 1   store   913000 non-null  int64 \n",
      " 2   item    913000 non-null  int64 \n",
      " 3   sales   913000 non-null  int64 \n",
      "dtypes: int64(3), object(1)\n",
      "memory usage: 27.9+ MB\n"
     ]
    }
   ],
   "source": [
    "df.info()"
   ]
  },
  {
   "cell_type": "code",
   "execution_count": 5,
   "id": "f60fdd08-09f0-4f98-bea6-816f4dca0477",
   "metadata": {},
   "outputs": [
    {
     "data": {
      "text/html": [
       "<div>\n",
       "<style scoped>\n",
       "    .dataframe tbody tr th:only-of-type {\n",
       "        vertical-align: middle;\n",
       "    }\n",
       "\n",
       "    .dataframe tbody tr th {\n",
       "        vertical-align: top;\n",
       "    }\n",
       "\n",
       "    .dataframe thead th {\n",
       "        text-align: right;\n",
       "    }\n",
       "</style>\n",
       "<table border=\"1\" class=\"dataframe\">\n",
       "  <thead>\n",
       "    <tr style=\"text-align: right;\">\n",
       "      <th></th>\n",
       "      <th>store</th>\n",
       "      <th>item</th>\n",
       "      <th>sales</th>\n",
       "    </tr>\n",
       "  </thead>\n",
       "  <tbody>\n",
       "    <tr>\n",
       "      <th>count</th>\n",
       "      <td>913000.000000</td>\n",
       "      <td>913000.000000</td>\n",
       "      <td>913000.000000</td>\n",
       "    </tr>\n",
       "    <tr>\n",
       "      <th>mean</th>\n",
       "      <td>5.500000</td>\n",
       "      <td>25.500000</td>\n",
       "      <td>52.250287</td>\n",
       "    </tr>\n",
       "    <tr>\n",
       "      <th>std</th>\n",
       "      <td>2.872283</td>\n",
       "      <td>14.430878</td>\n",
       "      <td>28.801144</td>\n",
       "    </tr>\n",
       "    <tr>\n",
       "      <th>min</th>\n",
       "      <td>1.000000</td>\n",
       "      <td>1.000000</td>\n",
       "      <td>0.000000</td>\n",
       "    </tr>\n",
       "    <tr>\n",
       "      <th>25%</th>\n",
       "      <td>3.000000</td>\n",
       "      <td>13.000000</td>\n",
       "      <td>30.000000</td>\n",
       "    </tr>\n",
       "    <tr>\n",
       "      <th>50%</th>\n",
       "      <td>5.500000</td>\n",
       "      <td>25.500000</td>\n",
       "      <td>47.000000</td>\n",
       "    </tr>\n",
       "    <tr>\n",
       "      <th>75%</th>\n",
       "      <td>8.000000</td>\n",
       "      <td>38.000000</td>\n",
       "      <td>70.000000</td>\n",
       "    </tr>\n",
       "    <tr>\n",
       "      <th>max</th>\n",
       "      <td>10.000000</td>\n",
       "      <td>50.000000</td>\n",
       "      <td>231.000000</td>\n",
       "    </tr>\n",
       "  </tbody>\n",
       "</table>\n",
       "</div>"
      ],
      "text/plain": [
       "               store           item          sales\n",
       "count  913000.000000  913000.000000  913000.000000\n",
       "mean        5.500000      25.500000      52.250287\n",
       "std         2.872283      14.430878      28.801144\n",
       "min         1.000000       1.000000       0.000000\n",
       "25%         3.000000      13.000000      30.000000\n",
       "50%         5.500000      25.500000      47.000000\n",
       "75%         8.000000      38.000000      70.000000\n",
       "max        10.000000      50.000000     231.000000"
      ]
     },
     "execution_count": 5,
     "metadata": {},
     "output_type": "execute_result"
    }
   ],
   "source": [
    "df.describe()"
   ]
  },
  {
   "cell_type": "code",
   "execution_count": 6,
   "id": "d9d87ec9-b5e1-4f5c-bab1-459535a4ed7c",
   "metadata": {},
   "outputs": [
    {
     "data": {
      "text/plain": [
       "array([[<AxesSubplot:title={'center':'sales'}>]], dtype=object)"
      ]
     },
     "execution_count": 6,
     "metadata": {},
     "output_type": "execute_result"
    },
    {
     "data": {
      "image/png": "[encoded data removed]",
      "text/plain": [
       "<Figure size 432x288 with 1 Axes>"
      ]
     },
     "metadata": {
      "needs_background": "light"
     },
     "output_type": "display_data"
    }
   ],
   "source": [
    "df.groupby('item')[['sales']].sum().hist()\n",
    "#a histogram of each product's total quantity sold, telling us that some products are bought much more frequently than others"
   ]
  },
  {
   "cell_type": "code",
   "execution_count": 8,
   "id": "da76eca5-cb1d-491c-8c5e-834f26f4ceca",
   "metadata": {},
   "outputs": [],
   "source": [
    "df['Order Month'] = pd.to_datetime(df['date'], dayfirst = True).dt.strftime('%Y-%m')"
   ]
  },
  {
   "cell_type": "code",
   "execution_count": 9,
   "id": "95fbf0a9-5f58-4283-87fa-9a0c15f93332",
   "metadata": {},
   "outputs": [
    {
     "data": {
      "text/html": [
       "<div>\n",
       "<style scoped>\n",
       "    .dataframe tbody tr th:only-of-type {\n",
       "        vertical-align: middle;\n",
       "    }\n",
       "\n",
       "    .dataframe tbody tr th {\n",
       "        vertical-align: top;\n",
       "    }\n",
       "\n",
       "    .dataframe thead th {\n",
       "        text-align: right;\n",
       "    }\n",
       "</style>\n",
       "<table border=\"1\" class=\"dataframe\">\n",
       "  <thead>\n",
       "    <tr style=\"text-align: right;\">\n",
       "      <th></th>\n",
       "      <th>date</th>\n",
       "      <th>store</th>\n",
       "      <th>item</th>\n",
       "      <th>sales</th>\n",
       "      <th>Order Month</th>\n",
       "      <th>Month</th>\n",
       "      <th>Year</th>\n",
       "    </tr>\n",
       "  </thead>\n",
       "  <tbody>\n",
       "    <tr>\n",
       "      <th>856770</th>\n",
       "      <td>2014-01-12</td>\n",
       "      <td>10</td>\n",
       "      <td>47</td>\n",
       "      <td>20</td>\n",
       "      <td>2014-01</td>\n",
       "      <td>1</td>\n",
       "      <td>2014</td>\n",
       "    </tr>\n",
       "    <tr>\n",
       "      <th>396409</th>\n",
       "      <td>2013-06-17</td>\n",
       "      <td>8</td>\n",
       "      <td>22</td>\n",
       "      <td>89</td>\n",
       "      <td>2013-06</td>\n",
       "      <td>6</td>\n",
       "      <td>2013</td>\n",
       "    </tr>\n",
       "    <tr>\n",
       "      <th>716498</th>\n",
       "      <td>2014-12-08</td>\n",
       "      <td>3</td>\n",
       "      <td>40</td>\n",
       "      <td>20</td>\n",
       "      <td>2014-12</td>\n",
       "      <td>12</td>\n",
       "      <td>2014</td>\n",
       "    </tr>\n",
       "    <tr>\n",
       "      <th>276610</th>\n",
       "      <td>2015-06-04</td>\n",
       "      <td>2</td>\n",
       "      <td>16</td>\n",
       "      <td>49</td>\n",
       "      <td>2015-06</td>\n",
       "      <td>6</td>\n",
       "      <td>2015</td>\n",
       "    </tr>\n",
       "    <tr>\n",
       "      <th>328632</th>\n",
       "      <td>2017-11-14</td>\n",
       "      <td>10</td>\n",
       "      <td>18</td>\n",
       "      <td>115</td>\n",
       "      <td>2017-11</td>\n",
       "      <td>11</td>\n",
       "      <td>2017</td>\n",
       "    </tr>\n",
       "  </tbody>\n",
       "</table>\n",
       "</div>"
      ],
      "text/plain": [
       "              date  store  item  sales Order Month  Month  Year\n",
       "856770  2014-01-12     10    47     20     2014-01      1  2014\n",
       "396409  2013-06-17      8    22     89     2013-06      6  2013\n",
       "716498  2014-12-08      3    40     20     2014-12     12  2014\n",
       "276610  2015-06-04      2    16     49     2015-06      6  2015\n",
       "328632  2017-11-14     10    18    115     2017-11     11  2017"
      ]
     },
     "execution_count": 9,
     "metadata": {},
     "output_type": "execute_result"
    }
   ],
   "source": [
    "df['Month'] = [i.month for i in pd.to_datetime(df['date'], dayfirst = True)]\n",
    "df['Year'] = [i.year for i in pd.to_datetime(df['date'], dayfirst = True)]\n",
    "#create separate columns for order month and year\n",
    "df.sample(5)"
   ]
  },
  {
   "cell_type": "code",
   "execution_count": 10,
   "id": "db341378-408f-4a3b-83cf-a87d11d371cc",
   "metadata": {},
   "outputs": [
    {
     "data": {
      "text/html": [
       "<div>\n",
       "<style scoped>\n",
       "    .dataframe tbody tr th:only-of-type {\n",
       "        vertical-align: middle;\n",
       "    }\n",
       "\n",
       "    .dataframe tbody tr th {\n",
       "        vertical-align: top;\n",
       "    }\n",
       "\n",
       "    .dataframe thead tr th {\n",
       "        text-align: left;\n",
       "    }\n",
       "\n",
       "    .dataframe thead tr:last-of-type th {\n",
       "        text-align: right;\n",
       "    }\n",
       "</style>\n",
       "<table border=\"1\" class=\"dataframe\">\n",
       "  <thead>\n",
       "    <tr>\n",
       "      <th></th>\n",
       "      <th colspan=\"5\" halign=\"left\">sales</th>\n",
       "    </tr>\n",
       "    <tr>\n",
       "      <th></th>\n",
       "      <th>count</th>\n",
       "      <th>sum</th>\n",
       "      <th>mean</th>\n",
       "      <th>median</th>\n",
       "      <th>std</th>\n",
       "    </tr>\n",
       "    <tr>\n",
       "      <th>item</th>\n",
       "      <th></th>\n",
       "      <th></th>\n",
       "      <th></th>\n",
       "      <th></th>\n",
       "      <th></th>\n",
       "    </tr>\n",
       "  </thead>\n",
       "  <tbody>\n",
       "    <tr>\n",
       "      <th>29</th>\n",
       "      <td>18260</td>\n",
       "      <td>1271240</td>\n",
       "      <td>69.618839</td>\n",
       "      <td>67.0</td>\n",
       "      <td>23.635631</td>\n",
       "    </tr>\n",
       "    <tr>\n",
       "      <th>30</th>\n",
       "      <td>18260</td>\n",
       "      <td>736554</td>\n",
       "      <td>40.337021</td>\n",
       "      <td>39.0</td>\n",
       "      <td>14.363331</td>\n",
       "    </tr>\n",
       "    <tr>\n",
       "      <th>7</th>\n",
       "      <td>18260</td>\n",
       "      <td>1068777</td>\n",
       "      <td>58.531051</td>\n",
       "      <td>56.0</td>\n",
       "      <td>20.146002</td>\n",
       "    </tr>\n",
       "    <tr>\n",
       "      <th>48</th>\n",
       "      <td>18260</td>\n",
       "      <td>937703</td>\n",
       "      <td>51.352848</td>\n",
       "      <td>49.0</td>\n",
       "      <td>17.881917</td>\n",
       "    </tr>\n",
       "    <tr>\n",
       "      <th>36</th>\n",
       "      <td>18260</td>\n",
       "      <td>1406548</td>\n",
       "      <td>77.028916</td>\n",
       "      <td>74.0</td>\n",
       "      <td>26.067440</td>\n",
       "    </tr>\n",
       "    <tr>\n",
       "      <th>8</th>\n",
       "      <td>18260</td>\n",
       "      <td>1405108</td>\n",
       "      <td>76.950055</td>\n",
       "      <td>74.0</td>\n",
       "      <td>26.130697</td>\n",
       "    </tr>\n",
       "    <tr>\n",
       "      <th>15</th>\n",
       "      <td>18260</td>\n",
       "      <td>1607442</td>\n",
       "      <td>88.030778</td>\n",
       "      <td>85.0</td>\n",
       "      <td>29.522852</td>\n",
       "    </tr>\n",
       "    <tr>\n",
       "      <th>5</th>\n",
       "      <td>18260</td>\n",
       "      <td>335230</td>\n",
       "      <td>18.358708</td>\n",
       "      <td>18.0</td>\n",
       "      <td>7.265167</td>\n",
       "    </tr>\n",
       "    <tr>\n",
       "      <th>46</th>\n",
       "      <td>18260</td>\n",
       "      <td>1070764</td>\n",
       "      <td>58.639869</td>\n",
       "      <td>56.0</td>\n",
       "      <td>20.220879</td>\n",
       "    </tr>\n",
       "    <tr>\n",
       "      <th>42</th>\n",
       "      <td>18260</td>\n",
       "      <td>669925</td>\n",
       "      <td>36.688116</td>\n",
       "      <td>35.0</td>\n",
       "      <td>13.215112</td>\n",
       "    </tr>\n",
       "  </tbody>\n",
       "</table>\n",
       "</div>"
      ],
      "text/plain": [
       "      sales                                      \n",
       "      count      sum       mean median        std\n",
       "item                                             \n",
       "29    18260  1271240  69.618839   67.0  23.635631\n",
       "30    18260   736554  40.337021   39.0  14.363331\n",
       "7     18260  1068777  58.531051   56.0  20.146002\n",
       "48    18260   937703  51.352848   49.0  17.881917\n",
       "36    18260  1406548  77.028916   74.0  26.067440\n",
       "8     18260  1405108  76.950055   74.0  26.130697\n",
       "15    18260  1607442  88.030778   85.0  29.522852\n",
       "5     18260   335230  18.358708   18.0   7.265167\n",
       "46    18260  1070764  58.639869   56.0  20.220879\n",
       "42    18260   669925  36.688116   35.0  13.215112"
      ]
     },
     "execution_count": 10,
     "metadata": {},
     "output_type": "execute_result"
    }
   ],
   "source": [
    "#a popular method involved in inventory forecasting involves using a coefficient of variation, calculated by std dev divided by mean\n",
    "#but CV will not be applicable to sporadically bought items\n",
    "#so we need to identify the products where CV would be applicable\n",
    "df.groupby('item')[['sales']].agg(['count', 'sum', 'mean', 'median', 'std']).sample(10)\n",
    "#sorted by the products purchased the highest number of times"
   ]
  },
  {
   "cell_type": "code",
   "execution_count": 11,
   "id": "5dcd6ff8-68da-4964-93a9-e56c134ea591",
   "metadata": {},
   "outputs": [
    {
     "data": {
      "text/html": [
       "<div>\n",
       "<style scoped>\n",
       "    .dataframe tbody tr th:only-of-type {\n",
       "        vertical-align: middle;\n",
       "    }\n",
       "\n",
       "    .dataframe tbody tr th {\n",
       "        vertical-align: top;\n",
       "    }\n",
       "\n",
       "    .dataframe thead th {\n",
       "        text-align: right;\n",
       "    }\n",
       "</style>\n",
       "<table border=\"1\" class=\"dataframe\">\n",
       "  <thead>\n",
       "    <tr style=\"text-align: right;\">\n",
       "      <th></th>\n",
       "      <th>date</th>\n",
       "      <th>sales</th>\n",
       "      <th>Order Month</th>\n",
       "      <th>Month</th>\n",
       "      <th>Year</th>\n",
       "      <th>time_series</th>\n",
       "    </tr>\n",
       "  </thead>\n",
       "  <tbody>\n",
       "    <tr>\n",
       "      <th>465469</th>\n",
       "      <td>2017-07-24</td>\n",
       "      <td>30</td>\n",
       "      <td>2017-07</td>\n",
       "      <td>7</td>\n",
       "      <td>2017</td>\n",
       "      <td>store_5_item_26</td>\n",
       "    </tr>\n",
       "    <tr>\n",
       "      <th>343191</th>\n",
       "      <td>2017-09-26</td>\n",
       "      <td>55</td>\n",
       "      <td>2017-09</td>\n",
       "      <td>9</td>\n",
       "      <td>2017</td>\n",
       "      <td>store_8_item_19</td>\n",
       "    </tr>\n",
       "    <tr>\n",
       "      <th>116427</th>\n",
       "      <td>2016-10-21</td>\n",
       "      <td>76</td>\n",
       "      <td>2016-10</td>\n",
       "      <td>10</td>\n",
       "      <td>2016</td>\n",
       "      <td>store_4_item_7</td>\n",
       "    </tr>\n",
       "    <tr>\n",
       "      <th>43009</th>\n",
       "      <td>2015-10-09</td>\n",
       "      <td>41</td>\n",
       "      <td>2015-10</td>\n",
       "      <td>10</td>\n",
       "      <td>2015</td>\n",
       "      <td>store_4_item_3</td>\n",
       "    </tr>\n",
       "    <tr>\n",
       "      <th>141460</th>\n",
       "      <td>2015-05-09</td>\n",
       "      <td>131</td>\n",
       "      <td>2015-05</td>\n",
       "      <td>5</td>\n",
       "      <td>2015</td>\n",
       "      <td>store_8_item_8</td>\n",
       "    </tr>\n",
       "  </tbody>\n",
       "</table>\n",
       "</div>"
      ],
      "text/plain": [
       "              date  sales Order Month  Month  Year      time_series\n",
       "465469  2017-07-24     30     2017-07      7  2017  store_5_item_26\n",
       "343191  2017-09-26     55     2017-09      9  2017  store_8_item_19\n",
       "116427  2016-10-21     76     2016-10     10  2016   store_4_item_7\n",
       "43009   2015-10-09     41     2015-10     10  2015   store_4_item_3\n",
       "141460  2015-05-09    131     2015-05      5  2015   store_8_item_8"
      ]
     },
     "execution_count": 11,
     "metadata": {},
     "output_type": "execute_result"
    }
   ],
   "source": [
    "# combine store and item column as time_series\n",
    "df['store'] = ['store_' + str(i) for i in df['store']]\n",
    "df['item'] = ['item_' + str(i) for i in df['item']]\n",
    "df['time_series'] = df[['store', 'item']].apply(lambda x: '_'.join(x), axis=1)\n",
    "df.drop(['store', 'item'], axis=1, inplace=True)\n",
    "df.sample(5)"
   ]
  },
  {
   "cell_type": "code",
   "execution_count": 12,
   "id": "5278df78-682e-47f4-827f-bba3b557519c",
   "metadata": {},
   "outputs": [
    {
     "data": {
      "text/plain": [
       "array([[<AxesSubplot:title={'center':'sales'}>]], dtype=object)"
      ]
     },
     "execution_count": 12,
     "metadata": {},
     "output_type": "execute_result"
    },
    {
     "data": {
      "image/png": "[encoded data removed]",
      "text/plain": [
       "<Figure size 432x288 with 1 Axes>"
      ]
     },
     "metadata": {
      "needs_background": "light"
     },
     "output_type": "display_data"
    }
   ],
   "source": [
    "df_sum = df.groupby(['Year', 'Month', 'time_series'])[['sales']].sum().reset_index() \n",
    "pd.DataFrame(df_sum.groupby('time_series')['sales'].std() / df_sum[df_sum['sales'] > 0].groupby('time_series')['sales'].mean()).hist()\n",
    "#this histogram plots the distribution of CV (coefficient of variation) for all store-item combinations, with the CV being quite low thus all combinations being quite forecastable\n",
    "#this means we can proceed with forecasting each product's 3 month demand because we do not need to handle high CV products"
   ]
  },
  {
   "cell_type": "code",
   "execution_count": 13,
   "id": "aca7592e-80f3-408f-af4e-404fc7d18cce",
   "metadata": {},
   "outputs": [],
   "source": [
    "#build sample algorithms with pycaret's regression module, stl and hp filter with statsmodels with a single product-store combination\n",
    "data = df[df['time_series'] == 'store_1_item_30'].groupby(['Year', 'Month', 'time_series'])[['sales']].sum().reset_index()\n",
    "data['Series'] = np.arange(1, len(data) + 1)\n",
    "data['Date'] = pd.date_range(start = '2013-01-01', end = '2017-12-01', freq = 'MS')"
   ]
  },
  {
   "cell_type": "code",
   "execution_count": 14,
   "id": "605272a8-c2bb-43d3-84ec-0cfcaf692138",
   "metadata": {},
   "outputs": [
    {
     "data": {
      "text/plain": [
       "(60, 6)"
      ]
     },
     "execution_count": 14,
     "metadata": {},
     "output_type": "execute_result"
    }
   ],
   "source": [
    "df['date'].min() + pd.to_timedelta()"
   ]
  },
  {
   "cell_type": "code",
   "execution_count": 15,
   "id": "2d92af3f-334b-478c-a8d6-ab7996dd4d60",
   "metadata": {},
   "outputs": [
    {
     "name": "stdout",
     "output_type": "stream",
     "text": [
      "(48, 6) (12, 6)\n"
     ]
    }
   ],
   "source": [
    "train = data[data['Year'] < 2017]\n",
    "test = data[data['Year'] >= 2017]\n",
    "print(train.shape, test.shape)"
   ]
  },
  {
   "cell_type": "code",
   "execution_count": 89,
   "id": "e79befe1-36cb-498a-8b07-5b999ffd339a",
   "metadata": {},
   "outputs": [
    {
     "data": {
      "text/plain": [
       "<Figure size 864x576 with 0 Axes>"
      ]
     },
     "metadata": {},
     "output_type": "display_data"
    },
    {
     "data": {
      "image/png": "[encoded data removed]",
      "text/plain": [
       "<Figure size 864x720 with 4 Axes>"
      ]
     },
     "metadata": {
      "needs_background": "light"
     },
     "output_type": "display_data"
    }
   ],
   "source": [
    "#plot a simple seasonal decomposition using statsmodels api\n",
    "import matplotlib.pyplot as plt\n",
    "from statsmodels.tsa.seasonal import seasonal_decompose\n",
    "\n",
    "results = seasonal_decompose(data[['Date', 'sales']].set_index('Date'), model = 'multiplicative')\n",
    "plt.figure(figsize = (12, 8))\n",
    "results.plot()\n",
    "plt.show()"
   ]
  },
  {
   "cell_type": "code",
   "execution_count": 65,
   "id": "7881c724-ac98-40f1-81eb-cf64688fea72",
   "metadata": {},
   "outputs": [
    {
     "data": {
      "image/png": "[encoded data removed]",
      "text/plain": [
       "<Figure size 864x720 with 4 Axes>"
      ]
     },
     "metadata": {
      "needs_background": "light"
     },
     "output_type": "display_data"
    }
   ],
   "source": [
    "# STL - plot seasonal decomposition with Loess using statsmodels\n",
    "#result is similar to above, clear seasonal and trend features\n",
    "from statsmodels.tsa.seasonal import STL\n",
    "\n",
    "res = STL(data[['Date', 'sales']].set_index('Date'), period = None, seasonal = 13).fit()\n",
    "res.plot()\n",
    "plt.show()"
   ]
  },
  {
   "cell_type": "code",
   "execution_count": 90,
   "id": "1fbc572b-c7d5-4834-9f64-d421374d309d",
   "metadata": {},
   "outputs": [
    {
     "data": {
      "image/png": "[encoded data removed]",
      "text/plain": [
       "<Figure size 864x720 with 3 Axes>"
      ]
     },
     "metadata": {
      "needs_background": "light"
     },
     "output_type": "display_data"
    }
   ],
   "source": [
    "#using statsmodels hp_filter to visualize trend and cycles \n",
    "#using hodrick prescott filter shows the trend feature as a bit more seasonal\n",
    "from sklearn.metrics import mean_squared_error\n",
    "from statsmodels.tsa.ar_model import AR\n",
    "from statsmodels.tsa.filters import hp_filter\n",
    "from pylab import rcParams\n",
    "import seaborn as sns\n",
    "\n",
    "plt.rcParams['figure.figsize'] = [12, 10]\n",
    "\n",
    "cycle, trend = hp_filter.hpfilter(data[['Date', 'sales']].set_index('Date'), 45)\n",
    "fig, ax = plt.subplots(3, 1)\n",
    "ax[0].plot(data[['Date', 'sales']].set_index('Date'))\n",
    "ax[0].set_title('sales')\n",
    "ax[1].plot(trend)\n",
    "ax[1].set_title('Trend')\n",
    "ax[2].plot(cycle)\n",
    "ax[2].set_title('Cycle')\n",
    "plt.show()"
   ]
  },
  {
   "cell_type": "code",
   "execution_count": 119,
   "id": "464ffa68-3db4-4a87-bf9c-94f663b2372b",
   "metadata": {},
   "outputs": [
    {
     "data": {
      "image/png": "[encoded data removed]",
      "text/plain": [
       "<Figure size 864x720 with 1 Axes>"
      ]
     },
     "metadata": {
      "needs_background": "light"
     },
     "output_type": "display_data"
    }
   ],
   "source": [
    "#fit exponential smoothing and holt smoothing models and use it to predict next 3 months forecast\n",
    "from statsmodels.tsa.api import ExponentialSmoothing, SimpleExpSmoothing, Holt\n",
    "\n",
    "fit1 = SimpleExpSmoothing(data[['Date', 'sales']].set_index('Date'), initialization_method = 'heuristic').fit(smoothing_level = 0.5, optimized = False)\n",
    "fcast1 = fit1.forecast(3)\n",
    "\n",
    "plt.plot(data[['Date', 'sales']].set_index('Date'), marker = 'o', color = 'black')\n",
    "plt.plot(fit1.fittedvalues, marker = 'o', color = 'blue')\n",
    "(line1,) = plt.plot(fcast1, marker = 'o', color = 'green')\n",
    "plt.show()"
   ]
  },
  {
   "cell_type": "code",
   "execution_count": 136,
   "id": "947cd5c6-b1a1-4ed3-a611-a9db74a21b8a",
   "metadata": {},
   "outputs": [
    {
     "data": {
      "image/png": "[encoded data removed]",
      "text/plain": [
       "<Figure size 864x576 with 1 Axes>"
      ]
     },
     "metadata": {
      "needs_background": "light"
     },
     "output_type": "display_data"
    }
   ],
   "source": [
    "fit1 = Holt(data[['Date', 'sales']].set_index('Date'), initialization_method=\"estimated\").fit(\n",
    "    smoothing_level=0.5, smoothing_trend=0.2, optimized=False\n",
    ")\n",
    "fcast1 = fit1.forecast(3).rename(\"Holt's linear trend\")\n",
    "fit2 = Holt(data[['Date', 'sales']].set_index('Date'), exponential=True, initialization_method=\"estimated\").fit(\n",
    "    smoothing_level=0.5, smoothing_trend=0.2, optimized=False\n",
    ")\n",
    "fcast2 = fit2.forecast(3).rename(\"Exponential trend\")\n",
    "fit3 = Holt(data[['Date', 'sales']].set_index('Date'), damped_trend=True, initialization_method=\"estimated\").fit(\n",
    "    smoothing_level=0.5, smoothing_trend=0.2\n",
    ")\n",
    "fcast3 = fit3.forecast(3).rename(\"Additive damped trend\")\n",
    "\n",
    "#only plotting Holt's linear trend, excluding exponential trend for purposes of this demonstration\n",
    "plt.figure(figsize=(12, 8))\n",
    "plt.plot(data[['Date', 'sales']].set_index('Date'), marker=\"o\", color=\"black\")\n",
    "plt.plot(fit1.fittedvalues, color=\"blue\")\n",
    "(line1,) = plt.plot(fcast1, marker=\"o\", color=\"blue\")\n"
   ]
  },
  {
   "cell_type": "code",
   "execution_count": 137,
   "id": "e0f60697-5258-4c4f-8c70-6ee5d80e912c",
   "metadata": {},
   "outputs": [
    {
     "data": {
      "text/plain": [
       "2018-01-01    1104.667870\n",
       "2018-02-01    1062.210634\n",
       "2018-03-01    1019.753399\n",
       "Freq: MS, Name: Holt's linear trend, dtype: float64"
      ]
     },
     "execution_count": 137,
     "metadata": {},
     "output_type": "execute_result"
    }
   ],
   "source": [
    "#next 3 months forecast using Holt's linear trend\n",
    "fcast1"
   ]
  },
  {
   "cell_type": "code",
   "execution_count": null,
   "id": "da435a6e-f196-40ae-a520-ddbc0d2f8517",
   "metadata": {},
   "outputs": [],
   "source": [
    "setup(data = train, target = 'sales', fold_strategy = 'timeseries', numeric_features = ['Year', 'Month', 'Series'], verbose = False, fold = 5, transform_target = True)\n",
    "#setup pycaret regression module to forecast time series"
   ]
  },
  {
   "cell_type": "code",
   "execution_count": 120,
   "id": "326e376f-a6ec-4b67-967e-2868488726fb",
   "metadata": {},
   "outputs": [
    {
     "data": {
      "text/html": [],
      "text/plain": [
       "<IPython.core.display.HTML object>"
      ]
     },
     "metadata": {},
     "output_type": "display_data"
    },
    {
     "data": {
      "text/html": [
       "<style type=\"text/css\">\n",
       "#T_428ff th {\n",
       "  text-align: left;\n",
       "}\n",
       "#T_428ff_row0_col0, #T_428ff_row0_col2, #T_428ff_row0_col4, #T_428ff_row0_col5, #T_428ff_row0_col6, #T_428ff_row1_col0, #T_428ff_row1_col1, #T_428ff_row1_col3, #T_428ff_row2_col0, #T_428ff_row2_col1, #T_428ff_row2_col2, #T_428ff_row2_col3, #T_428ff_row2_col4, #T_428ff_row2_col5, #T_428ff_row2_col6, #T_428ff_row3_col0, #T_428ff_row3_col1, #T_428ff_row3_col2, #T_428ff_row3_col3, #T_428ff_row3_col4, #T_428ff_row3_col5, #T_428ff_row3_col6, #T_428ff_row4_col0, #T_428ff_row4_col1, #T_428ff_row4_col2, #T_428ff_row4_col3, #T_428ff_row4_col4, #T_428ff_row4_col5, #T_428ff_row4_col6, #T_428ff_row5_col0, #T_428ff_row5_col1, #T_428ff_row5_col2, #T_428ff_row5_col3, #T_428ff_row5_col4, #T_428ff_row5_col5, #T_428ff_row5_col6, #T_428ff_row6_col0, #T_428ff_row6_col1, #T_428ff_row6_col2, #T_428ff_row6_col3, #T_428ff_row6_col4, #T_428ff_row6_col5, #T_428ff_row6_col6, #T_428ff_row7_col0, #T_428ff_row7_col1, #T_428ff_row7_col2, #T_428ff_row7_col3, #T_428ff_row7_col4, #T_428ff_row7_col5, #T_428ff_row7_col6, #T_428ff_row8_col0, #T_428ff_row8_col1, #T_428ff_row8_col2, #T_428ff_row8_col3, #T_428ff_row8_col4, #T_428ff_row8_col5, #T_428ff_row8_col6, #T_428ff_row9_col0, #T_428ff_row9_col1, #T_428ff_row9_col2, #T_428ff_row9_col3, #T_428ff_row9_col4, #T_428ff_row9_col5, #T_428ff_row9_col6, #T_428ff_row10_col0, #T_428ff_row10_col1, #T_428ff_row10_col2, #T_428ff_row10_col3, #T_428ff_row10_col4, #T_428ff_row10_col5, #T_428ff_row10_col6, #T_428ff_row11_col0, #T_428ff_row11_col1, #T_428ff_row11_col2, #T_428ff_row11_col3, #T_428ff_row11_col4, #T_428ff_row11_col5, #T_428ff_row11_col6, #T_428ff_row12_col0, #T_428ff_row12_col1, #T_428ff_row12_col2, #T_428ff_row12_col3, #T_428ff_row12_col4, #T_428ff_row12_col5, #T_428ff_row12_col6, #T_428ff_row13_col0, #T_428ff_row13_col1, #T_428ff_row13_col2, #T_428ff_row13_col3, #T_428ff_row13_col4, #T_428ff_row13_col5, #T_428ff_row13_col6, #T_428ff_row14_col0, #T_428ff_row14_col1, #T_428ff_row14_col2, #T_428ff_row14_col3, #T_428ff_row14_col4, #T_428ff_row14_col5, #T_428ff_row14_col6, #T_428ff_row15_col0, #T_428ff_row15_col1, #T_428ff_row15_col2, #T_428ff_row15_col3, #T_428ff_row15_col4, #T_428ff_row15_col5, #T_428ff_row15_col6, #T_428ff_row16_col0, #T_428ff_row16_col1, #T_428ff_row16_col2, #T_428ff_row16_col3, #T_428ff_row16_col4, #T_428ff_row16_col5, #T_428ff_row16_col6, #T_428ff_row17_col0, #T_428ff_row17_col1, #T_428ff_row17_col2, #T_428ff_row17_col3, #T_428ff_row17_col4, #T_428ff_row17_col5, #T_428ff_row17_col6, #T_428ff_row18_col0, #T_428ff_row18_col1, #T_428ff_row18_col2, #T_428ff_row18_col3, #T_428ff_row18_col4, #T_428ff_row18_col5, #T_428ff_row18_col6, #T_428ff_row19_col0, #T_428ff_row19_col1, #T_428ff_row19_col2, #T_428ff_row19_col3, #T_428ff_row19_col4, #T_428ff_row19_col5, #T_428ff_row19_col6 {\n",
       "  text-align: left;\n",
       "}\n",
       "#T_428ff_row0_col1, #T_428ff_row0_col3, #T_428ff_row1_col2, #T_428ff_row1_col4, #T_428ff_row1_col5, #T_428ff_row1_col6 {\n",
       "  text-align: left;\n",
       "  background-color: yellow;\n",
       "}\n",
       "#T_428ff_row0_col7, #T_428ff_row1_col7, #T_428ff_row2_col7, #T_428ff_row3_col7, #T_428ff_row4_col7, #T_428ff_row5_col7, #T_428ff_row6_col7, #T_428ff_row7_col7, #T_428ff_row8_col7, #T_428ff_row9_col7, #T_428ff_row11_col7, #T_428ff_row12_col7, #T_428ff_row13_col7, #T_428ff_row14_col7, #T_428ff_row15_col7, #T_428ff_row17_col7, #T_428ff_row18_col7, #T_428ff_row19_col7 {\n",
       "  text-align: left;\n",
       "  background-color: lightgrey;\n",
       "}\n",
       "#T_428ff_row10_col7, #T_428ff_row16_col7 {\n",
       "  text-align: left;\n",
       "  background-color: yellow;\n",
       "  background-color: lightgrey;\n",
       "}\n",
       "</style>\n",
       "<table id=\"T_428ff\">\n",
       "  <thead>\n",
       "    <tr>\n",
       "      <th class=\"blank level0\" >&nbsp;</th>\n",
       "      <th id=\"T_428ff_level0_col0\" class=\"col_heading level0 col0\" >Model</th>\n",
       "      <th id=\"T_428ff_level0_col1\" class=\"col_heading level0 col1\" >MAE</th>\n",
       "      <th id=\"T_428ff_level0_col2\" class=\"col_heading level0 col2\" >MSE</th>\n",
       "      <th id=\"T_428ff_level0_col3\" class=\"col_heading level0 col3\" >RMSE</th>\n",
       "      <th id=\"T_428ff_level0_col4\" class=\"col_heading level0 col4\" >R2</th>\n",
       "      <th id=\"T_428ff_level0_col5\" class=\"col_heading level0 col5\" >RMSLE</th>\n",
       "      <th id=\"T_428ff_level0_col6\" class=\"col_heading level0 col6\" >MAPE</th>\n",
       "      <th id=\"T_428ff_level0_col7\" class=\"col_heading level0 col7\" >TT (Sec)</th>\n",
       "    </tr>\n",
       "  </thead>\n",
       "  <tbody>\n",
       "    <tr>\n",
       "      <th id=\"T_428ff_level0_row0\" class=\"row_heading level0 row0\" >gbr</th>\n",
       "      <td id=\"T_428ff_row0_col0\" class=\"data row0 col0\" >Gradient Boosting Regressor</td>\n",
       "      <td id=\"T_428ff_row0_col1\" class=\"data row0 col1\" >111.4203</td>\n",
       "      <td id=\"T_428ff_row0_col2\" class=\"data row0 col2\" >23587.9622</td>\n",
       "      <td id=\"T_428ff_row0_col3\" class=\"data row0 col3\" >127.6846</td>\n",
       "      <td id=\"T_428ff_row0_col4\" class=\"data row0 col4\" >-0.2469</td>\n",
       "      <td id=\"T_428ff_row0_col5\" class=\"data row0 col5\" >0.1276</td>\n",
       "      <td id=\"T_428ff_row0_col6\" class=\"data row0 col6\" >0.1181</td>\n",
       "      <td id=\"T_428ff_row0_col7\" class=\"data row0 col7\" >0.0740</td>\n",
       "    </tr>\n",
       "    <tr>\n",
       "      <th id=\"T_428ff_level0_row1\" class=\"row_heading level0 row1\" >dt</th>\n",
       "      <td id=\"T_428ff_row1_col0\" class=\"data row1 col0\" >Decision Tree Regressor</td>\n",
       "      <td id=\"T_428ff_row1_col1\" class=\"data row1 col1\" >112.4000</td>\n",
       "      <td id=\"T_428ff_row1_col2\" class=\"data row1 col2\" >22542.0000</td>\n",
       "      <td id=\"T_428ff_row1_col3\" class=\"data row1 col3\" >129.2741</td>\n",
       "      <td id=\"T_428ff_row1_col4\" class=\"data row1 col4\" >-0.1355</td>\n",
       "      <td id=\"T_428ff_row1_col5\" class=\"data row1 col5\" >0.1224</td>\n",
       "      <td id=\"T_428ff_row1_col6\" class=\"data row1 col6\" >0.1148</td>\n",
       "      <td id=\"T_428ff_row1_col7\" class=\"data row1 col7\" >0.0540</td>\n",
       "    </tr>\n",
       "    <tr>\n",
       "      <th id=\"T_428ff_level0_row2\" class=\"row_heading level0 row2\" >xgboost</th>\n",
       "      <td id=\"T_428ff_row2_col0\" class=\"data row2 col0\" >Extreme Gradient Boosting</td>\n",
       "      <td id=\"T_428ff_row2_col1\" class=\"data row2 col1\" >123.5790</td>\n",
       "      <td id=\"T_428ff_row2_col2\" class=\"data row2 col2\" >24799.0095</td>\n",
       "      <td id=\"T_428ff_row2_col3\" class=\"data row2 col3\" >136.5784</td>\n",
       "      <td id=\"T_428ff_row2_col4\" class=\"data row2 col4\" >-0.1646</td>\n",
       "      <td id=\"T_428ff_row2_col5\" class=\"data row2 col5\" >0.1348</td>\n",
       "      <td id=\"T_428ff_row2_col6\" class=\"data row2 col6\" >0.1274</td>\n",
       "      <td id=\"T_428ff_row2_col7\" class=\"data row2 col7\" >0.2180</td>\n",
       "    </tr>\n",
       "    <tr>\n",
       "      <th id=\"T_428ff_level0_row3\" class=\"row_heading level0 row3\" >ada</th>\n",
       "      <td id=\"T_428ff_row3_col0\" class=\"data row3 col0\" >AdaBoost Regressor</td>\n",
       "      <td id=\"T_428ff_row3_col1\" class=\"data row3 col1\" >127.3153</td>\n",
       "      <td id=\"T_428ff_row3_col2\" class=\"data row3 col2\" >25626.3070</td>\n",
       "      <td id=\"T_428ff_row3_col3\" class=\"data row3 col3\" >145.5593</td>\n",
       "      <td id=\"T_428ff_row3_col4\" class=\"data row3 col4\" >-0.1586</td>\n",
       "      <td id=\"T_428ff_row3_col5\" class=\"data row3 col5\" >0.1446</td>\n",
       "      <td id=\"T_428ff_row3_col6\" class=\"data row3 col6\" >0.1344</td>\n",
       "      <td id=\"T_428ff_row3_col7\" class=\"data row3 col7\" >0.0900</td>\n",
       "    </tr>\n",
       "    <tr>\n",
       "      <th id=\"T_428ff_level0_row4\" class=\"row_heading level0 row4\" >et</th>\n",
       "      <td id=\"T_428ff_row4_col0\" class=\"data row4 col0\" >Extra Trees Regressor</td>\n",
       "      <td id=\"T_428ff_row4_col1\" class=\"data row4 col1\" >136.4057</td>\n",
       "      <td id=\"T_428ff_row4_col2\" class=\"data row4 col2\" >29708.6642</td>\n",
       "      <td id=\"T_428ff_row4_col3\" class=\"data row4 col3\" >152.3064</td>\n",
       "      <td id=\"T_428ff_row4_col4\" class=\"data row4 col4\" >-0.3582</td>\n",
       "      <td id=\"T_428ff_row4_col5\" class=\"data row4 col5\" >0.1534</td>\n",
       "      <td id=\"T_428ff_row4_col6\" class=\"data row4 col6\" >0.1442</td>\n",
       "      <td id=\"T_428ff_row4_col7\" class=\"data row4 col7\" >0.1280</td>\n",
       "    </tr>\n",
       "    <tr>\n",
       "      <th id=\"T_428ff_level0_row5\" class=\"row_heading level0 row5\" >catboost</th>\n",
       "      <td id=\"T_428ff_row5_col0\" class=\"data row5 col0\" >CatBoost Regressor</td>\n",
       "      <td id=\"T_428ff_row5_col1\" class=\"data row5 col1\" >136.7292</td>\n",
       "      <td id=\"T_428ff_row5_col2\" class=\"data row5 col2\" >31934.6088</td>\n",
       "      <td id=\"T_428ff_row5_col3\" class=\"data row5 col3\" >163.6618</td>\n",
       "      <td id=\"T_428ff_row5_col4\" class=\"data row5 col4\" >-0.2698</td>\n",
       "      <td id=\"T_428ff_row5_col5\" class=\"data row5 col5\" >0.1699</td>\n",
       "      <td id=\"T_428ff_row5_col6\" class=\"data row5 col6\" >0.1514</td>\n",
       "      <td id=\"T_428ff_row5_col7\" class=\"data row5 col7\" >1.0840</td>\n",
       "    </tr>\n",
       "    <tr>\n",
       "      <th id=\"T_428ff_level0_row6\" class=\"row_heading level0 row6\" >rf</th>\n",
       "      <td id=\"T_428ff_row6_col0\" class=\"data row6 col0\" >Random Forest Regressor</td>\n",
       "      <td id=\"T_428ff_row6_col1\" class=\"data row6 col1\" >138.7893</td>\n",
       "      <td id=\"T_428ff_row6_col2\" class=\"data row6 col2\" >30617.1826</td>\n",
       "      <td id=\"T_428ff_row6_col3\" class=\"data row6 col3\" >156.3491</td>\n",
       "      <td id=\"T_428ff_row6_col4\" class=\"data row6 col4\" >-0.4203</td>\n",
       "      <td id=\"T_428ff_row6_col5\" class=\"data row6 col5\" >0.1570</td>\n",
       "      <td id=\"T_428ff_row6_col6\" class=\"data row6 col6\" >0.1480</td>\n",
       "      <td id=\"T_428ff_row6_col7\" class=\"data row6 col7\" >0.1780</td>\n",
       "    </tr>\n",
       "    <tr>\n",
       "      <th id=\"T_428ff_level0_row7\" class=\"row_heading level0 row7\" >br</th>\n",
       "      <td id=\"T_428ff_row7_col0\" class=\"data row7 col0\" >Bayesian Ridge</td>\n",
       "      <td id=\"T_428ff_row7_col1\" class=\"data row7 col1\" >180.1649</td>\n",
       "      <td id=\"T_428ff_row7_col2\" class=\"data row7 col2\" >51772.9996</td>\n",
       "      <td id=\"T_428ff_row7_col3\" class=\"data row7 col3\" >218.9441</td>\n",
       "      <td id=\"T_428ff_row7_col4\" class=\"data row7 col4\" >-0.3237</td>\n",
       "      <td id=\"T_428ff_row7_col5\" class=\"data row7 col5\" >0.2176</td>\n",
       "      <td id=\"T_428ff_row7_col6\" class=\"data row7 col6\" >0.1925</td>\n",
       "      <td id=\"T_428ff_row7_col7\" class=\"data row7 col7\" >0.0540</td>\n",
       "    </tr>\n",
       "    <tr>\n",
       "      <th id=\"T_428ff_level0_row8\" class=\"row_heading level0 row8\" >huber</th>\n",
       "      <td id=\"T_428ff_row8_col0\" class=\"data row8 col0\" >Huber Regressor</td>\n",
       "      <td id=\"T_428ff_row8_col1\" class=\"data row8 col1\" >193.0294</td>\n",
       "      <td id=\"T_428ff_row8_col2\" class=\"data row8 col2\" >59892.9615</td>\n",
       "      <td id=\"T_428ff_row8_col3\" class=\"data row8 col3\" >233.7719</td>\n",
       "      <td id=\"T_428ff_row8_col4\" class=\"data row8 col4\" >-0.6458</td>\n",
       "      <td id=\"T_428ff_row8_col5\" class=\"data row8 col5\" >0.2306</td>\n",
       "      <td id=\"T_428ff_row8_col6\" class=\"data row8 col6\" >0.2058</td>\n",
       "      <td id=\"T_428ff_row8_col7\" class=\"data row8 col7\" >0.0640</td>\n",
       "    </tr>\n",
       "    <tr>\n",
       "      <th id=\"T_428ff_level0_row9\" class=\"row_heading level0 row9\" >lightgbm</th>\n",
       "      <td id=\"T_428ff_row9_col0\" class=\"data row9 col0\" >Light Gradient Boosting Machine</td>\n",
       "      <td id=\"T_428ff_row9_col1\" class=\"data row9 col1\" >203.1045</td>\n",
       "      <td id=\"T_428ff_row9_col2\" class=\"data row9 col2\" >60302.5993</td>\n",
       "      <td id=\"T_428ff_row9_col3\" class=\"data row9 col3\" >241.3308</td>\n",
       "      <td id=\"T_428ff_row9_col4\" class=\"data row9 col4\" >-0.5147</td>\n",
       "      <td id=\"T_428ff_row9_col5\" class=\"data row9 col5\" >0.2392</td>\n",
       "      <td id=\"T_428ff_row9_col6\" class=\"data row9 col6\" >0.2175</td>\n",
       "      <td id=\"T_428ff_row9_col7\" class=\"data row9 col7\" >0.0860</td>\n",
       "    </tr>\n",
       "    <tr>\n",
       "      <th id=\"T_428ff_level0_row10\" class=\"row_heading level0 row10\" >dummy</th>\n",
       "      <td id=\"T_428ff_row10_col0\" class=\"data row10 col0\" >Dummy Regressor</td>\n",
       "      <td id=\"T_428ff_row10_col1\" class=\"data row10 col1\" >203.1045</td>\n",
       "      <td id=\"T_428ff_row10_col2\" class=\"data row10 col2\" >60302.5993</td>\n",
       "      <td id=\"T_428ff_row10_col3\" class=\"data row10 col3\" >241.3308</td>\n",
       "      <td id=\"T_428ff_row10_col4\" class=\"data row10 col4\" >-0.5147</td>\n",
       "      <td id=\"T_428ff_row10_col5\" class=\"data row10 col5\" >0.2392</td>\n",
       "      <td id=\"T_428ff_row10_col6\" class=\"data row10 col6\" >0.2175</td>\n",
       "      <td id=\"T_428ff_row10_col7\" class=\"data row10 col7\" >0.0440</td>\n",
       "    </tr>\n",
       "    <tr>\n",
       "      <th id=\"T_428ff_level0_row11\" class=\"row_heading level0 row11\" >knn</th>\n",
       "      <td id=\"T_428ff_row11_col0\" class=\"data row11 col0\" >K Neighbors Regressor</td>\n",
       "      <td id=\"T_428ff_row11_col1\" class=\"data row11 col1\" >213.5220</td>\n",
       "      <td id=\"T_428ff_row11_col2\" class=\"data row11 col2\" >73634.7637</td>\n",
       "      <td id=\"T_428ff_row11_col3\" class=\"data row11 col3\" >268.3383</td>\n",
       "      <td id=\"T_428ff_row11_col4\" class=\"data row11 col4\" >-1.0127</td>\n",
       "      <td id=\"T_428ff_row11_col5\" class=\"data row11 col5\" >0.2672</td>\n",
       "      <td id=\"T_428ff_row11_col6\" class=\"data row11 col6\" >0.2383</td>\n",
       "      <td id=\"T_428ff_row11_col7\" class=\"data row11 col7\" >0.0920</td>\n",
       "    </tr>\n",
       "    <tr>\n",
       "      <th id=\"T_428ff_level0_row12\" class=\"row_heading level0 row12\" >en</th>\n",
       "      <td id=\"T_428ff_row12_col0\" class=\"data row12 col0\" >Elastic Net</td>\n",
       "      <td id=\"T_428ff_row12_col1\" class=\"data row12 col1\" >220.3449</td>\n",
       "      <td id=\"T_428ff_row12_col2\" class=\"data row12 col2\" >74310.7902</td>\n",
       "      <td id=\"T_428ff_row12_col3\" class=\"data row12 col3\" >257.2777</td>\n",
       "      <td id=\"T_428ff_row12_col4\" class=\"data row12 col4\" >-1.7485</td>\n",
       "      <td id=\"T_428ff_row12_col5\" class=\"data row12 col5\" >0.2469</td>\n",
       "      <td id=\"T_428ff_row12_col6\" class=\"data row12 col6\" >0.2314</td>\n",
       "      <td id=\"T_428ff_row12_col7\" class=\"data row12 col7\" >0.0460</td>\n",
       "    </tr>\n",
       "    <tr>\n",
       "      <th id=\"T_428ff_level0_row13\" class=\"row_heading level0 row13\" >ridge</th>\n",
       "      <td id=\"T_428ff_row13_col0\" class=\"data row13 col0\" >Ridge Regression</td>\n",
       "      <td id=\"T_428ff_row13_col1\" class=\"data row13 col1\" >223.1343</td>\n",
       "      <td id=\"T_428ff_row13_col2\" class=\"data row13 col2\" >76276.6448</td>\n",
       "      <td id=\"T_428ff_row13_col3\" class=\"data row13 col3\" >260.0381</td>\n",
       "      <td id=\"T_428ff_row13_col4\" class=\"data row13 col4\" >-1.8578</td>\n",
       "      <td id=\"T_428ff_row13_col5\" class=\"data row13 col5\" >0.2490</td>\n",
       "      <td id=\"T_428ff_row13_col6\" class=\"data row13 col6\" >0.2342</td>\n",
       "      <td id=\"T_428ff_row13_col7\" class=\"data row13 col7\" >0.0520</td>\n",
       "    </tr>\n",
       "    <tr>\n",
       "      <th id=\"T_428ff_level0_row14\" class=\"row_heading level0 row14\" >llar</th>\n",
       "      <td id=\"T_428ff_row14_col0\" class=\"data row14 col0\" >Lasso Least Angle Regression</td>\n",
       "      <td id=\"T_428ff_row14_col1\" class=\"data row14 col1\" >223.3146</td>\n",
       "      <td id=\"T_428ff_row14_col2\" class=\"data row14 col2\" >76774.7368</td>\n",
       "      <td id=\"T_428ff_row14_col3\" class=\"data row14 col3\" >260.4793</td>\n",
       "      <td id=\"T_428ff_row14_col4\" class=\"data row14 col4\" >-1.8943</td>\n",
       "      <td id=\"T_428ff_row14_col5\" class=\"data row14 col5\" >0.2493</td>\n",
       "      <td id=\"T_428ff_row14_col6\" class=\"data row14 col6\" >0.2344</td>\n",
       "      <td id=\"T_428ff_row14_col7\" class=\"data row14 col7\" >0.0600</td>\n",
       "    </tr>\n",
       "    <tr>\n",
       "      <th id=\"T_428ff_level0_row15\" class=\"row_heading level0 row15\" >lasso</th>\n",
       "      <td id=\"T_428ff_row15_col0\" class=\"data row15 col0\" >Lasso Regression</td>\n",
       "      <td id=\"T_428ff_row15_col1\" class=\"data row15 col1\" >223.9452</td>\n",
       "      <td id=\"T_428ff_row15_col2\" class=\"data row15 col2\" >76899.5535</td>\n",
       "      <td id=\"T_428ff_row15_col3\" class=\"data row15 col3\" >260.7993</td>\n",
       "      <td id=\"T_428ff_row15_col4\" class=\"data row15 col4\" >-1.8972</td>\n",
       "      <td id=\"T_428ff_row15_col5\" class=\"data row15 col5\" >0.2496</td>\n",
       "      <td id=\"T_428ff_row15_col6\" class=\"data row15 col6\" >0.2351</td>\n",
       "      <td id=\"T_428ff_row15_col7\" class=\"data row15 col7\" >1.6800</td>\n",
       "    </tr>\n",
       "    <tr>\n",
       "      <th id=\"T_428ff_level0_row16\" class=\"row_heading level0 row16\" >lar</th>\n",
       "      <td id=\"T_428ff_row16_col0\" class=\"data row16 col0\" >Least Angle Regression</td>\n",
       "      <td id=\"T_428ff_row16_col1\" class=\"data row16 col1\" >224.0355</td>\n",
       "      <td id=\"T_428ff_row16_col2\" class=\"data row16 col2\" >76940.3357</td>\n",
       "      <td id=\"T_428ff_row16_col3\" class=\"data row16 col3\" >260.9098</td>\n",
       "      <td id=\"T_428ff_row16_col4\" class=\"data row16 col4\" >-1.8981</td>\n",
       "      <td id=\"T_428ff_row16_col5\" class=\"data row16 col5\" >0.2497</td>\n",
       "      <td id=\"T_428ff_row16_col6\" class=\"data row16 col6\" >0.2352</td>\n",
       "      <td id=\"T_428ff_row16_col7\" class=\"data row16 col7\" >0.0440</td>\n",
       "    </tr>\n",
       "    <tr>\n",
       "      <th id=\"T_428ff_level0_row17\" class=\"row_heading level0 row17\" >lr</th>\n",
       "      <td id=\"T_428ff_row17_col0\" class=\"data row17 col0\" >Linear Regression</td>\n",
       "      <td id=\"T_428ff_row17_col1\" class=\"data row17 col1\" >224.0414</td>\n",
       "      <td id=\"T_428ff_row17_col2\" class=\"data row17 col2\" >76941.5864</td>\n",
       "      <td id=\"T_428ff_row17_col3\" class=\"data row17 col3\" >260.9136</td>\n",
       "      <td id=\"T_428ff_row17_col4\" class=\"data row17 col4\" >-1.8982</td>\n",
       "      <td id=\"T_428ff_row17_col5\" class=\"data row17 col5\" >0.2497</td>\n",
       "      <td id=\"T_428ff_row17_col6\" class=\"data row17 col6\" >0.2352</td>\n",
       "      <td id=\"T_428ff_row17_col7\" class=\"data row17 col7\" >5.7300</td>\n",
       "    </tr>\n",
       "    <tr>\n",
       "      <th id=\"T_428ff_level0_row18\" class=\"row_heading level0 row18\" >omp</th>\n",
       "      <td id=\"T_428ff_row18_col0\" class=\"data row18 col0\" >Orthogonal Matching Pursuit</td>\n",
       "      <td id=\"T_428ff_row18_col1\" class=\"data row18 col1\" >229.3466</td>\n",
       "      <td id=\"T_428ff_row18_col2\" class=\"data row18 col2\" >81762.7950</td>\n",
       "      <td id=\"T_428ff_row18_col3\" class=\"data row18 col3\" >264.8965</td>\n",
       "      <td id=\"T_428ff_row18_col4\" class=\"data row18 col4\" >-2.2190</td>\n",
       "      <td id=\"T_428ff_row18_col5\" class=\"data row18 col5\" >0.2521</td>\n",
       "      <td id=\"T_428ff_row18_col6\" class=\"data row18 col6\" >0.2409</td>\n",
       "      <td id=\"T_428ff_row18_col7\" class=\"data row18 col7\" >0.0520</td>\n",
       "    </tr>\n",
       "    <tr>\n",
       "      <th id=\"T_428ff_level0_row19\" class=\"row_heading level0 row19\" >par</th>\n",
       "      <td id=\"T_428ff_row19_col0\" class=\"data row19 col0\" >Passive Aggressive Regressor</td>\n",
       "      <td id=\"T_428ff_row19_col1\" class=\"data row19 col1\" >258.8696</td>\n",
       "      <td id=\"T_428ff_row19_col2\" class=\"data row19 col2\" >88498.2360</td>\n",
       "      <td id=\"T_428ff_row19_col3\" class=\"data row19 col3\" >290.5206</td>\n",
       "      <td id=\"T_428ff_row19_col4\" class=\"data row19 col4\" >-1.4161</td>\n",
       "      <td id=\"T_428ff_row19_col5\" class=\"data row19 col5\" >0.2748</td>\n",
       "      <td id=\"T_428ff_row19_col6\" class=\"data row19 col6\" >0.2679</td>\n",
       "      <td id=\"T_428ff_row19_col7\" class=\"data row19 col7\" >0.0500</td>\n",
       "    </tr>\n",
       "  </tbody>\n",
       "</table>\n"
      ],
      "text/plain": [
       "<pandas.io.formats.style.Styler at 0x24aa1817100>"
      ]
     },
     "metadata": {},
     "output_type": "display_data"
    },
    {
     "data": {
      "application/vnd.jupyter.widget-view+json": {
       "model_id": "",
       "version_major": 2,
       "version_minor": 0
      },
      "text/plain": [
       "Processing:   0%|          | 0/85 [00:00<?, ?it/s]"
      ]
     },
     "metadata": {},
     "output_type": "display_data"
    }
   ],
   "source": [
    "#use compare_models function to show the best regressor model based on mean absolute error\n",
    "best = compare_models(sort = 'MAE')"
   ]
  },
  {
   "cell_type": "code",
   "execution_count": 124,
   "id": "1f505f4d-742b-47c3-a240-201419efba47",
   "metadata": {},
   "outputs": [
    {
     "data": {
      "text/html": [
       "<style type=\"text/css\">\n",
       "</style>\n",
       "<table id=\"T_edeaf\">\n",
       "  <thead>\n",
       "    <tr>\n",
       "      <th class=\"blank level0\" >&nbsp;</th>\n",
       "      <th id=\"T_edeaf_level0_col0\" class=\"col_heading level0 col0\" >Model</th>\n",
       "      <th id=\"T_edeaf_level0_col1\" class=\"col_heading level0 col1\" >MAE</th>\n",
       "      <th id=\"T_edeaf_level0_col2\" class=\"col_heading level0 col2\" >MSE</th>\n",
       "      <th id=\"T_edeaf_level0_col3\" class=\"col_heading level0 col3\" >RMSE</th>\n",
       "      <th id=\"T_edeaf_level0_col4\" class=\"col_heading level0 col4\" >R2</th>\n",
       "      <th id=\"T_edeaf_level0_col5\" class=\"col_heading level0 col5\" >RMSLE</th>\n",
       "      <th id=\"T_edeaf_level0_col6\" class=\"col_heading level0 col6\" >MAPE</th>\n",
       "    </tr>\n",
       "  </thead>\n",
       "  <tbody>\n",
       "    <tr>\n",
       "      <th id=\"T_edeaf_level0_row0\" class=\"row_heading level0 row0\" >0</th>\n",
       "      <td id=\"T_edeaf_row0_col0\" class=\"data row0 col0\" >Gradient Boosting Regressor</td>\n",
       "      <td id=\"T_edeaf_row0_col1\" class=\"data row0 col1\" >87.6861</td>\n",
       "      <td id=\"T_edeaf_row0_col2\" class=\"data row0 col2\" >22832.2052</td>\n",
       "      <td id=\"T_edeaf_row0_col3\" class=\"data row0 col3\" >151.1033</td>\n",
       "      <td id=\"T_edeaf_row0_col4\" class=\"data row0 col4\" >0.9238</td>\n",
       "      <td id=\"T_edeaf_row0_col5\" class=\"data row0 col5\" >0.0658</td>\n",
       "      <td id=\"T_edeaf_row0_col6\" class=\"data row0 col6\" >0.0383</td>\n",
       "    </tr>\n",
       "  </tbody>\n",
       "</table>\n"
      ],
      "text/plain": [
       "<pandas.io.formats.style.Styler at 0x24aa1c25ee0>"
      ]
     },
     "metadata": {},
     "output_type": "display_data"
    },
    {
     "data": {
      "application/vnd.plotly.v1+json": {
       "config": {
        "plotlyServerURL": "https://plot.ly"
       },
       "data": [
        {
         "hovertemplate": "variable=sales<br>Date=%{x}<br>value=%{y}<extra></extra>",
         "legendgroup": "sales",
         "line": {
          "color": "#636efa",
          "dash": "solid"
         },
         "marker": {
          "symbol": "circle"
         },
         "mode": "lines",
         "name": "sales",
         "orientation": "v",
         "showlegend": true,
         "type": "scatter",
         "x": [
          "2013-01-01T00:00:00",
          "2013-02-01T00:00:00",
          "2013-03-01T00:00:00",
          "2013-04-01T00:00:00",
          "2013-05-01T00:00:00",
          "2013-06-01T00:00:00",
          "2013-07-01T00:00:00",
          "2013-08-01T00:00:00",
          "2013-09-01T00:00:00",
          "2013-10-01T00:00:00",
          "2013-11-01T00:00:00",
          "2013-12-01T00:00:00",
          "2014-01-01T00:00:00",
          "2014-02-01T00:00:00",
          "2014-03-01T00:00:00",
          "2014-04-01T00:00:00",
          "2014-05-01T00:00:00",
          "2014-06-01T00:00:00",
          "2014-07-01T00:00:00",
          "2014-08-01T00:00:00",
          "2014-09-01T00:00:00",
          "2014-10-01T00:00:00",
          "2014-11-01T00:00:00",
          "2014-12-01T00:00:00",
          "2015-01-01T00:00:00",
          "2015-02-01T00:00:00",
          "2015-03-01T00:00:00",
          "2015-04-01T00:00:00",
          "2015-05-01T00:00:00",
          "2015-06-01T00:00:00",
          "2015-07-01T00:00:00",
          "2015-08-01T00:00:00",
          "2015-09-01T00:00:00",
          "2015-10-01T00:00:00",
          "2015-11-01T00:00:00",
          "2015-12-01T00:00:00",
          "2016-01-01T00:00:00",
          "2016-02-01T00:00:00",
          "2016-03-01T00:00:00",
          "2016-04-01T00:00:00",
          "2016-05-01T00:00:00",
          "2016-06-01T00:00:00",
          "2016-07-01T00:00:00",
          "2016-08-01T00:00:00",
          "2016-09-01T00:00:00",
          "2016-10-01T00:00:00",
          "2016-11-01T00:00:00",
          "2016-12-01T00:00:00",
          "2017-01-01T00:00:00",
          "2017-02-01T00:00:00",
          "2017-03-01T00:00:00",
          "2017-04-01T00:00:00",
          "2017-05-01T00:00:00",
          "2017-06-01T00:00:00",
          "2017-07-01T00:00:00",
          "2017-08-01T00:00:00",
          "2017-09-01T00:00:00",
          "2017-10-01T00:00:00",
          "2017-11-01T00:00:00",
          "2017-12-01T00:00:00"
         ],
         "xaxis": "x",
         "y": [
          1194.1327017539518,
          1259.4730969529317,
          1684.5657956927405,
          1848.704428372461,
          2012.144286567838,
          2147.915444731486,
          2302.5655583006123,
          2056.5583223667695,
          1945.7130739473903,
          1782.8605116939673,
          1798.2019956986253,
          1312.4238559290623,
          1367.727400173543,
          1502.6791720296658,
          1998.8396805541609,
          2101.0715750142663,
          2505.897947160033,
          2535.4128590258583,
          2800.3118101322784,
          2521.786160251076,
          2235.1902140190514,
          2076.5771093286153,
          2293.570282283374,
          1517.7534707233333,
          1589.024330467946,
          1337.9192925261646,
          2056.5583223667695,
          2358.8677954271693,
          2503.629049399856,
          2628.729398811552,
          2972.986836030558,
          2510.436378664894,
          2248.6487240092047,
          2188.151514484946,
          2390.4579525491636,
          1617.19239472485,
          1543.631038014525,
          1767.5326388613307,
          2334.0775237329494,
          2469.621132666361,
          2945.2875582896604,
          2968.3684327956034,
          3253.7456961380667,
          2848.5529576132176,
          2713.236779009287,
          2361.1227946600716,
          2558.1408146499925,
          1774.1000545761715,
          1643.2387194268795,
          1693.2796676422147,
          2329.573111303784,
          2825.570377220652,
          3049.2967456740334,
          3067.8260306463512,
          3532.328308513397,
          3028.465185731856,
          2720.100765754156,
          2601.381280325759,
          2621.8896036744254,
          1912.5845524129613
         ],
         "yaxis": "y"
        },
        {
         "hovertemplate": "variable=Label<br>Date=%{x}<br>value=%{y}<extra></extra>",
         "legendgroup": "Label",
         "line": {
          "color": "#EF553B",
          "dash": "solid"
         },
         "marker": {
          "symbol": "circle"
         },
         "mode": "lines",
         "name": "Label",
         "orientation": "v",
         "showlegend": true,
         "type": "scatter",
         "x": [
          "2013-01-01T00:00:00",
          "2013-02-01T00:00:00",
          "2013-03-01T00:00:00",
          "2013-04-01T00:00:00",
          "2013-05-01T00:00:00",
          "2013-06-01T00:00:00",
          "2013-07-01T00:00:00",
          "2013-08-01T00:00:00",
          "2013-09-01T00:00:00",
          "2013-10-01T00:00:00",
          "2013-11-01T00:00:00",
          "2013-12-01T00:00:00",
          "2014-01-01T00:00:00",
          "2014-02-01T00:00:00",
          "2014-03-01T00:00:00",
          "2014-04-01T00:00:00",
          "2014-05-01T00:00:00",
          "2014-06-01T00:00:00",
          "2014-07-01T00:00:00",
          "2014-08-01T00:00:00",
          "2014-09-01T00:00:00",
          "2014-10-01T00:00:00",
          "2014-11-01T00:00:00",
          "2014-12-01T00:00:00",
          "2015-01-01T00:00:00",
          "2015-02-01T00:00:00",
          "2015-03-01T00:00:00",
          "2015-04-01T00:00:00",
          "2015-05-01T00:00:00",
          "2015-06-01T00:00:00",
          "2015-07-01T00:00:00",
          "2015-08-01T00:00:00",
          "2015-09-01T00:00:00",
          "2015-10-01T00:00:00",
          "2015-11-01T00:00:00",
          "2015-12-01T00:00:00",
          "2016-01-01T00:00:00",
          "2016-02-01T00:00:00",
          "2016-03-01T00:00:00",
          "2016-04-01T00:00:00",
          "2016-05-01T00:00:00",
          "2016-06-01T00:00:00",
          "2016-07-01T00:00:00",
          "2016-08-01T00:00:00",
          "2016-09-01T00:00:00",
          "2016-10-01T00:00:00",
          "2016-11-01T00:00:00",
          "2016-12-01T00:00:00",
          "2017-01-01T00:00:00",
          "2017-02-01T00:00:00",
          "2017-03-01T00:00:00",
          "2017-04-01T00:00:00",
          "2017-05-01T00:00:00",
          "2017-06-01T00:00:00",
          "2017-07-01T00:00:00",
          "2017-08-01T00:00:00",
          "2017-09-01T00:00:00",
          "2017-10-01T00:00:00",
          "2017-11-01T00:00:00",
          "2017-12-01T00:00:00"
         ],
         "xaxis": "x",
         "y": [
          1190.2816674616531,
          1225.704951252602,
          1855.8144754421883,
          1855.8144754421883,
          2015.27544576875,
          2063.650459612104,
          2234.1507253158284,
          2052.138329484231,
          1953.5075272965953,
          1888.109451007121,
          1810.967109789774,
          1311.4856690614815,
          1477.5158076939267,
          1500.6059109112146,
          1999.8967127114522,
          2094.1011566362376,
          2137.8578599202983,
          2546.4083769913273,
          2785.622751835347,
          2520.8364154006376,
          2236.2769671219153,
          2080.504324707888,
          2193.163727981871,
          1517.3558479456956,
          1379.937997569243,
          1349.8554695522905,
          2053.999552519358,
          2366.8491320347566,
          2506.9193132752716,
          2608.847742786755,
          2753.932398247305,
          2491.0682596074375,
          2255.895270305266,
          2190.3725547683393,
          2378.662029743623,
          1622.1049207406943,
          1544.1369703579587,
          1514.0544423410063,
          2159.339694369789,
          2472.1892738851875,
          2943.281623201796,
          2979.0947382982795,
          3247.8845258158963,
          2855.3571453632126,
          2699.6850149371226,
          2368.4228685943394,
          2550.96242643862,
          1778.6096079406184,
          1969.7625645098515,
          1939.6800364928986,
          2276.0066127137256,
          2588.856192229124,
          2786.7704463435343,
          2837.0795320155635,
          3011.7133297175433,
          2706.1664936985903,
          2517.6273151169366,
          2228.059192218827,
          2401.784487620827,
          1778.6096079406184
         ],
         "yaxis": "y"
        }
       ],
       "layout": {
        "autosize": true,
        "legend": {
         "title": {
          "text": "variable"
         },
         "tracegroupgap": 0
        },
        "margin": {
         "t": 60
        },
        "shapes": [
         {
          "fillcolor": "grey",
          "line": {
           "width": 0
          },
          "opacity": 0.25,
          "type": "rect",
          "x0": "2017-01-01",
          "x1": "2017-12-01",
          "xref": "x",
          "y0": 0,
          "y1": 1,
          "yref": "y domain"
         }
        ],
        "template": {
         "data": {
          "bar": [
           {
            "error_x": {
             "color": "#f2f5fa"
            },
            "error_y": {
             "color": "#f2f5fa"
            },
            "marker": {
             "line": {
              "color": "rgb(17,17,17)",
              "width": 0.5
             },
             "pattern": {
              "fillmode": "overlay",
              "size": 10,
              "solidity": 0.2
             }
            },
            "type": "bar"
           }
          ],
          "barpolar": [
           {
            "marker": {
             "line": {
              "color": "rgb(17,17,17)",
              "width": 0.5
             },
             "pattern": {
              "fillmode": "overlay",
              "size": 10,
              "solidity": 0.2
             }
            },
            "type": "barpolar"
           }
          ],
          "carpet": [
           {
            "aaxis": {
             "endlinecolor": "#A2B1C6",
             "gridcolor": "#506784",
             "linecolor": "#506784",
             "minorgridcolor": "#506784",
             "startlinecolor": "#A2B1C6"
            },
            "baxis": {
             "endlinecolor": "#A2B1C6",
             "gridcolor": "#506784",
             "linecolor": "#506784",
             "minorgridcolor": "#506784",
             "startlinecolor": "#A2B1C6"
            },
            "type": "carpet"
           }
          ],
          "choropleth": [
           {
            "colorbar": {
             "outlinewidth": 0,
             "ticks": ""
            },
            "type": "choropleth"
           }
          ],
          "contour": [
           {
            "colorbar": {
             "outlinewidth": 0,
             "ticks": ""
            },
            "colorscale": [
             [
              0,
              "#0d0887"
             ],
             [
              0.1111111111111111,
              "#46039f"
             ],
             [
              0.2222222222222222,
              "#7201a8"
             ],
             [
              0.3333333333333333,
              "#9c179e"
             ],
             [
              0.4444444444444444,
              "#bd3786"
             ],
             [
              0.5555555555555556,
              "#d8576b"
             ],
             [
              0.6666666666666666,
              "#ed7953"
             ],
             [
              0.7777777777777778,
              "#fb9f3a"
             ],
             [
              0.8888888888888888,
              "#fdca26"
             ],
             [
              1,
              "#f0f921"
             ]
            ],
            "type": "contour"
           }
          ],
          "contourcarpet": [
           {
            "colorbar": {
             "outlinewidth": 0,
             "ticks": ""
            },
            "type": "contourcarpet"
           }
          ],
          "heatmap": [
           {
            "colorbar": {
             "outlinewidth": 0,
             "ticks": ""
            },
            "colorscale": [
             [
              0,
              "#0d0887"
             ],
             [
              0.1111111111111111,
              "#46039f"
             ],
             [
              0.2222222222222222,
              "#7201a8"
             ],
             [
              0.3333333333333333,
              "#9c179e"
             ],
             [
              0.4444444444444444,
              "#bd3786"
             ],
             [
              0.5555555555555556,
              "#d8576b"
             ],
             [
              0.6666666666666666,
              "#ed7953"
             ],
             [
              0.7777777777777778,
              "#fb9f3a"
             ],
             [
              0.8888888888888888,
              "#fdca26"
             ],
             [
              1,
              "#f0f921"
             ]
            ],
            "type": "heatmap"
           }
          ],
          "heatmapgl": [
           {
            "colorbar": {
             "outlinewidth": 0,
             "ticks": ""
            },
            "colorscale": [
             [
              0,
              "#0d0887"
             ],
             [
              0.1111111111111111,
              "#46039f"
             ],
             [
              0.2222222222222222,
              "#7201a8"
             ],
             [
              0.3333333333333333,
              "#9c179e"
             ],
             [
              0.4444444444444444,
              "#bd3786"
             ],
             [
              0.5555555555555556,
              "#d8576b"
             ],
             [
              0.6666666666666666,
              "#ed7953"
             ],
             [
              0.7777777777777778,
              "#fb9f3a"
             ],
             [
              0.8888888888888888,
              "#fdca26"
             ],
             [
              1,
              "#f0f921"
             ]
            ],
            "type": "heatmapgl"
           }
          ],
          "histogram": [
           {
            "marker": {
             "pattern": {
              "fillmode": "overlay",
              "size": 10,
              "solidity": 0.2
             }
            },
            "type": "histogram"
           }
          ],
          "histogram2d": [
           {
            "colorbar": {
             "outlinewidth": 0,
             "ticks": ""
            },
            "colorscale": [
             [
              0,
              "#0d0887"
             ],
             [
              0.1111111111111111,
              "#46039f"
             ],
             [
              0.2222222222222222,
              "#7201a8"
             ],
             [
              0.3333333333333333,
              "#9c179e"
             ],
             [
              0.4444444444444444,
              "#bd3786"
             ],
             [
              0.5555555555555556,
              "#d8576b"
             ],
             [
              0.6666666666666666,
              "#ed7953"
             ],
             [
              0.7777777777777778,
              "#fb9f3a"
             ],
             [
              0.8888888888888888,
              "#fdca26"
             ],
             [
              1,
              "#f0f921"
             ]
            ],
            "type": "histogram2d"
           }
          ],
          "histogram2dcontour": [
           {
            "colorbar": {
             "outlinewidth": 0,
             "ticks": ""
            },
            "colorscale": [
             [
              0,
              "#0d0887"
             ],
             [
              0.1111111111111111,
              "#46039f"
             ],
             [
              0.2222222222222222,
              "#7201a8"
             ],
             [
              0.3333333333333333,
              "#9c179e"
             ],
             [
              0.4444444444444444,
              "#bd3786"
             ],
             [
              0.5555555555555556,
              "#d8576b"
             ],
             [
              0.6666666666666666,
              "#ed7953"
             ],
             [
              0.7777777777777778,
              "#fb9f3a"
             ],
             [
              0.8888888888888888,
              "#fdca26"
             ],
             [
              1,
              "#f0f921"
             ]
            ],
            "type": "histogram2dcontour"
           }
          ],
          "mesh3d": [
           {
            "colorbar": {
             "outlinewidth": 0,
             "ticks": ""
            },
            "type": "mesh3d"
           }
          ],
          "parcoords": [
           {
            "line": {
             "colorbar": {
              "outlinewidth": 0,
              "ticks": ""
             }
            },
            "type": "parcoords"
           }
          ],
          "pie": [
           {
            "automargin": true,
            "type": "pie"
           }
          ],
          "scatter": [
           {
            "marker": {
             "line": {
              "color": "#283442"
             }
            },
            "type": "scatter"
           }
          ],
          "scatter3d": [
           {
            "line": {
             "colorbar": {
              "outlinewidth": 0,
              "ticks": ""
             }
            },
            "marker": {
             "colorbar": {
              "outlinewidth": 0,
              "ticks": ""
             }
            },
            "type": "scatter3d"
           }
          ],
          "scattercarpet": [
           {
            "marker": {
             "colorbar": {
              "outlinewidth": 0,
              "ticks": ""
             }
            },
            "type": "scattercarpet"
           }
          ],
          "scattergeo": [
           {
            "marker": {
             "colorbar": {
              "outlinewidth": 0,
              "ticks": ""
             }
            },
            "type": "scattergeo"
           }
          ],
          "scattergl": [
           {
            "marker": {
             "line": {
              "color": "#283442"
             }
            },
            "type": "scattergl"
           }
          ],
          "scattermapbox": [
           {
            "marker": {
             "colorbar": {
              "outlinewidth": 0,
              "ticks": ""
             }
            },
            "type": "scattermapbox"
           }
          ],
          "scatterpolar": [
           {
            "marker": {
             "colorbar": {
              "outlinewidth": 0,
              "ticks": ""
             }
            },
            "type": "scatterpolar"
           }
          ],
          "scatterpolargl": [
           {
            "marker": {
             "colorbar": {
              "outlinewidth": 0,
              "ticks": ""
             }
            },
            "type": "scatterpolargl"
           }
          ],
          "scatterternary": [
           {
            "marker": {
             "colorbar": {
              "outlinewidth": 0,
              "ticks": ""
             }
            },
            "type": "scatterternary"
           }
          ],
          "surface": [
           {
            "colorbar": {
             "outlinewidth": 0,
             "ticks": ""
            },
            "colorscale": [
             [
              0,
              "#0d0887"
             ],
             [
              0.1111111111111111,
              "#46039f"
             ],
             [
              0.2222222222222222,
              "#7201a8"
             ],
             [
              0.3333333333333333,
              "#9c179e"
             ],
             [
              0.4444444444444444,
              "#bd3786"
             ],
             [
              0.5555555555555556,
              "#d8576b"
             ],
             [
              0.6666666666666666,
              "#ed7953"
             ],
             [
              0.7777777777777778,
              "#fb9f3a"
             ],
             [
              0.8888888888888888,
              "#fdca26"
             ],
             [
              1,
              "#f0f921"
             ]
            ],
            "type": "surface"
           }
          ],
          "table": [
           {
            "cells": {
             "fill": {
              "color": "#506784"
             },
             "line": {
              "color": "rgb(17,17,17)"
             }
            },
            "header": {
             "fill": {
              "color": "#2a3f5f"
             },
             "line": {
              "color": "rgb(17,17,17)"
             }
            },
            "type": "table"
           }
          ]
         },
         "layout": {
          "annotationdefaults": {
           "arrowcolor": "#f2f5fa",
           "arrowhead": 0,
           "arrowwidth": 1
          },
          "autotypenumbers": "strict",
          "coloraxis": {
           "colorbar": {
            "outlinewidth": 0,
            "ticks": ""
           }
          },
          "colorscale": {
           "diverging": [
            [
             0,
             "#8e0152"
            ],
            [
             0.1,
             "#c51b7d"
            ],
            [
             0.2,
             "#de77ae"
            ],
            [
             0.3,
             "#f1b6da"
            ],
            [
             0.4,
             "#fde0ef"
            ],
            [
             0.5,
             "#f7f7f7"
            ],
            [
             0.6,
             "#e6f5d0"
            ],
            [
             0.7,
             "#b8e186"
            ],
            [
             0.8,
             "#7fbc41"
            ],
            [
             0.9,
             "#4d9221"
            ],
            [
             1,
             "#276419"
            ]
           ],
           "sequential": [
            [
             0,
             "#0d0887"
            ],
            [
             0.1111111111111111,
             "#46039f"
            ],
            [
             0.2222222222222222,
             "#7201a8"
            ],
            [
             0.3333333333333333,
             "#9c179e"
            ],
            [
             0.4444444444444444,
             "#bd3786"
            ],
            [
             0.5555555555555556,
             "#d8576b"
            ],
            [
             0.6666666666666666,
             "#ed7953"
            ],
            [
             0.7777777777777778,
             "#fb9f3a"
            ],
            [
             0.8888888888888888,
             "#fdca26"
            ],
            [
             1,
             "#f0f921"
            ]
           ],
           "sequentialminus": [
            [
             0,
             "#0d0887"
            ],
            [
             0.1111111111111111,
             "#46039f"
            ],
            [
             0.2222222222222222,
             "#7201a8"
            ],
            [
             0.3333333333333333,
             "#9c179e"
            ],
            [
             0.4444444444444444,
             "#bd3786"
            ],
            [
             0.5555555555555556,
             "#d8576b"
            ],
            [
             0.6666666666666666,
             "#ed7953"
            ],
            [
             0.7777777777777778,
             "#fb9f3a"
            ],
            [
             0.8888888888888888,
             "#fdca26"
            ],
            [
             1,
             "#f0f921"
            ]
           ]
          },
          "colorway": [
           "#636efa",
           "#EF553B",
           "#00cc96",
           "#ab63fa",
           "#FFA15A",
           "#19d3f3",
           "#FF6692",
           "#B6E880",
           "#FF97FF",
           "#FECB52"
          ],
          "font": {
           "color": "#f2f5fa"
          },
          "geo": {
           "bgcolor": "rgb(17,17,17)",
           "lakecolor": "rgb(17,17,17)",
           "landcolor": "rgb(17,17,17)",
           "showlakes": true,
           "showland": true,
           "subunitcolor": "#506784"
          },
          "hoverlabel": {
           "align": "left"
          },
          "hovermode": "closest",
          "mapbox": {
           "style": "dark"
          },
          "paper_bgcolor": "rgb(17,17,17)",
          "plot_bgcolor": "rgb(17,17,17)",
          "polar": {
           "angularaxis": {
            "gridcolor": "#506784",
            "linecolor": "#506784",
            "ticks": ""
           },
           "bgcolor": "rgb(17,17,17)",
           "radialaxis": {
            "gridcolor": "#506784",
            "linecolor": "#506784",
            "ticks": ""
           }
          },
          "scene": {
           "xaxis": {
            "backgroundcolor": "rgb(17,17,17)",
            "gridcolor": "#506784",
            "gridwidth": 2,
            "linecolor": "#506784",
            "showbackground": true,
            "ticks": "",
            "zerolinecolor": "#C8D4E3"
           },
           "yaxis": {
            "backgroundcolor": "rgb(17,17,17)",
            "gridcolor": "#506784",
            "gridwidth": 2,
            "linecolor": "#506784",
            "showbackground": true,
            "ticks": "",
            "zerolinecolor": "#C8D4E3"
           },
           "zaxis": {
            "backgroundcolor": "rgb(17,17,17)",
            "gridcolor": "#506784",
            "gridwidth": 2,
            "linecolor": "#506784",
            "showbackground": true,
            "ticks": "",
            "zerolinecolor": "#C8D4E3"
           }
          },
          "shapedefaults": {
           "line": {
            "color": "#f2f5fa"
           }
          },
          "sliderdefaults": {
           "bgcolor": "#C8D4E3",
           "bordercolor": "rgb(17,17,17)",
           "borderwidth": 1,
           "tickwidth": 0
          },
          "ternary": {
           "aaxis": {
            "gridcolor": "#506784",
            "linecolor": "#506784",
            "ticks": ""
           },
           "baxis": {
            "gridcolor": "#506784",
            "linecolor": "#506784",
            "ticks": ""
           },
           "bgcolor": "rgb(17,17,17)",
           "caxis": {
            "gridcolor": "#506784",
            "linecolor": "#506784",
            "ticks": ""
           }
          },
          "title": {
           "x": 0.05
          },
          "updatemenudefaults": {
           "bgcolor": "#506784",
           "borderwidth": 0
          },
          "xaxis": {
           "automargin": true,
           "gridcolor": "#283442",
           "linecolor": "#506784",
           "ticks": "",
           "title": {
            "standoff": 15
           },
           "zerolinecolor": "#283442",
           "zerolinewidth": 2
          },
          "yaxis": {
           "automargin": true,
           "gridcolor": "#283442",
           "linecolor": "#506784",
           "ticks": "",
           "title": {
            "standoff": 15
           },
           "zerolinecolor": "#283442",
           "zerolinewidth": 2
          }
         }
        },
        "xaxis": {
         "anchor": "y",
         "autorange": true,
         "domain": [
          0,
          1
         ],
         "range": [
          "2013-01-01",
          "2017-12-01"
         ],
         "title": {
          "text": "Date"
         },
         "type": "date"
        },
        "yaxis": {
         "anchor": "x",
         "autorange": true,
         "domain": [
          0,
          1
         ],
         "range": [
          1060.1679651810007,
          3662.4420107940496
         ],
         "title": {
          "text": "value"
         },
         "type": "linear"
        }
       }
      },
      "image/png": "[encoded data removed]",
      "text/html": [
       "<div>                            <div id=\"5540a2b9-8695-4dec-bbca-9d30ba1d2539\" class=\"plotly-graph-div\" style=\"height:525px; width:100%;\"></div>            <script type=\"text/javascript\">                require([\"plotly\"], function(Plotly) {                    window.PLOTLYENV=window.PLOTLYENV || {};                                    if (document.getElementById(\"5540a2b9-8695-4dec-bbca-9d30ba1d2539\")) {                    Plotly.newPlot(                        \"5540a2b9-8695-4dec-bbca-9d30ba1d2539\",                        [{\"hovertemplate\":\"variable=sales<br>Date=%{x}<br>value=%{y}<extra></extra>\",\"legendgroup\":\"sales\",\"line\":{\"color\":\"#636efa\",\"dash\":\"solid\"},\"marker\":{\"symbol\":\"circle\"},\"mode\":\"lines\",\"name\":\"sales\",\"orientation\":\"v\",\"showlegend\":true,\"x\":[\"2013-01-01T00:00:00\",\"2013-02-01T00:00:00\",\"2013-03-01T00:00:00\",\"2013-04-01T00:00:00\",\"2013-05-01T00:00:00\",\"2013-06-01T00:00:00\",\"2013-07-01T00:00:00\",\"2013-08-01T00:00:00\",\"2013-09-01T00:00:00\",\"2013-10-01T00:00:00\",\"2013-11-01T00:00:00\",\"2013-12-01T00:00:00\",\"2014-01-01T00:00:00\",\"2014-02-01T00:00:00\",\"2014-03-01T00:00:00\",\"2014-04-01T00:00:00\",\"2014-05-01T00:00:00\",\"2014-06-01T00:00:00\",\"2014-07-01T00:00:00\",\"2014-08-01T00:00:00\",\"2014-09-01T00:00:00\",\"2014-10-01T00:00:00\",\"2014-11-01T00:00:00\",\"2014-12-01T00:00:00\",\"2015-01-01T00:00:00\",\"2015-02-01T00:00:00\",\"2015-03-01T00:00:00\",\"2015-04-01T00:00:00\",\"2015-05-01T00:00:00\",\"2015-06-01T00:00:00\",\"2015-07-01T00:00:00\",\"2015-08-01T00:00:00\",\"2015-09-01T00:00:00\",\"2015-10-01T00:00:00\",\"2015-11-01T00:00:00\",\"2015-12-01T00:00:00\",\"2016-01-01T00:00:00\",\"2016-02-01T00:00:00\",\"2016-03-01T00:00:00\",\"2016-04-01T00:00:00\",\"2016-05-01T00:00:00\",\"2016-06-01T00:00:00\",\"2016-07-01T00:00:00\",\"2016-08-01T00:00:00\",\"2016-09-01T00:00:00\",\"2016-10-01T00:00:00\",\"2016-11-01T00:00:00\",\"2016-12-01T00:00:00\",\"2017-01-01T00:00:00\",\"2017-02-01T00:00:00\",\"2017-03-01T00:00:00\",\"2017-04-01T00:00:00\",\"2017-05-01T00:00:00\",\"2017-06-01T00:00:00\",\"2017-07-01T00:00:00\",\"2017-08-01T00:00:00\",\"2017-09-01T00:00:00\",\"2017-10-01T00:00:00\",\"2017-11-01T00:00:00\",\"2017-12-01T00:00:00\"],\"xaxis\":\"x\",\"y\":[1194.1327017539518,1259.4730969529317,1684.5657956927405,1848.704428372461,2012.144286567838,2147.915444731486,2302.5655583006123,2056.5583223667695,1945.7130739473903,1782.8605116939673,1798.2019956986253,1312.4238559290623,1367.727400173543,1502.6791720296658,1998.8396805541609,2101.0715750142663,2505.897947160033,2535.4128590258583,2800.3118101322784,2521.786160251076,2235.1902140190514,2076.5771093286153,2293.570282283374,1517.7534707233333,1589.024330467946,1337.9192925261646,2056.5583223667695,2358.8677954271693,2503.629049399856,2628.729398811552,2972.986836030558,2510.436378664894,2248.6487240092047,2188.151514484946,2390.4579525491636,1617.19239472485,1543.631038014525,1767.5326388613307,2334.0775237329494,2469.621132666361,2945.2875582896604,2968.3684327956034,3253.7456961380667,2848.5529576132176,2713.236779009287,2361.1227946600716,2558.1408146499925,1774.1000545761715,1643.2387194268795,1693.2796676422147,2329.573111303784,2825.570377220652,3049.2967456740334,3067.8260306463512,3532.328308513397,3028.465185731856,2720.100765754156,2601.381280325759,2621.8896036744254,1912.5845524129613],\"yaxis\":\"y\",\"type\":\"scatter\"},{\"hovertemplate\":\"variable=Label<br>Date=%{x}<br>value=%{y}<extra></extra>\",\"legendgroup\":\"Label\",\"line\":{\"color\":\"#EF553B\",\"dash\":\"solid\"},\"marker\":{\"symbol\":\"circle\"},\"mode\":\"lines\",\"name\":\"Label\",\"orientation\":\"v\",\"showlegend\":true,\"x\":[\"2013-01-01T00:00:00\",\"2013-02-01T00:00:00\",\"2013-03-01T00:00:00\",\"2013-04-01T00:00:00\",\"2013-05-01T00:00:00\",\"2013-06-01T00:00:00\",\"2013-07-01T00:00:00\",\"2013-08-01T00:00:00\",\"2013-09-01T00:00:00\",\"2013-10-01T00:00:00\",\"2013-11-01T00:00:00\",\"2013-12-01T00:00:00\",\"2014-01-01T00:00:00\",\"2014-02-01T00:00:00\",\"2014-03-01T00:00:00\",\"2014-04-01T00:00:00\",\"2014-05-01T00:00:00\",\"2014-06-01T00:00:00\",\"2014-07-01T00:00:00\",\"2014-08-01T00:00:00\",\"2014-09-01T00:00:00\",\"2014-10-01T00:00:00\",\"2014-11-01T00:00:00\",\"2014-12-01T00:00:00\",\"2015-01-01T00:00:00\",\"2015-02-01T00:00:00\",\"2015-03-01T00:00:00\",\"2015-04-01T00:00:00\",\"2015-05-01T00:00:00\",\"2015-06-01T00:00:00\",\"2015-07-01T00:00:00\",\"2015-08-01T00:00:00\",\"2015-09-01T00:00:00\",\"2015-10-01T00:00:00\",\"2015-11-01T00:00:00\",\"2015-12-01T00:00:00\",\"2016-01-01T00:00:00\",\"2016-02-01T00:00:00\",\"2016-03-01T00:00:00\",\"2016-04-01T00:00:00\",\"2016-05-01T00:00:00\",\"2016-06-01T00:00:00\",\"2016-07-01T00:00:00\",\"2016-08-01T00:00:00\",\"2016-09-01T00:00:00\",\"2016-10-01T00:00:00\",\"2016-11-01T00:00:00\",\"2016-12-01T00:00:00\",\"2017-01-01T00:00:00\",\"2017-02-01T00:00:00\",\"2017-03-01T00:00:00\",\"2017-04-01T00:00:00\",\"2017-05-01T00:00:00\",\"2017-06-01T00:00:00\",\"2017-07-01T00:00:00\",\"2017-08-01T00:00:00\",\"2017-09-01T00:00:00\",\"2017-10-01T00:00:00\",\"2017-11-01T00:00:00\",\"2017-12-01T00:00:00\"],\"xaxis\":\"x\",\"y\":[1190.2816674616531,1225.704951252602,1855.8144754421883,1855.8144754421883,2015.27544576875,2063.650459612104,2234.1507253158284,2052.138329484231,1953.5075272965953,1888.109451007121,1810.967109789774,1311.4856690614815,1477.5158076939267,1500.6059109112146,1999.8967127114522,2094.1011566362376,2137.8578599202983,2546.4083769913273,2785.622751835347,2520.8364154006376,2236.2769671219153,2080.504324707888,2193.163727981871,1517.3558479456956,1379.937997569243,1349.8554695522905,2053.999552519358,2366.8491320347566,2506.9193132752716,2608.847742786755,2753.932398247305,2491.0682596074375,2255.895270305266,2190.3725547683393,2378.662029743623,1622.1049207406943,1544.1369703579587,1514.0544423410063,2159.339694369789,2472.1892738851875,2943.281623201796,2979.0947382982795,3247.8845258158963,2855.3571453632126,2699.6850149371226,2368.4228685943394,2550.96242643862,1778.6096079406184,1969.7625645098515,1939.6800364928986,2276.0066127137256,2588.856192229124,2786.7704463435343,2837.0795320155635,3011.7133297175433,2706.1664936985903,2517.6273151169366,2228.059192218827,2401.784487620827,1778.6096079406184],\"yaxis\":\"y\",\"type\":\"scatter\"}],                        {\"template\":{\"data\":{\"barpolar\":[{\"marker\":{\"line\":{\"color\":\"rgb(17,17,17)\",\"width\":0.5},\"pattern\":{\"fillmode\":\"overlay\",\"size\":10,\"solidity\":0.2}},\"type\":\"barpolar\"}],\"bar\":[{\"error_x\":{\"color\":\"#f2f5fa\"},\"error_y\":{\"color\":\"#f2f5fa\"},\"marker\":{\"line\":{\"color\":\"rgb(17,17,17)\",\"width\":0.5},\"pattern\":{\"fillmode\":\"overlay\",\"size\":10,\"solidity\":0.2}},\"type\":\"bar\"}],\"carpet\":[{\"aaxis\":{\"endlinecolor\":\"#A2B1C6\",\"gridcolor\":\"#506784\",\"linecolor\":\"#506784\",\"minorgridcolor\":\"#506784\",\"startlinecolor\":\"#A2B1C6\"},\"baxis\":{\"endlinecolor\":\"#A2B1C6\",\"gridcolor\":\"#506784\",\"linecolor\":\"#506784\",\"minorgridcolor\":\"#506784\",\"startlinecolor\":\"#A2B1C6\"},\"type\":\"carpet\"}],\"choropleth\":[{\"colorbar\":{\"outlinewidth\":0,\"ticks\":\"\"},\"type\":\"choropleth\"}],\"contourcarpet\":[{\"colorbar\":{\"outlinewidth\":0,\"ticks\":\"\"},\"type\":\"contourcarpet\"}],\"contour\":[{\"colorbar\":{\"outlinewidth\":0,\"ticks\":\"\"},\"colorscale\":[[0.0,\"#0d0887\"],[0.1111111111111111,\"#46039f\"],[0.2222222222222222,\"#7201a8\"],[0.3333333333333333,\"#9c179e\"],[0.4444444444444444,\"#bd3786\"],[0.5555555555555556,\"#d8576b\"],[0.6666666666666666,\"#ed7953\"],[0.7777777777777778,\"#fb9f3a\"],[0.8888888888888888,\"#fdca26\"],[1.0,\"#f0f921\"]],\"type\":\"contour\"}],\"heatmapgl\":[{\"colorbar\":{\"outlinewidth\":0,\"ticks\":\"\"},\"colorscale\":[[0.0,\"#0d0887\"],[0.1111111111111111,\"#46039f\"],[0.2222222222222222,\"#7201a8\"],[0.3333333333333333,\"#9c179e\"],[0.4444444444444444,\"#bd3786\"],[0.5555555555555556,\"#d8576b\"],[0.6666666666666666,\"#ed7953\"],[0.7777777777777778,\"#fb9f3a\"],[0.8888888888888888,\"#fdca26\"],[1.0,\"#f0f921\"]],\"type\":\"heatmapgl\"}],\"heatmap\":[{\"colorbar\":{\"outlinewidth\":0,\"ticks\":\"\"},\"colorscale\":[[0.0,\"#0d0887\"],[0.1111111111111111,\"#46039f\"],[0.2222222222222222,\"#7201a8\"],[0.3333333333333333,\"#9c179e\"],[0.4444444444444444,\"#bd3786\"],[0.5555555555555556,\"#d8576b\"],[0.6666666666666666,\"#ed7953\"],[0.7777777777777778,\"#fb9f3a\"],[0.8888888888888888,\"#fdca26\"],[1.0,\"#f0f921\"]],\"type\":\"heatmap\"}],\"histogram2dcontour\":[{\"colorbar\":{\"outlinewidth\":0,\"ticks\":\"\"},\"colorscale\":[[0.0,\"#0d0887\"],[0.1111111111111111,\"#46039f\"],[0.2222222222222222,\"#7201a8\"],[0.3333333333333333,\"#9c179e\"],[0.4444444444444444,\"#bd3786\"],[0.5555555555555556,\"#d8576b\"],[0.6666666666666666,\"#ed7953\"],[0.7777777777777778,\"#fb9f3a\"],[0.8888888888888888,\"#fdca26\"],[1.0,\"#f0f921\"]],\"type\":\"histogram2dcontour\"}],\"histogram2d\":[{\"colorbar\":{\"outlinewidth\":0,\"ticks\":\"\"},\"colorscale\":[[0.0,\"#0d0887\"],[0.1111111111111111,\"#46039f\"],[0.2222222222222222,\"#7201a8\"],[0.3333333333333333,\"#9c179e\"],[0.4444444444444444,\"#bd3786\"],[0.5555555555555556,\"#d8576b\"],[0.6666666666666666,\"#ed7953\"],[0.7777777777777778,\"#fb9f3a\"],[0.8888888888888888,\"#fdca26\"],[1.0,\"#f0f921\"]],\"type\":\"histogram2d\"}],\"histogram\":[{\"marker\":{\"pattern\":{\"fillmode\":\"overlay\",\"size\":10,\"solidity\":0.2}},\"type\":\"histogram\"}],\"mesh3d\":[{\"colorbar\":{\"outlinewidth\":0,\"ticks\":\"\"},\"type\":\"mesh3d\"}],\"parcoords\":[{\"line\":{\"colorbar\":{\"outlinewidth\":0,\"ticks\":\"\"}},\"type\":\"parcoords\"}],\"pie\":[{\"automargin\":true,\"type\":\"pie\"}],\"scatter3d\":[{\"line\":{\"colorbar\":{\"outlinewidth\":0,\"ticks\":\"\"}},\"marker\":{\"colorbar\":{\"outlinewidth\":0,\"ticks\":\"\"}},\"type\":\"scatter3d\"}],\"scattercarpet\":[{\"marker\":{\"colorbar\":{\"outlinewidth\":0,\"ticks\":\"\"}},\"type\":\"scattercarpet\"}],\"scattergeo\":[{\"marker\":{\"colorbar\":{\"outlinewidth\":0,\"ticks\":\"\"}},\"type\":\"scattergeo\"}],\"scattergl\":[{\"marker\":{\"line\":{\"color\":\"#283442\"}},\"type\":\"scattergl\"}],\"scattermapbox\":[{\"marker\":{\"colorbar\":{\"outlinewidth\":0,\"ticks\":\"\"}},\"type\":\"scattermapbox\"}],\"scatterpolargl\":[{\"marker\":{\"colorbar\":{\"outlinewidth\":0,\"ticks\":\"\"}},\"type\":\"scatterpolargl\"}],\"scatterpolar\":[{\"marker\":{\"colorbar\":{\"outlinewidth\":0,\"ticks\":\"\"}},\"type\":\"scatterpolar\"}],\"scatter\":[{\"marker\":{\"line\":{\"color\":\"#283442\"}},\"type\":\"scatter\"}],\"scatterternary\":[{\"marker\":{\"colorbar\":{\"outlinewidth\":0,\"ticks\":\"\"}},\"type\":\"scatterternary\"}],\"surface\":[{\"colorbar\":{\"outlinewidth\":0,\"ticks\":\"\"},\"colorscale\":[[0.0,\"#0d0887\"],[0.1111111111111111,\"#46039f\"],[0.2222222222222222,\"#7201a8\"],[0.3333333333333333,\"#9c179e\"],[0.4444444444444444,\"#bd3786\"],[0.5555555555555556,\"#d8576b\"],[0.6666666666666666,\"#ed7953\"],[0.7777777777777778,\"#fb9f3a\"],[0.8888888888888888,\"#fdca26\"],[1.0,\"#f0f921\"]],\"type\":\"surface\"}],\"table\":[{\"cells\":{\"fill\":{\"color\":\"#506784\"},\"line\":{\"color\":\"rgb(17,17,17)\"}},\"header\":{\"fill\":{\"color\":\"#2a3f5f\"},\"line\":{\"color\":\"rgb(17,17,17)\"}},\"type\":\"table\"}]},\"layout\":{\"annotationdefaults\":{\"arrowcolor\":\"#f2f5fa\",\"arrowhead\":0,\"arrowwidth\":1},\"autotypenumbers\":\"strict\",\"coloraxis\":{\"colorbar\":{\"outlinewidth\":0,\"ticks\":\"\"}},\"colorscale\":{\"diverging\":[[0,\"#8e0152\"],[0.1,\"#c51b7d\"],[0.2,\"#de77ae\"],[0.3,\"#f1b6da\"],[0.4,\"#fde0ef\"],[0.5,\"#f7f7f7\"],[0.6,\"#e6f5d0\"],[0.7,\"#b8e186\"],[0.8,\"#7fbc41\"],[0.9,\"#4d9221\"],[1,\"#276419\"]],\"sequential\":[[0.0,\"#0d0887\"],[0.1111111111111111,\"#46039f\"],[0.2222222222222222,\"#7201a8\"],[0.3333333333333333,\"#9c179e\"],[0.4444444444444444,\"#bd3786\"],[0.5555555555555556,\"#d8576b\"],[0.6666666666666666,\"#ed7953\"],[0.7777777777777778,\"#fb9f3a\"],[0.8888888888888888,\"#fdca26\"],[1.0,\"#f0f921\"]],\"sequentialminus\":[[0.0,\"#0d0887\"],[0.1111111111111111,\"#46039f\"],[0.2222222222222222,\"#7201a8\"],[0.3333333333333333,\"#9c179e\"],[0.4444444444444444,\"#bd3786\"],[0.5555555555555556,\"#d8576b\"],[0.6666666666666666,\"#ed7953\"],[0.7777777777777778,\"#fb9f3a\"],[0.8888888888888888,\"#fdca26\"],[1.0,\"#f0f921\"]]},\"colorway\":[\"#636efa\",\"#EF553B\",\"#00cc96\",\"#ab63fa\",\"#FFA15A\",\"#19d3f3\",\"#FF6692\",\"#B6E880\",\"#FF97FF\",\"#FECB52\"],\"font\":{\"color\":\"#f2f5fa\"},\"geo\":{\"bgcolor\":\"rgb(17,17,17)\",\"lakecolor\":\"rgb(17,17,17)\",\"landcolor\":\"rgb(17,17,17)\",\"showlakes\":true,\"showland\":true,\"subunitcolor\":\"#506784\"},\"hoverlabel\":{\"align\":\"left\"},\"hovermode\":\"closest\",\"mapbox\":{\"style\":\"dark\"},\"paper_bgcolor\":\"rgb(17,17,17)\",\"plot_bgcolor\":\"rgb(17,17,17)\",\"polar\":{\"angularaxis\":{\"gridcolor\":\"#506784\",\"linecolor\":\"#506784\",\"ticks\":\"\"},\"bgcolor\":\"rgb(17,17,17)\",\"radialaxis\":{\"gridcolor\":\"#506784\",\"linecolor\":\"#506784\",\"ticks\":\"\"}},\"scene\":{\"xaxis\":{\"backgroundcolor\":\"rgb(17,17,17)\",\"gridcolor\":\"#506784\",\"gridwidth\":2,\"linecolor\":\"#506784\",\"showbackground\":true,\"ticks\":\"\",\"zerolinecolor\":\"#C8D4E3\"},\"yaxis\":{\"backgroundcolor\":\"rgb(17,17,17)\",\"gridcolor\":\"#506784\",\"gridwidth\":2,\"linecolor\":\"#506784\",\"showbackground\":true,\"ticks\":\"\",\"zerolinecolor\":\"#C8D4E3\"},\"zaxis\":{\"backgroundcolor\":\"rgb(17,17,17)\",\"gridcolor\":\"#506784\",\"gridwidth\":2,\"linecolor\":\"#506784\",\"showbackground\":true,\"ticks\":\"\",\"zerolinecolor\":\"#C8D4E3\"}},\"shapedefaults\":{\"line\":{\"color\":\"#f2f5fa\"}},\"sliderdefaults\":{\"bgcolor\":\"#C8D4E3\",\"bordercolor\":\"rgb(17,17,17)\",\"borderwidth\":1,\"tickwidth\":0},\"ternary\":{\"aaxis\":{\"gridcolor\":\"#506784\",\"linecolor\":\"#506784\",\"ticks\":\"\"},\"baxis\":{\"gridcolor\":\"#506784\",\"linecolor\":\"#506784\",\"ticks\":\"\"},\"bgcolor\":\"rgb(17,17,17)\",\"caxis\":{\"gridcolor\":\"#506784\",\"linecolor\":\"#506784\",\"ticks\":\"\"}},\"title\":{\"x\":0.05},\"updatemenudefaults\":{\"bgcolor\":\"#506784\",\"borderwidth\":0},\"xaxis\":{\"automargin\":true,\"gridcolor\":\"#283442\",\"linecolor\":\"#506784\",\"ticks\":\"\",\"title\":{\"standoff\":15},\"zerolinecolor\":\"#283442\",\"zerolinewidth\":2},\"yaxis\":{\"automargin\":true,\"gridcolor\":\"#283442\",\"linecolor\":\"#506784\",\"ticks\":\"\",\"title\":{\"standoff\":15},\"zerolinecolor\":\"#283442\",\"zerolinewidth\":2}}},\"xaxis\":{\"anchor\":\"y\",\"domain\":[0.0,1.0],\"title\":{\"text\":\"Date\"}},\"yaxis\":{\"anchor\":\"x\",\"domain\":[0.0,1.0],\"title\":{\"text\":\"value\"}},\"legend\":{\"title\":{\"text\":\"variable\"},\"tracegroupgap\":0},\"margin\":{\"t\":60},\"shapes\":[{\"fillcolor\":\"grey\",\"line\":{\"width\":0},\"opacity\":0.25,\"type\":\"rect\",\"x0\":\"2017-01-01\",\"x1\":\"2017-12-01\",\"xref\":\"x\",\"y0\":0,\"y1\":1,\"yref\":\"y domain\"}]},                        {\"responsive\": true}                    ).then(function(){\n",
       "                            \n",
       "var gd = document.getElementById('5540a2b9-8695-4dec-bbca-9d30ba1d2539');\n",
       "var x = new MutationObserver(function (mutations, observer) {{\n",
       "        var display = window.getComputedStyle(gd).display;\n",
       "        if (!display || display === 'none') {{\n",
       "            console.log([gd, 'removed!']);\n",
       "            Plotly.purge(gd);\n",
       "            observer.disconnect();\n",
       "        }}\n",
       "}});\n",
       "\n",
       "// Listen for the removal of the full notebook cells\n",
       "var notebookContainer = gd.closest('#notebook-container');\n",
       "if (notebookContainer) {{\n",
       "    x.observe(notebookContainer, {childList: true});\n",
       "}}\n",
       "\n",
       "// Listen for the clearing of the current output cell\n",
       "var outputEl = gd.closest('.output');\n",
       "if (outputEl) {{\n",
       "    x.observe(outputEl, {childList: true});\n",
       "}}\n",
       "\n",
       "                        })                };                });            </script>        </div>"
      ]
     },
     "metadata": {},
     "output_type": "display_data"
    }
   ],
   "source": [
    "predictions = predict_model(best, data)\n",
    "\n",
    "import plotly.express as px\n",
    "# add a date column in the dataset\n",
    "predictions['Date'] = pd.date_range(start='2013-01-01', end = '2017-12-01', freq = 'MS')\n",
    "# line plot\n",
    "fig = px.line(predictions, x='Date', y= ['sales', 'Label'], template = 'plotly_dark')\n",
    "# add a vertical rectange for test-set separation\n",
    "fig.add_vrect(x0=\"2017-01-01\", x1=\"2017-12-01\", fillcolor=\"grey\", opacity=0.25, line_width=0)\n",
    "fig.show() "
   ]
  },
  {
   "cell_type": "code",
   "execution_count": 143,
   "id": "bf123633-8455-42b3-a8fd-49f3b8beb82a",
   "metadata": {},
   "outputs": [
    {
     "data": {
      "text/html": [],
      "text/plain": [
       "<IPython.core.display.HTML object>"
      ]
     },
     "metadata": {},
     "output_type": "display_data"
    },
    {
     "data": {
      "text/html": [
       "<style type=\"text/css\">\n",
       "#T_e5599_row10_col0, #T_e5599_row10_col1, #T_e5599_row10_col2, #T_e5599_row10_col3, #T_e5599_row10_col4, #T_e5599_row10_col5, #T_e5599_row12_col0, #T_e5599_row12_col1, #T_e5599_row12_col2, #T_e5599_row12_col3, #T_e5599_row12_col4, #T_e5599_row12_col5 {\n",
       "  background: yellow;\n",
       "}\n",
       "</style>\n",
       "<table id=\"T_e5599\">\n",
       "  <thead>\n",
       "    <tr>\n",
       "      <th class=\"blank\" >&nbsp;</th>\n",
       "      <th class=\"blank level0\" >&nbsp;</th>\n",
       "      <th id=\"T_e5599_level0_col0\" class=\"col_heading level0 col0\" >MAE</th>\n",
       "      <th id=\"T_e5599_level0_col1\" class=\"col_heading level0 col1\" >MSE</th>\n",
       "      <th id=\"T_e5599_level0_col2\" class=\"col_heading level0 col2\" >RMSE</th>\n",
       "      <th id=\"T_e5599_level0_col3\" class=\"col_heading level0 col3\" >R2</th>\n",
       "      <th id=\"T_e5599_level0_col4\" class=\"col_heading level0 col4\" >RMSLE</th>\n",
       "      <th id=\"T_e5599_level0_col5\" class=\"col_heading level0 col5\" >MAPE</th>\n",
       "    </tr>\n",
       "    <tr>\n",
       "      <th class=\"index_name level0\" >Split</th>\n",
       "      <th class=\"index_name level1\" >Fold</th>\n",
       "      <th class=\"blank col0\" >&nbsp;</th>\n",
       "      <th class=\"blank col1\" >&nbsp;</th>\n",
       "      <th class=\"blank col2\" >&nbsp;</th>\n",
       "      <th class=\"blank col3\" >&nbsp;</th>\n",
       "      <th class=\"blank col4\" >&nbsp;</th>\n",
       "      <th class=\"blank col5\" >&nbsp;</th>\n",
       "    </tr>\n",
       "  </thead>\n",
       "  <tbody>\n",
       "    <tr>\n",
       "      <th id=\"T_e5599_level0_row0\" class=\"row_heading level0 row0\" rowspan=\"5\">CV-Train</th>\n",
       "      <th id=\"T_e5599_level1_row0\" class=\"row_heading level1 row0\" >0</th>\n",
       "      <td id=\"T_e5599_row0_col0\" class=\"data row0 col0\" >179.6517</td>\n",
       "      <td id=\"T_e5599_row0_col1\" class=\"data row0 col1\" >50015.4887</td>\n",
       "      <td id=\"T_e5599_row0_col2\" class=\"data row0 col2\" >223.6414</td>\n",
       "      <td id=\"T_e5599_row0_col3\" class=\"data row0 col3\" >-0.0117</td>\n",
       "      <td id=\"T_e5599_row0_col4\" class=\"data row0 col4\" >0.2200</td>\n",
       "      <td id=\"T_e5599_row0_col5\" class=\"data row0 col5\" >0.1842</td>\n",
       "    </tr>\n",
       "    <tr>\n",
       "      <th id=\"T_e5599_level1_row1\" class=\"row_heading level1 row1\" >1</th>\n",
       "      <td id=\"T_e5599_row1_col0\" class=\"data row1 col0\" >48.0604</td>\n",
       "      <td id=\"T_e5599_row1_col1\" class=\"data row1 col1\" >3095.6664</td>\n",
       "      <td id=\"T_e5599_row1_col2\" class=\"data row1 col2\" >55.6387</td>\n",
       "      <td id=\"T_e5599_row1_col3\" class=\"data row1 col3\" >0.9260</td>\n",
       "      <td id=\"T_e5599_row1_col4\" class=\"data row1 col4\" >0.0554</td>\n",
       "      <td id=\"T_e5599_row1_col5\" class=\"data row1 col5\" >0.0465</td>\n",
       "    </tr>\n",
       "    <tr>\n",
       "      <th id=\"T_e5599_level1_row2\" class=\"row_heading level1 row2\" >2</th>\n",
       "      <td id=\"T_e5599_row2_col0\" class=\"data row2 col0\" >26.8830</td>\n",
       "      <td id=\"T_e5599_row2_col1\" class=\"data row2 col1\" >942.1811</td>\n",
       "      <td id=\"T_e5599_row2_col2\" class=\"data row2 col2\" >30.6950</td>\n",
       "      <td id=\"T_e5599_row2_col3\" class=\"data row2 col3\" >0.9781</td>\n",
       "      <td id=\"T_e5599_row2_col4\" class=\"data row2 col4\" >0.0280</td>\n",
       "      <td id=\"T_e5599_row2_col5\" class=\"data row2 col5\" >0.0248</td>\n",
       "    </tr>\n",
       "    <tr>\n",
       "      <th id=\"T_e5599_level1_row3\" class=\"row_heading level1 row3\" >3</th>\n",
       "      <td id=\"T_e5599_row3_col0\" class=\"data row3 col0\" >21.8757</td>\n",
       "      <td id=\"T_e5599_row3_col1\" class=\"data row3 col1\" >792.0152</td>\n",
       "      <td id=\"T_e5599_row3_col2\" class=\"data row3 col2\" >28.1428</td>\n",
       "      <td id=\"T_e5599_row3_col3\" class=\"data row3 col3\" >0.9861</td>\n",
       "      <td id=\"T_e5599_row3_col4\" class=\"data row3 col4\" >0.0245</td>\n",
       "      <td id=\"T_e5599_row3_col5\" class=\"data row3 col5\" >0.0200</td>\n",
       "    </tr>\n",
       "    <tr>\n",
       "      <th id=\"T_e5599_level1_row4\" class=\"row_heading level1 row4\" >4</th>\n",
       "      <td id=\"T_e5599_row4_col0\" class=\"data row4 col0\" >15.5982</td>\n",
       "      <td id=\"T_e5599_row4_col1\" class=\"data row4 col1\" >402.5907</td>\n",
       "      <td id=\"T_e5599_row4_col2\" class=\"data row4 col2\" >20.0647</td>\n",
       "      <td id=\"T_e5599_row4_col3\" class=\"data row4 col3\" >0.9928</td>\n",
       "      <td id=\"T_e5599_row4_col4\" class=\"data row4 col4\" >0.0178</td>\n",
       "      <td id=\"T_e5599_row4_col5\" class=\"data row4 col5\" >0.0145</td>\n",
       "    </tr>\n",
       "    <tr>\n",
       "      <th id=\"T_e5599_level0_row5\" class=\"row_heading level0 row5\" rowspan=\"5\">CV-Val</th>\n",
       "      <th id=\"T_e5599_level1_row5\" class=\"row_heading level1 row5\" >0</th>\n",
       "      <td id=\"T_e5599_row5_col0\" class=\"data row5 col0\" >177.6933</td>\n",
       "      <td id=\"T_e5599_row5_col1\" class=\"data row5 col1\" >46648.2735</td>\n",
       "      <td id=\"T_e5599_row5_col2\" class=\"data row5 col2\" >215.9821</td>\n",
       "      <td id=\"T_e5599_row5_col3\" class=\"data row5 col3\" >-2.0947</td>\n",
       "      <td id=\"T_e5599_row5_col4\" class=\"data row5 col4\" >0.2107</td>\n",
       "      <td id=\"T_e5599_row5_col5\" class=\"data row5 col5\" >0.1949</td>\n",
       "    </tr>\n",
       "    <tr>\n",
       "      <th id=\"T_e5599_level1_row6\" class=\"row_heading level1 row6\" >1</th>\n",
       "      <td id=\"T_e5599_row6_col0\" class=\"data row6 col0\" >105.7077</td>\n",
       "      <td id=\"T_e5599_row6_col1\" class=\"data row6 col1\" >15068.1483</td>\n",
       "      <td id=\"T_e5599_row6_col2\" class=\"data row6 col2\" >122.7524</td>\n",
       "      <td id=\"T_e5599_row6_col3\" class=\"data row6 col3\" >0.6655</td>\n",
       "      <td id=\"T_e5599_row6_col4\" class=\"data row6 col4\" >0.1129</td>\n",
       "      <td id=\"T_e5599_row6_col5\" class=\"data row6 col5\" >0.0995</td>\n",
       "    </tr>\n",
       "    <tr>\n",
       "      <th id=\"T_e5599_level1_row7\" class=\"row_heading level1 row7\" >2</th>\n",
       "      <td id=\"T_e5599_row7_col0\" class=\"data row7 col0\" >123.5349</td>\n",
       "      <td id=\"T_e5599_row7_col1\" class=\"data row7 col1\" >16144.7460</td>\n",
       "      <td id=\"T_e5599_row7_col2\" class=\"data row7 col2\" >127.0620</td>\n",
       "      <td id=\"T_e5599_row7_col3\" class=\"data row7 col3\" >0.8452</td>\n",
       "      <td id=\"T_e5599_row7_col4\" class=\"data row7 col4\" >0.1323</td>\n",
       "      <td id=\"T_e5599_row7_col5\" class=\"data row7 col5\" >0.1297</td>\n",
       "    </tr>\n",
       "    <tr>\n",
       "      <th id=\"T_e5599_level1_row8\" class=\"row_heading level1 row8\" >3</th>\n",
       "      <td id=\"T_e5599_row8_col0\" class=\"data row8 col0\" >41.7711</td>\n",
       "      <td id=\"T_e5599_row8_col1\" class=\"data row8 col1\" >1916.9753</td>\n",
       "      <td id=\"T_e5599_row8_col2\" class=\"data row8 col2\" >43.7833</td>\n",
       "      <td id=\"T_e5599_row8_col3\" class=\"data row8 col3\" >0.9581</td>\n",
       "      <td id=\"T_e5599_row8_col4\" class=\"data row8 col4\" >0.0441</td>\n",
       "      <td id=\"T_e5599_row8_col5\" class=\"data row8 col5\" >0.0420</td>\n",
       "    </tr>\n",
       "    <tr>\n",
       "      <th id=\"T_e5599_level1_row9\" class=\"row_heading level1 row9\" >4</th>\n",
       "      <td id=\"T_e5599_row9_col0\" class=\"data row9 col0\" >65.7548</td>\n",
       "      <td id=\"T_e5599_row9_col1\" class=\"data row9 col1\" >6509.4290</td>\n",
       "      <td id=\"T_e5599_row9_col2\" class=\"data row9 col2\" >80.6810</td>\n",
       "      <td id=\"T_e5599_row9_col3\" class=\"data row9 col3\" >0.8482</td>\n",
       "      <td id=\"T_e5599_row9_col4\" class=\"data row9 col4\" >0.0973</td>\n",
       "      <td id=\"T_e5599_row9_col5\" class=\"data row9 col5\" >0.0746</td>\n",
       "    </tr>\n",
       "    <tr>\n",
       "      <th id=\"T_e5599_level0_row10\" class=\"row_heading level0 row10\" rowspan=\"2\">CV-Train</th>\n",
       "      <th id=\"T_e5599_level1_row10\" class=\"row_heading level1 row10\" >Mean</th>\n",
       "      <td id=\"T_e5599_row10_col0\" class=\"data row10 col0\" >58.4138</td>\n",
       "      <td id=\"T_e5599_row10_col1\" class=\"data row10 col1\" >11049.5884</td>\n",
       "      <td id=\"T_e5599_row10_col2\" class=\"data row10 col2\" >71.6365</td>\n",
       "      <td id=\"T_e5599_row10_col3\" class=\"data row10 col3\" >0.7743</td>\n",
       "      <td id=\"T_e5599_row10_col4\" class=\"data row10 col4\" >0.0691</td>\n",
       "      <td id=\"T_e5599_row10_col5\" class=\"data row10 col5\" >0.0580</td>\n",
       "    </tr>\n",
       "    <tr>\n",
       "      <th id=\"T_e5599_level1_row11\" class=\"row_heading level1 row11\" >Std</th>\n",
       "      <td id=\"T_e5599_row11_col0\" class=\"data row11 col0\" >61.5925</td>\n",
       "      <td id=\"T_e5599_row11_col1\" class=\"data row11 col1\" >19505.6008</td>\n",
       "      <td id=\"T_e5599_row11_col2\" class=\"data row11 col2\" >76.9272</td>\n",
       "      <td id=\"T_e5599_row11_col3\" class=\"data row11 col3\" >0.3937</td>\n",
       "      <td id=\"T_e5599_row11_col4\" class=\"data row11 col4\" >0.0765</td>\n",
       "      <td id=\"T_e5599_row11_col5\" class=\"data row11 col5\" >0.0640</td>\n",
       "    </tr>\n",
       "    <tr>\n",
       "      <th id=\"T_e5599_level0_row12\" class=\"row_heading level0 row12\" rowspan=\"2\">CV-Val</th>\n",
       "      <th id=\"T_e5599_level1_row12\" class=\"row_heading level1 row12\" >Mean</th>\n",
       "      <td id=\"T_e5599_row12_col0\" class=\"data row12 col0\" >102.8924</td>\n",
       "      <td id=\"T_e5599_row12_col1\" class=\"data row12 col1\" >17257.5144</td>\n",
       "      <td id=\"T_e5599_row12_col2\" class=\"data row12 col2\" >118.0522</td>\n",
       "      <td id=\"T_e5599_row12_col3\" class=\"data row12 col3\" >0.2445</td>\n",
       "      <td id=\"T_e5599_row12_col4\" class=\"data row12 col4\" >0.1194</td>\n",
       "      <td id=\"T_e5599_row12_col5\" class=\"data row12 col5\" >0.1081</td>\n",
       "    </tr>\n",
       "    <tr>\n",
       "      <th id=\"T_e5599_level1_row13\" class=\"row_heading level1 row13\" >Std</th>\n",
       "      <td id=\"T_e5599_row13_col0\" class=\"data row13 col0\" >47.2107</td>\n",
       "      <td id=\"T_e5599_row13_col1\" class=\"data row13 col1\" >15624.9914</td>\n",
       "      <td id=\"T_e5599_row13_col2\" class=\"data row13 col2\" >57.6299</td>\n",
       "      <td id=\"T_e5599_row13_col3\" class=\"data row13 col3\" >1.1734</td>\n",
       "      <td id=\"T_e5599_row13_col4\" class=\"data row13 col4\" >0.0542</td>\n",
       "      <td id=\"T_e5599_row13_col5\" class=\"data row13 col5\" >0.0521</td>\n",
       "    </tr>\n",
       "    <tr>\n",
       "      <th id=\"T_e5599_level0_row14\" class=\"row_heading level0 row14\" >Train</th>\n",
       "      <th id=\"T_e5599_level1_row14\" class=\"row_heading level1 row14\" >nan</th>\n",
       "      <td id=\"T_e5599_row14_col0\" class=\"data row14 col0\" >33.3586</td>\n",
       "      <td id=\"T_e5599_row14_col1\" class=\"data row14 col1\" >1661.0971</td>\n",
       "      <td id=\"T_e5599_row14_col2\" class=\"data row14 col2\" >40.7566</td>\n",
       "      <td id=\"T_e5599_row14_col3\" class=\"data row14 col3\" >0.9938</td>\n",
       "      <td id=\"T_e5599_row14_col4\" class=\"data row14 col4\" >0.0204</td>\n",
       "      <td id=\"T_e5599_row14_col5\" class=\"data row14 col5\" >0.0161</td>\n",
       "    </tr>\n",
       "  </tbody>\n",
       "</table>\n"
      ],
      "text/plain": [
       "<pandas.io.formats.style.Styler at 0x24aa1b0c1c0>"
      ]
     },
     "metadata": {},
     "output_type": "display_data"
    },
    {
     "data": {
      "application/vnd.jupyter.widget-view+json": {
       "model_id": "",
       "version_major": 2,
       "version_minor": 0
      },
      "text/plain": [
       "Processing:   0%|          | 0/7 [00:00<?, ?it/s]"
      ]
     },
     "metadata": {},
     "output_type": "display_data"
    },
    {
     "name": "stdout",
     "output_type": "stream",
     "text": [
      "Fitting 5 folds for each of 10 candidates, totalling 50 fits\n",
      "Original model was better than the tuned model, hence it will be returned. NOTE: The display metrics are for the tuned model (not the original one).\n",
      "Original model was better than the tuned model, hence it will be returned. NOTE: The display metrics are for the tuned model (not the original one).\n"
     ]
    },
    {
     "data": {
      "text/html": [
       "<style>#sk-container-id-1 {color: black;background-color: white;}#sk-container-id-1 pre{padding: 0;}#sk-container-id-1 div.sk-toggleable {background-color: white;}#sk-container-id-1 label.sk-toggleable__label {cursor: pointer;display: block;width: 100%;margin-bottom: 0;padding: 0.3em;box-sizing: border-box;text-align: center;}#sk-container-id-1 label.sk-toggleable__label-arrow:before {content: \"▸\";float: left;margin-right: 0.25em;color: #696969;}#sk-container-id-1 label.sk-toggleable__label-arrow:hover:before {color: black;}#sk-container-id-1 div.sk-estimator:hover label.sk-toggleable__label-arrow:before {color: black;}#sk-container-id-1 div.sk-toggleable__content {max-height: 0;max-width: 0;overflow: hidden;text-align: left;background-color: #f0f8ff;}#sk-container-id-1 div.sk-toggleable__content pre {margin: 0.2em;color: black;border-radius: 0.25em;background-color: #f0f8ff;}#sk-container-id-1 input.sk-toggleable__control:checked~div.sk-toggleable__content {max-height: 200px;max-width: 100%;overflow: auto;}#sk-container-id-1 input.sk-toggleable__control:checked~label.sk-toggleable__label-arrow:before {content: \"▾\";}#sk-container-id-1 div.sk-estimator input.sk-toggleable__control:checked~label.sk-toggleable__label {background-color: #d4ebff;}#sk-container-id-1 div.sk-label input.sk-toggleable__control:checked~label.sk-toggleable__label {background-color: #d4ebff;}#sk-container-id-1 input.sk-hidden--visually {border: 0;clip: rect(1px 1px 1px 1px);clip: rect(1px, 1px, 1px, 1px);height: 1px;margin: -1px;overflow: hidden;padding: 0;position: absolute;width: 1px;}#sk-container-id-1 div.sk-estimator {font-family: monospace;background-color: #f0f8ff;border: 1px dotted black;border-radius: 0.25em;box-sizing: border-box;margin-bottom: 0.5em;}#sk-container-id-1 div.sk-estimator:hover {background-color: #d4ebff;}#sk-container-id-1 div.sk-parallel-item::after {content: \"\";width: 100%;border-bottom: 1px solid gray;flex-grow: 1;}#sk-container-id-1 div.sk-label:hover label.sk-toggleable__label {background-color: #d4ebff;}#sk-container-id-1 div.sk-serial::before {content: \"\";position: absolute;border-left: 1px solid gray;box-sizing: border-box;top: 0;bottom: 0;left: 50%;z-index: 0;}#sk-container-id-1 div.sk-serial {display: flex;flex-direction: column;align-items: center;background-color: white;padding-right: 0.2em;padding-left: 0.2em;position: relative;}#sk-container-id-1 div.sk-item {position: relative;z-index: 1;}#sk-container-id-1 div.sk-parallel {display: flex;align-items: stretch;justify-content: center;background-color: white;position: relative;}#sk-container-id-1 div.sk-item::before, #sk-container-id-1 div.sk-parallel-item::before {content: \"\";position: absolute;border-left: 1px solid gray;box-sizing: border-box;top: 0;bottom: 0;left: 50%;z-index: -1;}#sk-container-id-1 div.sk-parallel-item {display: flex;flex-direction: column;z-index: 1;position: relative;background-color: white;}#sk-container-id-1 div.sk-parallel-item:first-child::after {align-self: flex-end;width: 50%;}#sk-container-id-1 div.sk-parallel-item:last-child::after {align-self: flex-start;width: 50%;}#sk-container-id-1 div.sk-parallel-item:only-child::after {width: 0;}#sk-container-id-1 div.sk-dashed-wrapped {border: 1px dashed gray;margin: 0 0.4em 0.5em 0.4em;box-sizing: border-box;padding-bottom: 0.4em;background-color: white;}#sk-container-id-1 div.sk-label label {font-family: monospace;font-weight: bold;display: inline-block;line-height: 1.2em;}#sk-container-id-1 div.sk-label-container {text-align: center;}#sk-container-id-1 div.sk-container {/* jupyter's `normalize.less` sets `[hidden] { display: none; }` but bootstrap.min.css set `[hidden] { display: none !important; }` so we also need the `!important` here to be able to override the default hidden behavior on the sphinx rendered scikit-learn.org. See: https://github.com/scikit-learn/scikit-learn/issues/21755 */display: inline-block !important;position: relative;}#sk-container-id-1 div.sk-text-repr-fallback {display: none;}</style><div id=\"sk-container-id-1\" class=\"sk-top-container\"><div class=\"sk-text-repr-fallback\"><pre>GradientBoostingRegressor(learning_rate=0.05, max_depth=5, max_features=&#x27;log2&#x27;,\n",
       "                          min_impurity_decrease=0.01, min_samples_split=9,\n",
       "                          n_estimators=120, random_state=5397, subsample=0.8)</pre><b>In a Jupyter environment, please rerun this cell to show the HTML representation or trust the notebook. <br />On GitHub, the HTML representation is unable to render, please try loading this page with nbviewer.org.</b></div><div class=\"sk-container\" hidden><div class=\"sk-item\"><div class=\"sk-estimator sk-toggleable\"><input class=\"sk-toggleable__control sk-hidden--visually\" id=\"sk-estimator-id-1\" type=\"checkbox\" checked><label for=\"sk-estimator-id-1\" class=\"sk-toggleable__label sk-toggleable__label-arrow\">GradientBoostingRegressor</label><div class=\"sk-toggleable__content\"><pre>GradientBoostingRegressor(learning_rate=0.05, max_depth=5, max_features=&#x27;log2&#x27;,\n",
       "                          min_impurity_decrease=0.01, min_samples_split=9,\n",
       "                          n_estimators=120, random_state=5397, subsample=0.8)</pre></div></div></div></div></div>"
      ],
      "text/plain": [
       "GradientBoostingRegressor(learning_rate=0.05, max_depth=5, max_features='log2',\n",
       "                          min_impurity_decrease=0.01, min_samples_split=9,\n",
       "                          n_estimators=120, random_state=5397, subsample=0.8)"
      ]
     },
     "execution_count": 143,
     "metadata": {},
     "output_type": "execute_result"
    }
   ],
   "source": [
    "#this is a very good fit, check for overfitting by comparing cross-validation scores with training scores\n",
    "#since cross-validation training scores are much higher than validation metrics, this is a sign of overfitting and the model will not perform well on new data, this may also be due to limited training entries\n",
    "tune_model(best, return_train_score = True)"
   ]
  },
  {
   "cell_type": "code",
   "execution_count": 16,
   "id": "ebae1963-12d3-40f2-951f-46f021b405c2",
   "metadata": {},
   "outputs": [
    {
     "data": {
      "text/html": [
       "<style type=\"text/css\">\n",
       "#T_ac52b_row13_col1 {\n",
       "  background-color: lightgreen;\n",
       "}\n",
       "</style>\n",
       "<table id=\"T_ac52b\">\n",
       "  <thead>\n",
       "    <tr>\n",
       "      <th class=\"blank level0\" >&nbsp;</th>\n",
       "      <th id=\"T_ac52b_level0_col0\" class=\"col_heading level0 col0\" >Description</th>\n",
       "      <th id=\"T_ac52b_level0_col1\" class=\"col_heading level0 col1\" >Value</th>\n",
       "    </tr>\n",
       "  </thead>\n",
       "  <tbody>\n",
       "    <tr>\n",
       "      <th id=\"T_ac52b_level0_row0\" class=\"row_heading level0 row0\" >0</th>\n",
       "      <td id=\"T_ac52b_row0_col0\" class=\"data row0 col0\" >session_id</td>\n",
       "      <td id=\"T_ac52b_row0_col1\" class=\"data row0 col1\" >5567</td>\n",
       "    </tr>\n",
       "    <tr>\n",
       "      <th id=\"T_ac52b_level0_row1\" class=\"row_heading level0 row1\" >1</th>\n",
       "      <td id=\"T_ac52b_row1_col0\" class=\"data row1 col0\" >Target</td>\n",
       "      <td id=\"T_ac52b_row1_col1\" class=\"data row1 col1\" >sales</td>\n",
       "    </tr>\n",
       "    <tr>\n",
       "      <th id=\"T_ac52b_level0_row2\" class=\"row_heading level0 row2\" >2</th>\n",
       "      <td id=\"T_ac52b_row2_col0\" class=\"data row2 col0\" >Approach</td>\n",
       "      <td id=\"T_ac52b_row2_col1\" class=\"data row2 col1\" >Univariate</td>\n",
       "    </tr>\n",
       "    <tr>\n",
       "      <th id=\"T_ac52b_level0_row3\" class=\"row_heading level0 row3\" >3</th>\n",
       "      <td id=\"T_ac52b_row3_col0\" class=\"data row3 col0\" >Exogenous Variables</td>\n",
       "      <td id=\"T_ac52b_row3_col1\" class=\"data row3 col1\" >Not Present</td>\n",
       "    </tr>\n",
       "    <tr>\n",
       "      <th id=\"T_ac52b_level0_row4\" class=\"row_heading level0 row4\" >4</th>\n",
       "      <td id=\"T_ac52b_row4_col0\" class=\"data row4 col0\" >Original data shape</td>\n",
       "      <td id=\"T_ac52b_row4_col1\" class=\"data row4 col1\" >(60, 1)</td>\n",
       "    </tr>\n",
       "    <tr>\n",
       "      <th id=\"T_ac52b_level0_row5\" class=\"row_heading level0 row5\" >5</th>\n",
       "      <td id=\"T_ac52b_row5_col0\" class=\"data row5 col0\" >Transformed data shape</td>\n",
       "      <td id=\"T_ac52b_row5_col1\" class=\"data row5 col1\" >(60, 1)</td>\n",
       "    </tr>\n",
       "    <tr>\n",
       "      <th id=\"T_ac52b_level0_row6\" class=\"row_heading level0 row6\" >6</th>\n",
       "      <td id=\"T_ac52b_row6_col0\" class=\"data row6 col0\" >Transformed train set shape</td>\n",
       "      <td id=\"T_ac52b_row6_col1\" class=\"data row6 col1\" >(59, 1)</td>\n",
       "    </tr>\n",
       "    <tr>\n",
       "      <th id=\"T_ac52b_level0_row7\" class=\"row_heading level0 row7\" >7</th>\n",
       "      <td id=\"T_ac52b_row7_col0\" class=\"data row7 col0\" >Transformed test set shape</td>\n",
       "      <td id=\"T_ac52b_row7_col1\" class=\"data row7 col1\" >(1, 1)</td>\n",
       "    </tr>\n",
       "    <tr>\n",
       "      <th id=\"T_ac52b_level0_row8\" class=\"row_heading level0 row8\" >8</th>\n",
       "      <td id=\"T_ac52b_row8_col0\" class=\"data row8 col0\" >Rows with missing values</td>\n",
       "      <td id=\"T_ac52b_row8_col1\" class=\"data row8 col1\" >0.0%</td>\n",
       "    </tr>\n",
       "    <tr>\n",
       "      <th id=\"T_ac52b_level0_row9\" class=\"row_heading level0 row9\" >9</th>\n",
       "      <td id=\"T_ac52b_row9_col0\" class=\"data row9 col0\" >Fold Generator</td>\n",
       "      <td id=\"T_ac52b_row9_col1\" class=\"data row9 col1\" >ExpandingWindowSplitter</td>\n",
       "    </tr>\n",
       "    <tr>\n",
       "      <th id=\"T_ac52b_level0_row10\" class=\"row_heading level0 row10\" >10</th>\n",
       "      <td id=\"T_ac52b_row10_col0\" class=\"data row10 col0\" >Fold Number</td>\n",
       "      <td id=\"T_ac52b_row10_col1\" class=\"data row10 col1\" >5</td>\n",
       "    </tr>\n",
       "    <tr>\n",
       "      <th id=\"T_ac52b_level0_row11\" class=\"row_heading level0 row11\" >11</th>\n",
       "      <td id=\"T_ac52b_row11_col0\" class=\"data row11 col0\" >Enforce Prediction Interval</td>\n",
       "      <td id=\"T_ac52b_row11_col1\" class=\"data row11 col1\" >False</td>\n",
       "    </tr>\n",
       "    <tr>\n",
       "      <th id=\"T_ac52b_level0_row12\" class=\"row_heading level0 row12\" >12</th>\n",
       "      <td id=\"T_ac52b_row12_col0\" class=\"data row12 col0\" >Seasonal Period(s) Tested</td>\n",
       "      <td id=\"T_ac52b_row12_col1\" class=\"data row12 col1\" >12</td>\n",
       "    </tr>\n",
       "    <tr>\n",
       "      <th id=\"T_ac52b_level0_row13\" class=\"row_heading level0 row13\" >13</th>\n",
       "      <td id=\"T_ac52b_row13_col0\" class=\"data row13 col0\" >Seasonality Present</td>\n",
       "      <td id=\"T_ac52b_row13_col1\" class=\"data row13 col1\" >True</td>\n",
       "    </tr>\n",
       "    <tr>\n",
       "      <th id=\"T_ac52b_level0_row14\" class=\"row_heading level0 row14\" >14</th>\n",
       "      <td id=\"T_ac52b_row14_col0\" class=\"data row14 col0\" >Seasonalities Detected</td>\n",
       "      <td id=\"T_ac52b_row14_col1\" class=\"data row14 col1\" >[12]</td>\n",
       "    </tr>\n",
       "    <tr>\n",
       "      <th id=\"T_ac52b_level0_row15\" class=\"row_heading level0 row15\" >15</th>\n",
       "      <td id=\"T_ac52b_row15_col0\" class=\"data row15 col0\" >Primary Seasonality</td>\n",
       "      <td id=\"T_ac52b_row15_col1\" class=\"data row15 col1\" >12</td>\n",
       "    </tr>\n",
       "    <tr>\n",
       "      <th id=\"T_ac52b_level0_row16\" class=\"row_heading level0 row16\" >16</th>\n",
       "      <td id=\"T_ac52b_row16_col0\" class=\"data row16 col0\" >Target Strictly Positive</td>\n",
       "      <td id=\"T_ac52b_row16_col1\" class=\"data row16 col1\" >True</td>\n",
       "    </tr>\n",
       "    <tr>\n",
       "      <th id=\"T_ac52b_level0_row17\" class=\"row_heading level0 row17\" >17</th>\n",
       "      <td id=\"T_ac52b_row17_col0\" class=\"data row17 col0\" >Target White Noise</td>\n",
       "      <td id=\"T_ac52b_row17_col1\" class=\"data row17 col1\" >No</td>\n",
       "    </tr>\n",
       "    <tr>\n",
       "      <th id=\"T_ac52b_level0_row18\" class=\"row_heading level0 row18\" >18</th>\n",
       "      <td id=\"T_ac52b_row18_col0\" class=\"data row18 col0\" >Recommended d</td>\n",
       "      <td id=\"T_ac52b_row18_col1\" class=\"data row18 col1\" >1</td>\n",
       "    </tr>\n",
       "    <tr>\n",
       "      <th id=\"T_ac52b_level0_row19\" class=\"row_heading level0 row19\" >19</th>\n",
       "      <td id=\"T_ac52b_row19_col0\" class=\"data row19 col0\" >Recommended Seasonal D</td>\n",
       "      <td id=\"T_ac52b_row19_col1\" class=\"data row19 col1\" >1</td>\n",
       "    </tr>\n",
       "    <tr>\n",
       "      <th id=\"T_ac52b_level0_row20\" class=\"row_heading level0 row20\" >20</th>\n",
       "      <td id=\"T_ac52b_row20_col0\" class=\"data row20 col0\" >Preprocess</td>\n",
       "      <td id=\"T_ac52b_row20_col1\" class=\"data row20 col1\" >False</td>\n",
       "    </tr>\n",
       "    <tr>\n",
       "      <th id=\"T_ac52b_level0_row21\" class=\"row_heading level0 row21\" >21</th>\n",
       "      <td id=\"T_ac52b_row21_col0\" class=\"data row21 col0\" >CPU Jobs</td>\n",
       "      <td id=\"T_ac52b_row21_col1\" class=\"data row21 col1\" >-1</td>\n",
       "    </tr>\n",
       "    <tr>\n",
       "      <th id=\"T_ac52b_level0_row22\" class=\"row_heading level0 row22\" >22</th>\n",
       "      <td id=\"T_ac52b_row22_col0\" class=\"data row22 col0\" >Use GPU</td>\n",
       "      <td id=\"T_ac52b_row22_col1\" class=\"data row22 col1\" >False</td>\n",
       "    </tr>\n",
       "    <tr>\n",
       "      <th id=\"T_ac52b_level0_row23\" class=\"row_heading level0 row23\" >23</th>\n",
       "      <td id=\"T_ac52b_row23_col0\" class=\"data row23 col0\" >Log Experiment</td>\n",
       "      <td id=\"T_ac52b_row23_col1\" class=\"data row23 col1\" >False</td>\n",
       "    </tr>\n",
       "    <tr>\n",
       "      <th id=\"T_ac52b_level0_row24\" class=\"row_heading level0 row24\" >24</th>\n",
       "      <td id=\"T_ac52b_row24_col0\" class=\"data row24 col0\" >Experiment Name</td>\n",
       "      <td id=\"T_ac52b_row24_col1\" class=\"data row24 col1\" >ts-default-name</td>\n",
       "    </tr>\n",
       "    <tr>\n",
       "      <th id=\"T_ac52b_level0_row25\" class=\"row_heading level0 row25\" >25</th>\n",
       "      <td id=\"T_ac52b_row25_col0\" class=\"data row25 col0\" >USI</td>\n",
       "      <td id=\"T_ac52b_row25_col1\" class=\"data row25 col1\" >44c4</td>\n",
       "    </tr>\n",
       "  </tbody>\n",
       "</table>\n"
      ],
      "text/plain": [
       "<pandas.io.formats.style.Styler at 0x170988f8cd0>"
      ]
     },
     "metadata": {},
     "output_type": "display_data"
    }
   ],
   "source": [
    "#see if model is better with pycaret3's time series module\n",
    "from pycaret.time_series import *\n",
    "\n",
    "s1 = setup(data[['Date', 'sales']].set_index('Date'), target = 'sales', fold = 5)"
   ]
  },
  {
   "cell_type": "code",
   "execution_count": 17,
   "id": "e28d7e48-bb0a-40b7-bcc5-a0f0232fb527",
   "metadata": {},
   "outputs": [],
   "source": [
    "best = compare_models(verbose = False, sort = 'MAPE')"
   ]
  },
  {
   "cell_type": "code",
   "execution_count": 18,
   "id": "7d2d8415-ac2a-434e-b803-ba67055df6ec",
   "metadata": {},
   "outputs": [
    {
     "data": {
      "text/html": [
       "<div>\n",
       "<style scoped>\n",
       "    .dataframe tbody tr th:only-of-type {\n",
       "        vertical-align: middle;\n",
       "    }\n",
       "\n",
       "    .dataframe tbody tr th {\n",
       "        vertical-align: top;\n",
       "    }\n",
       "\n",
       "    .dataframe thead th {\n",
       "        text-align: right;\n",
       "    }\n",
       "</style>\n",
       "<table border=\"1\" class=\"dataframe\">\n",
       "  <thead>\n",
       "    <tr style=\"text-align: right;\">\n",
       "      <th></th>\n",
       "      <th>Model</th>\n",
       "      <th>MASE</th>\n",
       "      <th>RMSSE</th>\n",
       "      <th>MAE</th>\n",
       "      <th>RMSE</th>\n",
       "      <th>MAPE</th>\n",
       "      <th>SMAPE</th>\n",
       "      <th>TT (Sec)</th>\n",
       "    </tr>\n",
       "  </thead>\n",
       "  <tbody>\n",
       "    <tr>\n",
       "      <th>exp_smooth</th>\n",
       "      <td>Exponential Smoothing</td>\n",
       "      <td>0.3185</td>\n",
       "      <td>0.2656</td>\n",
       "      <td>31.4811</td>\n",
       "      <td>31.4811</td>\n",
       "      <td>0.0227</td>\n",
       "      <td>0.0227</td>\n",
       "      <td>0.098</td>\n",
       "    </tr>\n",
       "    <tr>\n",
       "      <th>ets</th>\n",
       "      <td>ETS</td>\n",
       "      <td>0.3201</td>\n",
       "      <td>0.2669</td>\n",
       "      <td>31.6307</td>\n",
       "      <td>31.6307</td>\n",
       "      <td>0.0229</td>\n",
       "      <td>0.0228</td>\n",
       "      <td>0.102</td>\n",
       "    </tr>\n",
       "    <tr>\n",
       "      <th>auto_arima</th>\n",
       "      <td>Auto ARIMA</td>\n",
       "      <td>0.3505</td>\n",
       "      <td>0.2924</td>\n",
       "      <td>34.6697</td>\n",
       "      <td>34.6697</td>\n",
       "      <td>0.0248</td>\n",
       "      <td>0.0245</td>\n",
       "      <td>1.682</td>\n",
       "    </tr>\n",
       "    <tr>\n",
       "      <th>theta</th>\n",
       "      <td>Theta Forecaster</td>\n",
       "      <td>0.3501</td>\n",
       "      <td>0.292</td>\n",
       "      <td>34.646</td>\n",
       "      <td>34.646</td>\n",
       "      <td>0.0248</td>\n",
       "      <td>0.0248</td>\n",
       "      <td>0.024</td>\n",
       "    </tr>\n",
       "    <tr>\n",
       "      <th>lightgbm_cds_dt</th>\n",
       "      <td>Light Gradient Boosting w/ Cond. Deseasonalize...</td>\n",
       "      <td>0.4001</td>\n",
       "      <td>0.3341</td>\n",
       "      <td>39.6246</td>\n",
       "      <td>39.6246</td>\n",
       "      <td>0.0287</td>\n",
       "      <td>0.0283</td>\n",
       "      <td>0.042</td>\n",
       "    </tr>\n",
       "  </tbody>\n",
       "</table>\n",
       "</div>"
      ],
      "text/plain": [
       "                                                             Model    MASE  \\\n",
       "exp_smooth                                   Exponential Smoothing  0.3185   \n",
       "ets                                                            ETS  0.3201   \n",
       "auto_arima                                              Auto ARIMA  0.3505   \n",
       "theta                                             Theta Forecaster  0.3501   \n",
       "lightgbm_cds_dt  Light Gradient Boosting w/ Cond. Deseasonalize...  0.4001   \n",
       "\n",
       "                  RMSSE      MAE     RMSE    MAPE   SMAPE  TT (Sec)  \n",
       "exp_smooth       0.2656  31.4811  31.4811  0.0227  0.0227     0.098  \n",
       "ets              0.2669  31.6307  31.6307  0.0229  0.0228     0.102  \n",
       "auto_arima       0.2924  34.6697  34.6697  0.0248  0.0245     1.682  \n",
       "theta             0.292   34.646   34.646  0.0248  0.0248     0.024  \n",
       "lightgbm_cds_dt  0.3341  39.6246  39.6246  0.0287  0.0283     0.042  "
      ]
     },
     "execution_count": 18,
     "metadata": {},
     "output_type": "execute_result"
    }
   ],
   "source": [
    "pull().head()\n",
    "#this returns the models that were trained, with passive aggressive decision tree being the best in terms of mean absolute percentage error (MAPE)"
   ]
  },
  {
   "cell_type": "code",
   "execution_count": 19,
   "id": "2dcd6d0c-578f-4c8b-b999-ef86705e8b84",
   "metadata": {},
   "outputs": [
    {
     "data": {
      "text/html": [],
      "text/plain": [
       "<IPython.core.display.HTML object>"
      ]
     },
     "metadata": {},
     "output_type": "display_data"
    },
    {
     "data": {
      "text/html": [
       "<style type=\"text/css\">\n",
       "#T_c063a_row10_col0, #T_c063a_row10_col1, #T_c063a_row10_col2, #T_c063a_row10_col3, #T_c063a_row10_col4, #T_c063a_row10_col5, #T_c063a_row10_col6 {\n",
       "  background: yellow;\n",
       "}\n",
       "</style>\n",
       "<table id=\"T_c063a\">\n",
       "  <thead>\n",
       "    <tr>\n",
       "      <th class=\"blank level0\" >&nbsp;</th>\n",
       "      <th id=\"T_c063a_level0_col0\" class=\"col_heading level0 col0\" >cutoff</th>\n",
       "      <th id=\"T_c063a_level0_col1\" class=\"col_heading level0 col1\" >MASE</th>\n",
       "      <th id=\"T_c063a_level0_col2\" class=\"col_heading level0 col2\" >RMSSE</th>\n",
       "      <th id=\"T_c063a_level0_col3\" class=\"col_heading level0 col3\" >MAE</th>\n",
       "      <th id=\"T_c063a_level0_col4\" class=\"col_heading level0 col4\" >RMSE</th>\n",
       "      <th id=\"T_c063a_level0_col5\" class=\"col_heading level0 col5\" >MAPE</th>\n",
       "      <th id=\"T_c063a_level0_col6\" class=\"col_heading level0 col6\" >SMAPE</th>\n",
       "    </tr>\n",
       "  </thead>\n",
       "  <tbody>\n",
       "    <tr>\n",
       "      <th id=\"T_c063a_level0_row0\" class=\"row_heading level0 row0\" >0</th>\n",
       "      <td id=\"T_c063a_row0_col0\" class=\"data row0 col0\" >2017-01</td>\n",
       "      <td id=\"T_c063a_row0_col1\" class=\"data row0 col1\" >0.4128</td>\n",
       "      <td id=\"T_c063a_row0_col2\" class=\"data row0 col2\" >0.3510</td>\n",
       "      <td id=\"T_c063a_row0_col3\" class=\"data row0 col3\" >43.7132</td>\n",
       "      <td id=\"T_c063a_row0_col4\" class=\"data row0 col4\" >43.7132</td>\n",
       "      <td id=\"T_c063a_row0_col5\" class=\"data row0 col5\" >0.0505</td>\n",
       "      <td id=\"T_c063a_row0_col6\" class=\"data row0 col6\" >0.0492</td>\n",
       "    </tr>\n",
       "    <tr>\n",
       "      <th id=\"T_c063a_level0_row1\" class=\"row_heading level0 row1\" >1</th>\n",
       "      <td id=\"T_c063a_row1_col0\" class=\"data row1 col0\" >2017-02</td>\n",
       "      <td id=\"T_c063a_row1_col1\" class=\"data row1 col1\" >0.3905</td>\n",
       "      <td id=\"T_c063a_row1_col2\" class=\"data row1 col2\" >0.3301</td>\n",
       "      <td id=\"T_c063a_row1_col3\" class=\"data row1 col3\" >40.6167</td>\n",
       "      <td id=\"T_c063a_row1_col4\" class=\"data row1 col4\" >40.6167</td>\n",
       "      <td id=\"T_c063a_row1_col5\" class=\"data row1 col5\" >0.0352</td>\n",
       "      <td id=\"T_c063a_row1_col6\" class=\"data row1 col6\" >0.0346</td>\n",
       "    </tr>\n",
       "    <tr>\n",
       "      <th id=\"T_c063a_level0_row2\" class=\"row_heading level0 row2\" >2</th>\n",
       "      <td id=\"T_c063a_row2_col0\" class=\"data row2 col0\" >2017-03</td>\n",
       "      <td id=\"T_c063a_row2_col1\" class=\"data row2 col1\" >1.0288</td>\n",
       "      <td id=\"T_c063a_row2_col2\" class=\"data row2 col2\" >0.8589</td>\n",
       "      <td id=\"T_c063a_row2_col3\" class=\"data row2 col3\" >104.3074</td>\n",
       "      <td id=\"T_c063a_row2_col4\" class=\"data row2 col4\" >104.3074</td>\n",
       "      <td id=\"T_c063a_row2_col5\" class=\"data row2 col5\" >0.0761</td>\n",
       "      <td id=\"T_c063a_row2_col6\" class=\"data row2 col6\" >0.0791</td>\n",
       "    </tr>\n",
       "    <tr>\n",
       "      <th id=\"T_c063a_level0_row3\" class=\"row_heading level0 row3\" >3</th>\n",
       "      <td id=\"T_c063a_row3_col0\" class=\"data row3 col0\" >2017-04</td>\n",
       "      <td id=\"T_c063a_row3_col1\" class=\"data row3 col1\" >0.0673</td>\n",
       "      <td id=\"T_c063a_row3_col2\" class=\"data row3 col2\" >0.0565</td>\n",
       "      <td id=\"T_c063a_row3_col3\" class=\"data row3 col3\" >6.9143</td>\n",
       "      <td id=\"T_c063a_row3_col4\" class=\"data row3 col4\" >6.9143</td>\n",
       "      <td id=\"T_c063a_row3_col5\" class=\"data row3 col5\" >0.0047</td>\n",
       "      <td id=\"T_c063a_row3_col6\" class=\"data row3 col6\" >0.0047</td>\n",
       "    </tr>\n",
       "    <tr>\n",
       "      <th id=\"T_c063a_level0_row4\" class=\"row_heading level0 row4\" >4</th>\n",
       "      <td id=\"T_c063a_row4_col0\" class=\"data row4 col0\" >2017-05</td>\n",
       "      <td id=\"T_c063a_row4_col1\" class=\"data row4 col1\" >0.2504</td>\n",
       "      <td id=\"T_c063a_row4_col2\" class=\"data row4 col2\" >0.2095</td>\n",
       "      <td id=\"T_c063a_row4_col3\" class=\"data row4 col3\" >25.3709</td>\n",
       "      <td id=\"T_c063a_row4_col4\" class=\"data row4 col4\" >25.3709</td>\n",
       "      <td id=\"T_c063a_row4_col5\" class=\"data row4 col5\" >0.0172</td>\n",
       "      <td id=\"T_c063a_row4_col6\" class=\"data row4 col6\" >0.0170</td>\n",
       "    </tr>\n",
       "    <tr>\n",
       "      <th id=\"T_c063a_level0_row5\" class=\"row_heading level0 row5\" >5</th>\n",
       "      <td id=\"T_c063a_row5_col0\" class=\"data row5 col0\" >2017-06</td>\n",
       "      <td id=\"T_c063a_row5_col1\" class=\"data row5 col1\" >0.4536</td>\n",
       "      <td id=\"T_c063a_row5_col2\" class=\"data row5 col2\" >0.3783</td>\n",
       "      <td id=\"T_c063a_row5_col3\" class=\"data row5 col3\" >45.3382</td>\n",
       "      <td id=\"T_c063a_row5_col4\" class=\"data row5 col4\" >45.3382</td>\n",
       "      <td id=\"T_c063a_row5_col5\" class=\"data row5 col5\" >0.0271</td>\n",
       "      <td id=\"T_c063a_row5_col6\" class=\"data row5 col6\" >0.0274</td>\n",
       "    </tr>\n",
       "    <tr>\n",
       "      <th id=\"T_c063a_level0_row6\" class=\"row_heading level0 row6\" >6</th>\n",
       "      <td id=\"T_c063a_row6_col0\" class=\"data row6 col0\" >2017-07</td>\n",
       "      <td id=\"T_c063a_row6_col1\" class=\"data row6 col1\" >0.0265</td>\n",
       "      <td id=\"T_c063a_row6_col2\" class=\"data row6 col2\" >0.0222</td>\n",
       "      <td id=\"T_c063a_row6_col3\" class=\"data row6 col3\" >2.6646</td>\n",
       "      <td id=\"T_c063a_row6_col4\" class=\"data row6 col4\" >2.6646</td>\n",
       "      <td id=\"T_c063a_row6_col5\" class=\"data row6 col5\" >0.0018</td>\n",
       "      <td id=\"T_c063a_row6_col6\" class=\"data row6 col6\" >0.0018</td>\n",
       "    </tr>\n",
       "    <tr>\n",
       "      <th id=\"T_c063a_level0_row7\" class=\"row_heading level0 row7\" >7</th>\n",
       "      <td id=\"T_c063a_row7_col0\" class=\"data row7 col0\" >2017-08</td>\n",
       "      <td id=\"T_c063a_row7_col1\" class=\"data row7 col1\" >0.2702</td>\n",
       "      <td id=\"T_c063a_row7_col2\" class=\"data row7 col2\" >0.2267</td>\n",
       "      <td id=\"T_c063a_row7_col3\" class=\"data row7 col3\" >26.9866</td>\n",
       "      <td id=\"T_c063a_row7_col4\" class=\"data row7 col4\" >26.9866</td>\n",
       "      <td id=\"T_c063a_row7_col5\" class=\"data row7 col5\" >0.0204</td>\n",
       "      <td id=\"T_c063a_row7_col6\" class=\"data row7 col6\" >0.0202</td>\n",
       "    </tr>\n",
       "    <tr>\n",
       "      <th id=\"T_c063a_level0_row8\" class=\"row_heading level0 row8\" >8</th>\n",
       "      <td id=\"T_c063a_row8_col0\" class=\"data row8 col0\" >2017-09</td>\n",
       "      <td id=\"T_c063a_row8_col1\" class=\"data row8 col1\" >0.2954</td>\n",
       "      <td id=\"T_c063a_row8_col2\" class=\"data row8 col2\" >0.2452</td>\n",
       "      <td id=\"T_c063a_row8_col3\" class=\"data row8 col3\" >28.8701</td>\n",
       "      <td id=\"T_c063a_row8_col4\" class=\"data row8 col4\" >28.8701</td>\n",
       "      <td id=\"T_c063a_row8_col5\" class=\"data row8 col5\" >0.0227</td>\n",
       "      <td id=\"T_c063a_row8_col6\" class=\"data row8 col6\" >0.0229</td>\n",
       "    </tr>\n",
       "    <tr>\n",
       "      <th id=\"T_c063a_level0_row9\" class=\"row_heading level0 row9\" >9</th>\n",
       "      <td id=\"T_c063a_row9_col0\" class=\"data row9 col0\" >2017-10</td>\n",
       "      <td id=\"T_c063a_row9_col1\" class=\"data row9 col1\" >0.5469</td>\n",
       "      <td id=\"T_c063a_row9_col2\" class=\"data row9 col2\" >0.4558</td>\n",
       "      <td id=\"T_c063a_row9_col3\" class=\"data row9 col3\" >53.5462</td>\n",
       "      <td id=\"T_c063a_row9_col4\" class=\"data row9 col4\" >53.5462</td>\n",
       "      <td id=\"T_c063a_row9_col5\" class=\"data row9 col5\" >0.0418</td>\n",
       "      <td id=\"T_c063a_row9_col6\" class=\"data row9 col6\" >0.0409</td>\n",
       "    </tr>\n",
       "    <tr>\n",
       "      <th id=\"T_c063a_level0_row10\" class=\"row_heading level0 row10\" >Mean</th>\n",
       "      <td id=\"T_c063a_row10_col0\" class=\"data row10 col0\" >nan</td>\n",
       "      <td id=\"T_c063a_row10_col1\" class=\"data row10 col1\" >0.3742</td>\n",
       "      <td id=\"T_c063a_row10_col2\" class=\"data row10 col2\" >0.3134</td>\n",
       "      <td id=\"T_c063a_row10_col3\" class=\"data row10 col3\" >37.8328</td>\n",
       "      <td id=\"T_c063a_row10_col4\" class=\"data row10 col4\" >37.8328</td>\n",
       "      <td id=\"T_c063a_row10_col5\" class=\"data row10 col5\" >0.0297</td>\n",
       "      <td id=\"T_c063a_row10_col6\" class=\"data row10 col6\" >0.0298</td>\n",
       "    </tr>\n",
       "    <tr>\n",
       "      <th id=\"T_c063a_level0_row11\" class=\"row_heading level0 row11\" >SD</th>\n",
       "      <td id=\"T_c063a_row11_col0\" class=\"data row11 col0\" >nan</td>\n",
       "      <td id=\"T_c063a_row11_col1\" class=\"data row11 col1\" >0.2672</td>\n",
       "      <td id=\"T_c063a_row11_col2\" class=\"data row11 col2\" >0.2230</td>\n",
       "      <td id=\"T_c063a_row11_col3\" class=\"data row11 col3\" >27.0379</td>\n",
       "      <td id=\"T_c063a_row11_col4\" class=\"data row11 col4\" >27.0379</td>\n",
       "      <td id=\"T_c063a_row11_col5\" class=\"data row11 col5\" >0.0211</td>\n",
       "      <td id=\"T_c063a_row11_col6\" class=\"data row11 col6\" >0.0216</td>\n",
       "    </tr>\n",
       "  </tbody>\n",
       "</table>\n"
      ],
      "text/plain": [
       "<pandas.io.formats.style.Styler at 0x170981aa5e0>"
      ]
     },
     "metadata": {},
     "output_type": "display_data"
    },
    {
     "data": {
      "application/vnd.jupyter.widget-view+json": {
       "model_id": "",
       "version_major": 2,
       "version_minor": 0
      },
      "text/plain": [
       "Processing:   0%|          | 0/4 [00:00<?, ?it/s]"
      ]
     },
     "metadata": {},
     "output_type": "display_data"
    }
   ],
   "source": [
    "es = create_model('exp_smooth', fold = 10)"
   ]
  },
  {
   "cell_type": "code",
   "execution_count": 20,
   "id": "ac5c259b-a5d9-45db-aa40-8c4dbb4d555c",
   "metadata": {},
   "outputs": [
    {
     "data": {
      "text/html": [
       "<html>\n",
       "<head><meta charset=\"utf-8\" /></head>\n",
       "<body>\n",
       "    <div>            <script src=\"https://cdnjs.cloudflare.com/ajax/libs/mathjax/2.7.5/MathJax.js?config=TeX-AMS-MML_SVG\"></script><script type=\"text/javascript\">if (window.MathJax && window.MathJax.Hub && && window.MathJax.Hub.Config) {window.MathJax.Hub.Config({SVG: {font: \"STIX-Web\"}});}</script>                <script type=\"text/javascript\">window.PlotlyConfig = {MathJaxConfig: 'local'};</script>\n",
       "        <script src=\"https://cdn.plot.ly/plotly-2.12.1.min.js\"></script>                <div id=\"9119c119-0a17-4f38-86cc-9968e08acb7a\" class=\"plotly-graph-div\" style=\"height:525px; width:100%;\"></div>            <script type=\"text/javascript\">                                    window.PLOTLYENV=window.PLOTLYENV || {};                                    if (document.getElementById(\"9119c119-0a17-4f38-86cc-9968e08acb7a\")) {                    Plotly.newPlot(                        \"9119c119-0a17-4f38-86cc-9968e08acb7a\",                        [{\"line\":{\"color\":\"rgb(31, 119, 180)\",\"width\":2},\"marker\":{\"color\":\"rgb(31, 119, 180)\",\"size\":5},\"mode\":\"lines+markers\",\"name\":\"sales\",\"x\":[\"2013-01-01T00:00:00\",\"2013-02-01T00:00:00\",\"2013-03-01T00:00:00\",\"2013-04-01T00:00:00\",\"2013-05-01T00:00:00\",\"2013-06-01T00:00:00\",\"2013-07-01T00:00:00\",\"2013-08-01T00:00:00\",\"2013-09-01T00:00:00\",\"2013-10-01T00:00:00\",\"2013-11-01T00:00:00\",\"2013-12-01T00:00:00\",\"2014-01-01T00:00:00\",\"2014-02-01T00:00:00\",\"2014-03-01T00:00:00\",\"2014-04-01T00:00:00\",\"2014-05-01T00:00:00\",\"2014-06-01T00:00:00\",\"2014-07-01T00:00:00\",\"2014-08-01T00:00:00\",\"2014-09-01T00:00:00\",\"2014-10-01T00:00:00\",\"2014-11-01T00:00:00\",\"2014-12-01T00:00:00\",\"2015-01-01T00:00:00\",\"2015-02-01T00:00:00\",\"2015-03-01T00:00:00\",\"2015-04-01T00:00:00\",\"2015-05-01T00:00:00\",\"2015-06-01T00:00:00\",\"2015-07-01T00:00:00\",\"2015-08-01T00:00:00\",\"2015-09-01T00:00:00\",\"2015-10-01T00:00:00\",\"2015-11-01T00:00:00\",\"2015-12-01T00:00:00\",\"2016-01-01T00:00:00\",\"2016-02-01T00:00:00\",\"2016-03-01T00:00:00\",\"2016-04-01T00:00:00\",\"2016-05-01T00:00:00\",\"2016-06-01T00:00:00\",\"2016-07-01T00:00:00\",\"2016-08-01T00:00:00\",\"2016-09-01T00:00:00\",\"2016-10-01T00:00:00\",\"2016-11-01T00:00:00\",\"2016-12-01T00:00:00\",\"2017-01-01T00:00:00\",\"2017-02-01T00:00:00\",\"2017-03-01T00:00:00\",\"2017-04-01T00:00:00\",\"2017-05-01T00:00:00\",\"2017-06-01T00:00:00\",\"2017-07-01T00:00:00\",\"2017-08-01T00:00:00\",\"2017-09-01T00:00:00\",\"2017-10-01T00:00:00\",\"2017-11-01T00:00:00\",\"2017-12-01T00:00:00\"],\"y\":[633,664,862,937,1011,1072,1141,1031,981,907,914,689,715,778,1005,1051,1231,1244,1360,1238,1111,1040,1137,785,818,701,1031,1166,1230,1285,1435,1233,1117,1090,1180,831,797,900,1155,1215,1423,1433,1556,1381,1322,1167,1254,903,843,866,1153,1371,1468,1476,1675,1459,1325,1273,1282,966],\"type\":\"scatter\",\"xaxis\":\"x\",\"yaxis\":\"y\"},{\"line\":{\"color\":\"rgb(255, 127, 14)\",\"width\":2},\"marker\":{\"color\":\"rgb(255, 127, 14)\",\"size\":5},\"mode\":\"lines+markers\",\"name\":\"Exponential Smoothing\",\"x\":[\"2013-01-01T00:00:00\",\"2013-02-01T00:00:00\",\"2013-03-01T00:00:00\",\"2013-04-01T00:00:00\",\"2013-05-01T00:00:00\",\"2013-06-01T00:00:00\",\"2013-07-01T00:00:00\",\"2013-08-01T00:00:00\",\"2013-09-01T00:00:00\",\"2013-10-01T00:00:00\",\"2013-11-01T00:00:00\",\"2013-12-01T00:00:00\",\"2014-01-01T00:00:00\",\"2014-02-01T00:00:00\",\"2014-03-01T00:00:00\",\"2014-04-01T00:00:00\",\"2014-05-01T00:00:00\",\"2014-06-01T00:00:00\",\"2014-07-01T00:00:00\",\"2014-08-01T00:00:00\",\"2014-09-01T00:00:00\",\"2014-10-01T00:00:00\",\"2014-11-01T00:00:00\",\"2014-12-01T00:00:00\",\"2015-01-01T00:00:00\",\"2015-02-01T00:00:00\",\"2015-03-01T00:00:00\",\"2015-04-01T00:00:00\",\"2015-05-01T00:00:00\",\"2015-06-01T00:00:00\",\"2015-07-01T00:00:00\",\"2015-08-01T00:00:00\",\"2015-09-01T00:00:00\",\"2015-10-01T00:00:00\",\"2015-11-01T00:00:00\",\"2015-12-01T00:00:00\",\"2016-01-01T00:00:00\",\"2016-02-01T00:00:00\",\"2016-03-01T00:00:00\",\"2016-04-01T00:00:00\",\"2016-05-01T00:00:00\",\"2016-06-01T00:00:00\",\"2016-07-01T00:00:00\",\"2016-08-01T00:00:00\",\"2016-09-01T00:00:00\",\"2016-10-01T00:00:00\",\"2016-11-01T00:00:00\",\"2016-12-01T00:00:00\",\"2017-01-01T00:00:00\",\"2017-02-01T00:00:00\",\"2017-03-01T00:00:00\",\"2017-04-01T00:00:00\",\"2017-05-01T00:00:00\",\"2017-06-01T00:00:00\",\"2017-07-01T00:00:00\",\"2017-08-01T00:00:00\",\"2017-09-01T00:00:00\",\"2017-10-01T00:00:00\",\"2017-11-01T00:00:00\",\"2017-12-01T00:00:00\"],\"y\":[617.1928,638.1948,863.153,955.0764,1054.4808,1066.1688,1179.44,1034.3242,955.4145,901.8172,952.2547,678.4026,674.9224,703.9962,968.6025,1082.5908,1190.674,1228.5695,1360.3886,1202.724,1119.9503,1045.6332,1099.4887,799.09,786.6543,815.2298,1045.1777,1150.893,1280.5074,1293.5402,1424.1177,1261.5016,1157.2383,1072.0271,1134.1192,825.5555,818.1261,832.088,1136.2062,1261.1425,1382.7466,1423.4864,1572.1359,1384.7418,1276.741,1205.6964,1257.1044,903.5461,893.113,900.0479,1187.9087,1301.1558,1463.1151,1494.851,1641.5029,1458.0456,1345.2065,1252.0408,1323.3248,null],\"type\":\"scatter\",\"xaxis\":\"x\",\"yaxis\":\"y\"}],                        {\"template\":{\"data\":{\"barpolar\":[{\"marker\":{\"line\":{\"color\":\"rgb(237,237,237)\",\"width\":0.5},\"pattern\":{\"fillmode\":\"overlay\",\"size\":10,\"solidity\":0.2}},\"type\":\"barpolar\"}],\"bar\":[{\"error_x\":{\"color\":\"rgb(51,51,51)\"},\"error_y\":{\"color\":\"rgb(51,51,51)\"},\"marker\":{\"line\":{\"color\":\"rgb(237,237,237)\",\"width\":0.5},\"pattern\":{\"fillmode\":\"overlay\",\"size\":10,\"solidity\":0.2}},\"type\":\"bar\"}],\"carpet\":[{\"aaxis\":{\"endlinecolor\":\"rgb(51,51,51)\",\"gridcolor\":\"white\",\"linecolor\":\"white\",\"minorgridcolor\":\"white\",\"startlinecolor\":\"rgb(51,51,51)\"},\"baxis\":{\"endlinecolor\":\"rgb(51,51,51)\",\"gridcolor\":\"white\",\"linecolor\":\"white\",\"minorgridcolor\":\"white\",\"startlinecolor\":\"rgb(51,51,51)\"},\"type\":\"carpet\"}],\"choropleth\":[{\"colorbar\":{\"outlinewidth\":0,\"tickcolor\":\"rgb(237,237,237)\",\"ticklen\":6,\"ticks\":\"inside\"},\"type\":\"choropleth\"}],\"contourcarpet\":[{\"colorbar\":{\"outlinewidth\":0,\"tickcolor\":\"rgb(237,237,237)\",\"ticklen\":6,\"ticks\":\"inside\"},\"type\":\"contourcarpet\"}],\"contour\":[{\"colorbar\":{\"outlinewidth\":0,\"tickcolor\":\"rgb(237,237,237)\",\"ticklen\":6,\"ticks\":\"inside\"},\"colorscale\":[[0,\"rgb(20,44,66)\"],[1,\"rgb(90,179,244)\"]],\"type\":\"contour\"}],\"heatmapgl\":[{\"colorbar\":{\"outlinewidth\":0,\"tickcolor\":\"rgb(237,237,237)\",\"ticklen\":6,\"ticks\":\"inside\"},\"colorscale\":[[0,\"rgb(20,44,66)\"],[1,\"rgb(90,179,244)\"]],\"type\":\"heatmapgl\"}],\"heatmap\":[{\"colorbar\":{\"outlinewidth\":0,\"tickcolor\":\"rgb(237,237,237)\",\"ticklen\":6,\"ticks\":\"inside\"},\"colorscale\":[[0,\"rgb(20,44,66)\"],[1,\"rgb(90,179,244)\"]],\"type\":\"heatmap\"}],\"histogram2dcontour\":[{\"colorbar\":{\"outlinewidth\":0,\"tickcolor\":\"rgb(237,237,237)\",\"ticklen\":6,\"ticks\":\"inside\"},\"colorscale\":[[0,\"rgb(20,44,66)\"],[1,\"rgb(90,179,244)\"]],\"type\":\"histogram2dcontour\"}],\"histogram2d\":[{\"colorbar\":{\"outlinewidth\":0,\"tickcolor\":\"rgb(237,237,237)\",\"ticklen\":6,\"ticks\":\"inside\"},\"colorscale\":[[0,\"rgb(20,44,66)\"],[1,\"rgb(90,179,244)\"]],\"type\":\"histogram2d\"}],\"histogram\":[{\"marker\":{\"pattern\":{\"fillmode\":\"overlay\",\"size\":10,\"solidity\":0.2}},\"type\":\"histogram\"}],\"mesh3d\":[{\"colorbar\":{\"outlinewidth\":0,\"tickcolor\":\"rgb(237,237,237)\",\"ticklen\":6,\"ticks\":\"inside\"},\"type\":\"mesh3d\"}],\"parcoords\":[{\"line\":{\"colorbar\":{\"outlinewidth\":0,\"tickcolor\":\"rgb(237,237,237)\",\"ticklen\":6,\"ticks\":\"inside\"}},\"type\":\"parcoords\"}],\"pie\":[{\"automargin\":true,\"type\":\"pie\"}],\"scatter3d\":[{\"line\":{\"colorbar\":{\"outlinewidth\":0,\"tickcolor\":\"rgb(237,237,237)\",\"ticklen\":6,\"ticks\":\"inside\"}},\"marker\":{\"colorbar\":{\"outlinewidth\":0,\"tickcolor\":\"rgb(237,237,237)\",\"ticklen\":6,\"ticks\":\"inside\"}},\"type\":\"scatter3d\"}],\"scattercarpet\":[{\"marker\":{\"colorbar\":{\"outlinewidth\":0,\"tickcolor\":\"rgb(237,237,237)\",\"ticklen\":6,\"ticks\":\"inside\"}},\"type\":\"scattercarpet\"}],\"scattergeo\":[{\"marker\":{\"colorbar\":{\"outlinewidth\":0,\"tickcolor\":\"rgb(237,237,237)\",\"ticklen\":6,\"ticks\":\"inside\"}},\"type\":\"scattergeo\"}],\"scattergl\":[{\"marker\":{\"colorbar\":{\"outlinewidth\":0,\"tickcolor\":\"rgb(237,237,237)\",\"ticklen\":6,\"ticks\":\"inside\"}},\"type\":\"scattergl\"}],\"scattermapbox\":[{\"marker\":{\"colorbar\":{\"outlinewidth\":0,\"tickcolor\":\"rgb(237,237,237)\",\"ticklen\":6,\"ticks\":\"inside\"}},\"type\":\"scattermapbox\"}],\"scatterpolargl\":[{\"marker\":{\"colorbar\":{\"outlinewidth\":0,\"tickcolor\":\"rgb(237,237,237)\",\"ticklen\":6,\"ticks\":\"inside\"}},\"type\":\"scatterpolargl\"}],\"scatterpolar\":[{\"marker\":{\"colorbar\":{\"outlinewidth\":0,\"tickcolor\":\"rgb(237,237,237)\",\"ticklen\":6,\"ticks\":\"inside\"}},\"type\":\"scatterpolar\"}],\"scatter\":[{\"fillpattern\":{\"fillmode\":\"overlay\",\"size\":10,\"solidity\":0.2},\"type\":\"scatter\"}],\"scatterternary\":[{\"marker\":{\"colorbar\":{\"outlinewidth\":0,\"tickcolor\":\"rgb(237,237,237)\",\"ticklen\":6,\"ticks\":\"inside\"}},\"type\":\"scatterternary\"}],\"surface\":[{\"colorbar\":{\"outlinewidth\":0,\"tickcolor\":\"rgb(237,237,237)\",\"ticklen\":6,\"ticks\":\"inside\"},\"colorscale\":[[0,\"rgb(20,44,66)\"],[1,\"rgb(90,179,244)\"]],\"type\":\"surface\"}],\"table\":[{\"cells\":{\"fill\":{\"color\":\"rgb(237,237,237)\"},\"line\":{\"color\":\"white\"}},\"header\":{\"fill\":{\"color\":\"rgb(217,217,217)\"},\"line\":{\"color\":\"white\"}},\"type\":\"table\"}]},\"layout\":{\"annotationdefaults\":{\"arrowhead\":0,\"arrowwidth\":1},\"autotypenumbers\":\"strict\",\"coloraxis\":{\"colorbar\":{\"outlinewidth\":0,\"tickcolor\":\"rgb(237,237,237)\",\"ticklen\":6,\"ticks\":\"inside\"}},\"colorscale\":{\"sequential\":[[0,\"rgb(20,44,66)\"],[1,\"rgb(90,179,244)\"]],\"sequentialminus\":[[0,\"rgb(20,44,66)\"],[1,\"rgb(90,179,244)\"]]},\"colorway\":[\"#F8766D\",\"#A3A500\",\"#00BF7D\",\"#00B0F6\",\"#E76BF3\"],\"font\":{\"color\":\"rgb(51,51,51)\"},\"geo\":{\"bgcolor\":\"white\",\"lakecolor\":\"white\",\"landcolor\":\"rgb(237,237,237)\",\"showlakes\":true,\"showland\":true,\"subunitcolor\":\"white\"},\"hoverlabel\":{\"align\":\"left\"},\"hovermode\":\"closest\",\"paper_bgcolor\":\"white\",\"plot_bgcolor\":\"rgb(237,237,237)\",\"polar\":{\"angularaxis\":{\"gridcolor\":\"white\",\"linecolor\":\"white\",\"showgrid\":true,\"tickcolor\":\"rgb(51,51,51)\",\"ticks\":\"outside\"},\"bgcolor\":\"rgb(237,237,237)\",\"radialaxis\":{\"gridcolor\":\"white\",\"linecolor\":\"white\",\"showgrid\":true,\"tickcolor\":\"rgb(51,51,51)\",\"ticks\":\"outside\"}},\"scene\":{\"xaxis\":{\"backgroundcolor\":\"rgb(237,237,237)\",\"gridcolor\":\"white\",\"gridwidth\":2,\"linecolor\":\"white\",\"showbackground\":true,\"showgrid\":true,\"tickcolor\":\"rgb(51,51,51)\",\"ticks\":\"outside\",\"zerolinecolor\":\"white\"},\"yaxis\":{\"backgroundcolor\":\"rgb(237,237,237)\",\"gridcolor\":\"white\",\"gridwidth\":2,\"linecolor\":\"white\",\"showbackground\":true,\"showgrid\":true,\"tickcolor\":\"rgb(51,51,51)\",\"ticks\":\"outside\",\"zerolinecolor\":\"white\"},\"zaxis\":{\"backgroundcolor\":\"rgb(237,237,237)\",\"gridcolor\":\"white\",\"gridwidth\":2,\"linecolor\":\"white\",\"showbackground\":true,\"showgrid\":true,\"tickcolor\":\"rgb(51,51,51)\",\"ticks\":\"outside\",\"zerolinecolor\":\"white\"}},\"shapedefaults\":{\"fillcolor\":\"black\",\"line\":{\"width\":0},\"opacity\":0.3},\"ternary\":{\"aaxis\":{\"gridcolor\":\"white\",\"linecolor\":\"white\",\"showgrid\":true,\"tickcolor\":\"rgb(51,51,51)\",\"ticks\":\"outside\"},\"baxis\":{\"gridcolor\":\"white\",\"linecolor\":\"white\",\"showgrid\":true,\"tickcolor\":\"rgb(51,51,51)\",\"ticks\":\"outside\"},\"bgcolor\":\"rgb(237,237,237)\",\"caxis\":{\"gridcolor\":\"white\",\"linecolor\":\"white\",\"showgrid\":true,\"tickcolor\":\"rgb(51,51,51)\",\"ticks\":\"outside\"}},\"xaxis\":{\"automargin\":true,\"gridcolor\":\"white\",\"linecolor\":\"white\",\"showgrid\":true,\"tickcolor\":\"rgb(51,51,51)\",\"ticks\":\"outside\",\"title\":{\"standoff\":15},\"zerolinecolor\":\"white\"},\"yaxis\":{\"automargin\":true,\"gridcolor\":\"white\",\"linecolor\":\"white\",\"showgrid\":true,\"tickcolor\":\"rgb(51,51,51)\",\"ticks\":\"outside\",\"title\":{\"standoff\":15},\"zerolinecolor\":\"white\"}}},\"xaxis\":{\"anchor\":\"y\",\"domain\":[0.0,1.0]},\"yaxis\":{\"anchor\":\"x\",\"domain\":[0.0,1.0]},\"showlegend\":true,\"title\":{\"text\":\"Actual vs. Forecast (In-Sample)\"}},                        {\"responsive\": true}                    ).then(function(){\n",
       "                            \n",
       "var gd = document.getElementById('9119c119-0a17-4f38-86cc-9968e08acb7a');\n",
       "var x = new MutationObserver(function (mutations, observer) {{\n",
       "        var display = window.getComputedStyle(gd).display;\n",
       "        if (!display || display === 'none') {{\n",
       "            console.log([gd, 'removed!']);\n",
       "            Plotly.purge(gd);\n",
       "            observer.disconnect();\n",
       "        }}\n",
       "}});\n",
       "\n",
       "// Listen for the removal of the full notebook cells\n",
       "var notebookContainer = gd.closest('#notebook-container');\n",
       "if (notebookContainer) {{\n",
       "    x.observe(notebookContainer, {childList: true});\n",
       "}}\n",
       "\n",
       "// Listen for the clearing of the current output cell\n",
       "var outputEl = gd.closest('.output');\n",
       "if (outputEl) {{\n",
       "    x.observe(outputEl, {childList: true});\n",
       "}}\n",
       "\n",
       "                        })                };                            </script>        </div>\n",
       "</body>\n",
       "</html>"
      ]
     },
     "metadata": {},
     "output_type": "display_data"
    }
   ],
   "source": [
    "plot_model(es, plot = 'insample', fig_kwargs={'renderer': 'colab'})\n",
    "#there is evidence of overfitting"
   ]
  },
  {
   "cell_type": "code",
   "execution_count": 185,
   "id": "8be44716-8e01-4e90-ad1b-36d9d3c964b4",
   "metadata": {},
   "outputs": [],
   "source": [
    "#applying exponential smoothing model to a different product will tell us its performance on new data"
   ]
  },
  {
   "cell_type": "code",
   "execution_count": 21,
   "id": "0ec358bc-d3c0-4676-95c4-deb9b9699e63",
   "metadata": {},
   "outputs": [
    {
     "data": {
      "text/html": [
       "<style type=\"text/css\">\n",
       "#T_7e8af_row13_col1 {\n",
       "  background-color: lightgreen;\n",
       "}\n",
       "</style>\n",
       "<table id=\"T_7e8af\">\n",
       "  <thead>\n",
       "    <tr>\n",
       "      <th class=\"blank level0\" >&nbsp;</th>\n",
       "      <th id=\"T_7e8af_level0_col0\" class=\"col_heading level0 col0\" >Description</th>\n",
       "      <th id=\"T_7e8af_level0_col1\" class=\"col_heading level0 col1\" >Value</th>\n",
       "    </tr>\n",
       "  </thead>\n",
       "  <tbody>\n",
       "    <tr>\n",
       "      <th id=\"T_7e8af_level0_row0\" class=\"row_heading level0 row0\" >0</th>\n",
       "      <td id=\"T_7e8af_row0_col0\" class=\"data row0 col0\" >session_id</td>\n",
       "      <td id=\"T_7e8af_row0_col1\" class=\"data row0 col1\" >8956</td>\n",
       "    </tr>\n",
       "    <tr>\n",
       "      <th id=\"T_7e8af_level0_row1\" class=\"row_heading level0 row1\" >1</th>\n",
       "      <td id=\"T_7e8af_row1_col0\" class=\"data row1 col0\" >Target</td>\n",
       "      <td id=\"T_7e8af_row1_col1\" class=\"data row1 col1\" >sales</td>\n",
       "    </tr>\n",
       "    <tr>\n",
       "      <th id=\"T_7e8af_level0_row2\" class=\"row_heading level0 row2\" >2</th>\n",
       "      <td id=\"T_7e8af_row2_col0\" class=\"data row2 col0\" >Approach</td>\n",
       "      <td id=\"T_7e8af_row2_col1\" class=\"data row2 col1\" >Univariate</td>\n",
       "    </tr>\n",
       "    <tr>\n",
       "      <th id=\"T_7e8af_level0_row3\" class=\"row_heading level0 row3\" >3</th>\n",
       "      <td id=\"T_7e8af_row3_col0\" class=\"data row3 col0\" >Exogenous Variables</td>\n",
       "      <td id=\"T_7e8af_row3_col1\" class=\"data row3 col1\" >Not Present</td>\n",
       "    </tr>\n",
       "    <tr>\n",
       "      <th id=\"T_7e8af_level0_row4\" class=\"row_heading level0 row4\" >4</th>\n",
       "      <td id=\"T_7e8af_row4_col0\" class=\"data row4 col0\" >Original data shape</td>\n",
       "      <td id=\"T_7e8af_row4_col1\" class=\"data row4 col1\" >(48, 1)</td>\n",
       "    </tr>\n",
       "    <tr>\n",
       "      <th id=\"T_7e8af_level0_row5\" class=\"row_heading level0 row5\" >5</th>\n",
       "      <td id=\"T_7e8af_row5_col0\" class=\"data row5 col0\" >Transformed data shape</td>\n",
       "      <td id=\"T_7e8af_row5_col1\" class=\"data row5 col1\" >(48, 1)</td>\n",
       "    </tr>\n",
       "    <tr>\n",
       "      <th id=\"T_7e8af_level0_row6\" class=\"row_heading level0 row6\" >6</th>\n",
       "      <td id=\"T_7e8af_row6_col0\" class=\"data row6 col0\" >Transformed train set shape</td>\n",
       "      <td id=\"T_7e8af_row6_col1\" class=\"data row6 col1\" >(47, 1)</td>\n",
       "    </tr>\n",
       "    <tr>\n",
       "      <th id=\"T_7e8af_level0_row7\" class=\"row_heading level0 row7\" >7</th>\n",
       "      <td id=\"T_7e8af_row7_col0\" class=\"data row7 col0\" >Transformed test set shape</td>\n",
       "      <td id=\"T_7e8af_row7_col1\" class=\"data row7 col1\" >(1, 1)</td>\n",
       "    </tr>\n",
       "    <tr>\n",
       "      <th id=\"T_7e8af_level0_row8\" class=\"row_heading level0 row8\" >8</th>\n",
       "      <td id=\"T_7e8af_row8_col0\" class=\"data row8 col0\" >Rows with missing values</td>\n",
       "      <td id=\"T_7e8af_row8_col1\" class=\"data row8 col1\" >0.0%</td>\n",
       "    </tr>\n",
       "    <tr>\n",
       "      <th id=\"T_7e8af_level0_row9\" class=\"row_heading level0 row9\" >9</th>\n",
       "      <td id=\"T_7e8af_row9_col0\" class=\"data row9 col0\" >Fold Generator</td>\n",
       "      <td id=\"T_7e8af_row9_col1\" class=\"data row9 col1\" >ExpandingWindowSplitter</td>\n",
       "    </tr>\n",
       "    <tr>\n",
       "      <th id=\"T_7e8af_level0_row10\" class=\"row_heading level0 row10\" >10</th>\n",
       "      <td id=\"T_7e8af_row10_col0\" class=\"data row10 col0\" >Fold Number</td>\n",
       "      <td id=\"T_7e8af_row10_col1\" class=\"data row10 col1\" >5</td>\n",
       "    </tr>\n",
       "    <tr>\n",
       "      <th id=\"T_7e8af_level0_row11\" class=\"row_heading level0 row11\" >11</th>\n",
       "      <td id=\"T_7e8af_row11_col0\" class=\"data row11 col0\" >Enforce Prediction Interval</td>\n",
       "      <td id=\"T_7e8af_row11_col1\" class=\"data row11 col1\" >False</td>\n",
       "    </tr>\n",
       "    <tr>\n",
       "      <th id=\"T_7e8af_level0_row12\" class=\"row_heading level0 row12\" >12</th>\n",
       "      <td id=\"T_7e8af_row12_col0\" class=\"data row12 col0\" >Seasonal Period(s) Tested</td>\n",
       "      <td id=\"T_7e8af_row12_col1\" class=\"data row12 col1\" >12</td>\n",
       "    </tr>\n",
       "    <tr>\n",
       "      <th id=\"T_7e8af_level0_row13\" class=\"row_heading level0 row13\" >13</th>\n",
       "      <td id=\"T_7e8af_row13_col0\" class=\"data row13 col0\" >Seasonality Present</td>\n",
       "      <td id=\"T_7e8af_row13_col1\" class=\"data row13 col1\" >True</td>\n",
       "    </tr>\n",
       "    <tr>\n",
       "      <th id=\"T_7e8af_level0_row14\" class=\"row_heading level0 row14\" >14</th>\n",
       "      <td id=\"T_7e8af_row14_col0\" class=\"data row14 col0\" >Seasonalities Detected</td>\n",
       "      <td id=\"T_7e8af_row14_col1\" class=\"data row14 col1\" >[12]</td>\n",
       "    </tr>\n",
       "    <tr>\n",
       "      <th id=\"T_7e8af_level0_row15\" class=\"row_heading level0 row15\" >15</th>\n",
       "      <td id=\"T_7e8af_row15_col0\" class=\"data row15 col0\" >Primary Seasonality</td>\n",
       "      <td id=\"T_7e8af_row15_col1\" class=\"data row15 col1\" >12</td>\n",
       "    </tr>\n",
       "    <tr>\n",
       "      <th id=\"T_7e8af_level0_row16\" class=\"row_heading level0 row16\" >16</th>\n",
       "      <td id=\"T_7e8af_row16_col0\" class=\"data row16 col0\" >Target Strictly Positive</td>\n",
       "      <td id=\"T_7e8af_row16_col1\" class=\"data row16 col1\" >True</td>\n",
       "    </tr>\n",
       "    <tr>\n",
       "      <th id=\"T_7e8af_level0_row17\" class=\"row_heading level0 row17\" >17</th>\n",
       "      <td id=\"T_7e8af_row17_col0\" class=\"data row17 col0\" >Target White Noise</td>\n",
       "      <td id=\"T_7e8af_row17_col1\" class=\"data row17 col1\" >No</td>\n",
       "    </tr>\n",
       "    <tr>\n",
       "      <th id=\"T_7e8af_level0_row18\" class=\"row_heading level0 row18\" >18</th>\n",
       "      <td id=\"T_7e8af_row18_col0\" class=\"data row18 col0\" >Recommended d</td>\n",
       "      <td id=\"T_7e8af_row18_col1\" class=\"data row18 col1\" >0</td>\n",
       "    </tr>\n",
       "    <tr>\n",
       "      <th id=\"T_7e8af_level0_row19\" class=\"row_heading level0 row19\" >19</th>\n",
       "      <td id=\"T_7e8af_row19_col0\" class=\"data row19 col0\" >Recommended Seasonal D</td>\n",
       "      <td id=\"T_7e8af_row19_col1\" class=\"data row19 col1\" >1</td>\n",
       "    </tr>\n",
       "    <tr>\n",
       "      <th id=\"T_7e8af_level0_row20\" class=\"row_heading level0 row20\" >20</th>\n",
       "      <td id=\"T_7e8af_row20_col0\" class=\"data row20 col0\" >Preprocess</td>\n",
       "      <td id=\"T_7e8af_row20_col1\" class=\"data row20 col1\" >False</td>\n",
       "    </tr>\n",
       "    <tr>\n",
       "      <th id=\"T_7e8af_level0_row21\" class=\"row_heading level0 row21\" >21</th>\n",
       "      <td id=\"T_7e8af_row21_col0\" class=\"data row21 col0\" >CPU Jobs</td>\n",
       "      <td id=\"T_7e8af_row21_col1\" class=\"data row21 col1\" >-1</td>\n",
       "    </tr>\n",
       "    <tr>\n",
       "      <th id=\"T_7e8af_level0_row22\" class=\"row_heading level0 row22\" >22</th>\n",
       "      <td id=\"T_7e8af_row22_col0\" class=\"data row22 col0\" >Use GPU</td>\n",
       "      <td id=\"T_7e8af_row22_col1\" class=\"data row22 col1\" >False</td>\n",
       "    </tr>\n",
       "    <tr>\n",
       "      <th id=\"T_7e8af_level0_row23\" class=\"row_heading level0 row23\" >23</th>\n",
       "      <td id=\"T_7e8af_row23_col0\" class=\"data row23 col0\" >Log Experiment</td>\n",
       "      <td id=\"T_7e8af_row23_col1\" class=\"data row23 col1\" >False</td>\n",
       "    </tr>\n",
       "    <tr>\n",
       "      <th id=\"T_7e8af_level0_row24\" class=\"row_heading level0 row24\" >24</th>\n",
       "      <td id=\"T_7e8af_row24_col0\" class=\"data row24 col0\" >Experiment Name</td>\n",
       "      <td id=\"T_7e8af_row24_col1\" class=\"data row24 col1\" >ts-default-name</td>\n",
       "    </tr>\n",
       "    <tr>\n",
       "      <th id=\"T_7e8af_level0_row25\" class=\"row_heading level0 row25\" >25</th>\n",
       "      <td id=\"T_7e8af_row25_col0\" class=\"data row25 col0\" >USI</td>\n",
       "      <td id=\"T_7e8af_row25_col1\" class=\"data row25 col1\" >8c08</td>\n",
       "    </tr>\n",
       "  </tbody>\n",
       "</table>\n"
      ],
      "text/plain": [
       "<pandas.io.formats.style.Styler at 0x1709675fa90>"
      ]
     },
     "metadata": {},
     "output_type": "display_data"
    },
    {
     "data": {
      "text/plain": [
       "<pycaret.time_series.forecasting.oop.TSForecastingExperiment at 0x1708d764940>"
      ]
     },
     "execution_count": 21,
     "metadata": {},
     "output_type": "execute_result"
    }
   ],
   "source": [
    "#creates a dataframe from monthly sales for item 50 from store 3\n",
    "test = df[df['time_series'] == 'store_3_item_50'].groupby(['Year', 'Month', 'time_series'])[['sales']].sum().reset_index()\n",
    "test['Date'] = pd.date_range(start = '2013-01-01', end = '2017-12-01', freq = 'MS')\n",
    "\n",
    "s2 = TSForecastingExperiment()\n",
    "s2.setup(test[['Date', 'sales']][test['Date'] < '2017-01-01'].set_index('Date'), target = 'sales', fold = 5)"
   ]
  },
  {
   "cell_type": "code",
   "execution_count": 22,
   "id": "753beb4d-4666-4dbd-9b52-cdc68d2377ae",
   "metadata": {},
   "outputs": [
    {
     "data": {
      "text/html": [],
      "text/plain": [
       "<IPython.core.display.HTML object>"
      ]
     },
     "metadata": {},
     "output_type": "display_data"
    },
    {
     "data": {
      "text/html": [
       "<style type=\"text/css\">\n",
       "#T_e48da_row5_col0, #T_e48da_row5_col1, #T_e48da_row5_col2, #T_e48da_row5_col3, #T_e48da_row5_col4, #T_e48da_row5_col5, #T_e48da_row5_col6 {\n",
       "  background: yellow;\n",
       "}\n",
       "</style>\n",
       "<table id=\"T_e48da\">\n",
       "  <thead>\n",
       "    <tr>\n",
       "      <th class=\"blank level0\" >&nbsp;</th>\n",
       "      <th id=\"T_e48da_level0_col0\" class=\"col_heading level0 col0\" >cutoff</th>\n",
       "      <th id=\"T_e48da_level0_col1\" class=\"col_heading level0 col1\" >MASE</th>\n",
       "      <th id=\"T_e48da_level0_col2\" class=\"col_heading level0 col2\" >RMSSE</th>\n",
       "      <th id=\"T_e48da_level0_col3\" class=\"col_heading level0 col3\" >MAE</th>\n",
       "      <th id=\"T_e48da_level0_col4\" class=\"col_heading level0 col4\" >RMSE</th>\n",
       "      <th id=\"T_e48da_level0_col5\" class=\"col_heading level0 col5\" >MAPE</th>\n",
       "      <th id=\"T_e48da_level0_col6\" class=\"col_heading level0 col6\" >SMAPE</th>\n",
       "    </tr>\n",
       "  </thead>\n",
       "  <tbody>\n",
       "    <tr>\n",
       "      <th id=\"T_e48da_level0_row0\" class=\"row_heading level0 row0\" >0</th>\n",
       "      <td id=\"T_e48da_row0_col0\" class=\"data row0 col0\" >2016-06</td>\n",
       "      <td id=\"T_e48da_row0_col1\" class=\"data row0 col1\" >0.2774</td>\n",
       "      <td id=\"T_e48da_row0_col2\" class=\"data row0 col2\" >0.2396</td>\n",
       "      <td id=\"T_e48da_row0_col3\" class=\"data row0 col3\" >53.5604</td>\n",
       "      <td id=\"T_e48da_row0_col4\" class=\"data row0 col4\" >53.5604</td>\n",
       "      <td id=\"T_e48da_row0_col5\" class=\"data row0 col5\" >0.0168</td>\n",
       "      <td id=\"T_e48da_row0_col6\" class=\"data row0 col6\" >0.0167</td>\n",
       "    </tr>\n",
       "    <tr>\n",
       "      <th id=\"T_e48da_level0_row1\" class=\"row_heading level0 row1\" >1</th>\n",
       "      <td id=\"T_e48da_row1_col0\" class=\"data row1 col0\" >2016-07</td>\n",
       "      <td id=\"T_e48da_row1_col1\" class=\"data row1 col1\" >0.2009</td>\n",
       "      <td id=\"T_e48da_row1_col2\" class=\"data row1 col2\" >0.1743</td>\n",
       "      <td id=\"T_e48da_row1_col3\" class=\"data row1 col3\" >38.8274</td>\n",
       "      <td id=\"T_e48da_row1_col4\" class=\"data row1 col4\" >38.8274</td>\n",
       "      <td id=\"T_e48da_row1_col5\" class=\"data row1 col5\" >0.0136</td>\n",
       "      <td id=\"T_e48da_row1_col6\" class=\"data row1 col6\" >0.0137</td>\n",
       "    </tr>\n",
       "    <tr>\n",
       "      <th id=\"T_e48da_level0_row2\" class=\"row_heading level0 row2\" >2</th>\n",
       "      <td id=\"T_e48da_row2_col0\" class=\"data row2 col0\" >2016-08</td>\n",
       "      <td id=\"T_e48da_row2_col1\" class=\"data row2 col1\" >0.6071</td>\n",
       "      <td id=\"T_e48da_row2_col2\" class=\"data row2 col2\" >0.5283</td>\n",
       "      <td id=\"T_e48da_row2_col3\" class=\"data row2 col3\" >117.0373</td>\n",
       "      <td id=\"T_e48da_row2_col4\" class=\"data row2 col4\" >117.0373</td>\n",
       "      <td id=\"T_e48da_row2_col5\" class=\"data row2 col5\" >0.0442</td>\n",
       "      <td id=\"T_e48da_row2_col6\" class=\"data row2 col6\" >0.0452</td>\n",
       "    </tr>\n",
       "    <tr>\n",
       "      <th id=\"T_e48da_level0_row3\" class=\"row_heading level0 row3\" >3</th>\n",
       "      <td id=\"T_e48da_row3_col0\" class=\"data row3 col0\" >2016-09</td>\n",
       "      <td id=\"T_e48da_row3_col1\" class=\"data row3 col1\" >0.0545</td>\n",
       "      <td id=\"T_e48da_row3_col2\" class=\"data row3 col2\" >0.0476</td>\n",
       "      <td id=\"T_e48da_row3_col3\" class=\"data row3 col3\" >10.6921</td>\n",
       "      <td id=\"T_e48da_row3_col4\" class=\"data row3 col4\" >10.6921</td>\n",
       "      <td id=\"T_e48da_row3_col5\" class=\"data row3 col5\" >0.0043</td>\n",
       "      <td id=\"T_e48da_row3_col6\" class=\"data row3 col6\" >0.0043</td>\n",
       "    </tr>\n",
       "    <tr>\n",
       "      <th id=\"T_e48da_level0_row4\" class=\"row_heading level0 row4\" >4</th>\n",
       "      <td id=\"T_e48da_row4_col0\" class=\"data row4 col0\" >2016-10</td>\n",
       "      <td id=\"T_e48da_row4_col1\" class=\"data row4 col1\" >0.2264</td>\n",
       "      <td id=\"T_e48da_row4_col2\" class=\"data row4 col2\" >0.1985</td>\n",
       "      <td id=\"T_e48da_row4_col3\" class=\"data row4 col3\" >44.4410</td>\n",
       "      <td id=\"T_e48da_row4_col4\" class=\"data row4 col4\" >44.4410</td>\n",
       "      <td id=\"T_e48da_row4_col5\" class=\"data row4 col5\" >0.0174</td>\n",
       "      <td id=\"T_e48da_row4_col6\" class=\"data row4 col6\" >0.0172</td>\n",
       "    </tr>\n",
       "    <tr>\n",
       "      <th id=\"T_e48da_level0_row5\" class=\"row_heading level0 row5\" >Mean</th>\n",
       "      <td id=\"T_e48da_row5_col0\" class=\"data row5 col0\" >nan</td>\n",
       "      <td id=\"T_e48da_row5_col1\" class=\"data row5 col1\" >0.2733</td>\n",
       "      <td id=\"T_e48da_row5_col2\" class=\"data row5 col2\" >0.2376</td>\n",
       "      <td id=\"T_e48da_row5_col3\" class=\"data row5 col3\" >52.9116</td>\n",
       "      <td id=\"T_e48da_row5_col4\" class=\"data row5 col4\" >52.9116</td>\n",
       "      <td id=\"T_e48da_row5_col5\" class=\"data row5 col5\" >0.0192</td>\n",
       "      <td id=\"T_e48da_row5_col6\" class=\"data row5 col6\" >0.0194</td>\n",
       "    </tr>\n",
       "    <tr>\n",
       "      <th id=\"T_e48da_level0_row6\" class=\"row_heading level0 row6\" >SD</th>\n",
       "      <td id=\"T_e48da_row6_col0\" class=\"data row6 col0\" >nan</td>\n",
       "      <td id=\"T_e48da_row6_col1\" class=\"data row6 col1\" >0.1826</td>\n",
       "      <td id=\"T_e48da_row6_col2\" class=\"data row6 col2\" >0.1588</td>\n",
       "      <td id=\"T_e48da_row6_col3\" class=\"data row6 col3\" >35.1145</td>\n",
       "      <td id=\"T_e48da_row6_col4\" class=\"data row6 col4\" >35.1145</td>\n",
       "      <td id=\"T_e48da_row6_col5\" class=\"data row6 col5\" >0.0133</td>\n",
       "      <td id=\"T_e48da_row6_col6\" class=\"data row6 col6\" >0.0137</td>\n",
       "    </tr>\n",
       "  </tbody>\n",
       "</table>\n"
      ],
      "text/plain": [
       "<pandas.io.formats.style.Styler at 0x1709656c8e0>"
      ]
     },
     "metadata": {},
     "output_type": "display_data"
    },
    {
     "data": {
      "application/vnd.jupyter.widget-view+json": {
       "model_id": "",
       "version_major": 2,
       "version_minor": 0
      },
      "text/plain": [
       "Processing:   0%|          | 0/4 [00:00<?, ?it/s]"
      ]
     },
     "metadata": {},
     "output_type": "display_data"
    }
   ],
   "source": [
    "es2 = s2.create_model('exp_smooth')"
   ]
  },
  {
   "cell_type": "code",
   "execution_count": 42,
   "id": "cf361b93-4d6a-4047-a36f-df22cc6116df",
   "metadata": {},
   "outputs": [
    {
     "data": {
      "text/html": [
       "<html>\n",
       "<head><meta charset=\"utf-8\" /></head>\n",
       "<body>\n",
       "    <div>            <script src=\"https://cdnjs.cloudflare.com/ajax/libs/mathjax/2.7.5/MathJax.js?config=TeX-AMS-MML_SVG\"></script><script type=\"text/javascript\">if (window.MathJax && window.MathJax.Hub && && window.MathJax.Hub.Config) {window.MathJax.Hub.Config({SVG: {font: \"STIX-Web\"}});}</script>                <script type=\"text/javascript\">window.PlotlyConfig = {MathJaxConfig: 'local'};</script>\n",
       "        <script src=\"https://cdn.plot.ly/plotly-2.12.1.min.js\"></script>                <div id=\"b9554a56-b22b-4867-a2b5-0b429fa2948d\" class=\"plotly-graph-div\" style=\"height:525px; width:100%;\"></div>            <script type=\"text/javascript\">                                    window.PLOTLYENV=window.PLOTLYENV || {};                                    if (document.getElementById(\"b9554a56-b22b-4867-a2b5-0b429fa2948d\")) {                    Plotly.newPlot(                        \"b9554a56-b22b-4867-a2b5-0b429fa2948d\",                        [{\"line\":{\"color\":\"rgb(31, 119, 180)\",\"width\":2},\"marker\":{\"color\":\"rgb(31, 119, 180)\",\"size\":5},\"mode\":\"lines+markers\",\"name\":\"sales\",\"x\":[\"2013-01-01T00:00:00\",\"2013-02-01T00:00:00\",\"2013-03-01T00:00:00\",\"2013-04-01T00:00:00\",\"2013-05-01T00:00:00\",\"2013-06-01T00:00:00\",\"2013-07-01T00:00:00\",\"2013-08-01T00:00:00\",\"2013-09-01T00:00:00\",\"2013-10-01T00:00:00\",\"2013-11-01T00:00:00\",\"2013-12-01T00:00:00\",\"2014-01-01T00:00:00\",\"2014-02-01T00:00:00\",\"2014-03-01T00:00:00\",\"2014-04-01T00:00:00\",\"2014-05-01T00:00:00\",\"2014-06-01T00:00:00\",\"2014-07-01T00:00:00\",\"2014-08-01T00:00:00\",\"2014-09-01T00:00:00\",\"2014-10-01T00:00:00\",\"2014-11-01T00:00:00\",\"2014-12-01T00:00:00\",\"2015-01-01T00:00:00\",\"2015-02-01T00:00:00\",\"2015-03-01T00:00:00\",\"2015-04-01T00:00:00\",\"2015-05-01T00:00:00\",\"2015-06-01T00:00:00\",\"2015-07-01T00:00:00\",\"2015-08-01T00:00:00\",\"2015-09-01T00:00:00\",\"2015-10-01T00:00:00\",\"2015-11-01T00:00:00\",\"2015-12-01T00:00:00\",\"2016-01-01T00:00:00\",\"2016-02-01T00:00:00\",\"2016-03-01T00:00:00\",\"2016-04-01T00:00:00\",\"2016-05-01T00:00:00\",\"2016-06-01T00:00:00\",\"2016-07-01T00:00:00\",\"2016-08-01T00:00:00\",\"2016-09-01T00:00:00\",\"2016-10-01T00:00:00\",\"2016-11-01T00:00:00\",\"2016-12-01T00:00:00\"],\"y\":[1308,1346,1821,1934,2139,2259,2492,2199,1971,1913,1980,1463,1553,1564,1989,2277,2573,2610,2924,2501,2274,2158,2277,1670,1597,1604,2107,2410,2499,2656,2985,2683,2341,2287,2397,1742,1696,1761,2308,2566,2817,2887,3182,2862,2650,2482,2559,1936],\"type\":\"scatter\",\"xaxis\":\"x\",\"yaxis\":\"y\"},{\"line\":{\"color\":\"rgb(255, 127, 14)\",\"width\":2},\"marker\":{\"color\":\"rgb(255, 127, 14)\",\"size\":5},\"mode\":\"lines+markers\",\"name\":\"Exponential Smoothing\",\"x\":[\"2013-01-01T00:00:00\",\"2013-02-01T00:00:00\",\"2013-03-01T00:00:00\",\"2013-04-01T00:00:00\",\"2013-05-01T00:00:00\",\"2013-06-01T00:00:00\",\"2013-07-01T00:00:00\",\"2013-08-01T00:00:00\",\"2013-09-01T00:00:00\",\"2013-10-01T00:00:00\",\"2013-11-01T00:00:00\",\"2013-12-01T00:00:00\",\"2014-01-01T00:00:00\",\"2014-02-01T00:00:00\",\"2014-03-01T00:00:00\",\"2014-04-01T00:00:00\",\"2014-05-01T00:00:00\",\"2014-06-01T00:00:00\",\"2014-07-01T00:00:00\",\"2014-08-01T00:00:00\",\"2014-09-01T00:00:00\",\"2014-10-01T00:00:00\",\"2014-11-01T00:00:00\",\"2014-12-01T00:00:00\",\"2015-01-01T00:00:00\",\"2015-02-01T00:00:00\",\"2015-03-01T00:00:00\",\"2015-04-01T00:00:00\",\"2015-05-01T00:00:00\",\"2015-06-01T00:00:00\",\"2015-07-01T00:00:00\",\"2015-08-01T00:00:00\",\"2015-09-01T00:00:00\",\"2015-10-01T00:00:00\",\"2015-11-01T00:00:00\",\"2015-12-01T00:00:00\",\"2016-01-01T00:00:00\",\"2016-02-01T00:00:00\",\"2016-03-01T00:00:00\",\"2016-04-01T00:00:00\",\"2016-05-01T00:00:00\",\"2016-06-01T00:00:00\",\"2016-07-01T00:00:00\",\"2016-08-01T00:00:00\",\"2016-09-01T00:00:00\",\"2016-10-01T00:00:00\",\"2016-11-01T00:00:00\",\"2016-12-01T00:00:00\"],\"y\":[null,null,null,null,null,null,null,null,null,null,null,null,null,null,null,null,null,null,null,null,null,null,null,null,null,null,null,null,null,null,null,null,null,null,null,null,null,null,null,null,null,null,null,null,null,null,null,1885.2037],\"type\":\"scatter\",\"xaxis\":\"x\",\"yaxis\":\"y\"}],                        {\"template\":{\"data\":{\"barpolar\":[{\"marker\":{\"line\":{\"color\":\"rgb(237,237,237)\",\"width\":0.5},\"pattern\":{\"fillmode\":\"overlay\",\"size\":10,\"solidity\":0.2}},\"type\":\"barpolar\"}],\"bar\":[{\"error_x\":{\"color\":\"rgb(51,51,51)\"},\"error_y\":{\"color\":\"rgb(51,51,51)\"},\"marker\":{\"line\":{\"color\":\"rgb(237,237,237)\",\"width\":0.5},\"pattern\":{\"fillmode\":\"overlay\",\"size\":10,\"solidity\":0.2}},\"type\":\"bar\"}],\"carpet\":[{\"aaxis\":{\"endlinecolor\":\"rgb(51,51,51)\",\"gridcolor\":\"white\",\"linecolor\":\"white\",\"minorgridcolor\":\"white\",\"startlinecolor\":\"rgb(51,51,51)\"},\"baxis\":{\"endlinecolor\":\"rgb(51,51,51)\",\"gridcolor\":\"white\",\"linecolor\":\"white\",\"minorgridcolor\":\"white\",\"startlinecolor\":\"rgb(51,51,51)\"},\"type\":\"carpet\"}],\"choropleth\":[{\"colorbar\":{\"outlinewidth\":0,\"tickcolor\":\"rgb(237,237,237)\",\"ticklen\":6,\"ticks\":\"inside\"},\"type\":\"choropleth\"}],\"contourcarpet\":[{\"colorbar\":{\"outlinewidth\":0,\"tickcolor\":\"rgb(237,237,237)\",\"ticklen\":6,\"ticks\":\"inside\"},\"type\":\"contourcarpet\"}],\"contour\":[{\"colorbar\":{\"outlinewidth\":0,\"tickcolor\":\"rgb(237,237,237)\",\"ticklen\":6,\"ticks\":\"inside\"},\"colorscale\":[[0,\"rgb(20,44,66)\"],[1,\"rgb(90,179,244)\"]],\"type\":\"contour\"}],\"heatmapgl\":[{\"colorbar\":{\"outlinewidth\":0,\"tickcolor\":\"rgb(237,237,237)\",\"ticklen\":6,\"ticks\":\"inside\"},\"colorscale\":[[0,\"rgb(20,44,66)\"],[1,\"rgb(90,179,244)\"]],\"type\":\"heatmapgl\"}],\"heatmap\":[{\"colorbar\":{\"outlinewidth\":0,\"tickcolor\":\"rgb(237,237,237)\",\"ticklen\":6,\"ticks\":\"inside\"},\"colorscale\":[[0,\"rgb(20,44,66)\"],[1,\"rgb(90,179,244)\"]],\"type\":\"heatmap\"}],\"histogram2dcontour\":[{\"colorbar\":{\"outlinewidth\":0,\"tickcolor\":\"rgb(237,237,237)\",\"ticklen\":6,\"ticks\":\"inside\"},\"colorscale\":[[0,\"rgb(20,44,66)\"],[1,\"rgb(90,179,244)\"]],\"type\":\"histogram2dcontour\"}],\"histogram2d\":[{\"colorbar\":{\"outlinewidth\":0,\"tickcolor\":\"rgb(237,237,237)\",\"ticklen\":6,\"ticks\":\"inside\"},\"colorscale\":[[0,\"rgb(20,44,66)\"],[1,\"rgb(90,179,244)\"]],\"type\":\"histogram2d\"}],\"histogram\":[{\"marker\":{\"pattern\":{\"fillmode\":\"overlay\",\"size\":10,\"solidity\":0.2}},\"type\":\"histogram\"}],\"mesh3d\":[{\"colorbar\":{\"outlinewidth\":0,\"tickcolor\":\"rgb(237,237,237)\",\"ticklen\":6,\"ticks\":\"inside\"},\"type\":\"mesh3d\"}],\"parcoords\":[{\"line\":{\"colorbar\":{\"outlinewidth\":0,\"tickcolor\":\"rgb(237,237,237)\",\"ticklen\":6,\"ticks\":\"inside\"}},\"type\":\"parcoords\"}],\"pie\":[{\"automargin\":true,\"type\":\"pie\"}],\"scatter3d\":[{\"line\":{\"colorbar\":{\"outlinewidth\":0,\"tickcolor\":\"rgb(237,237,237)\",\"ticklen\":6,\"ticks\":\"inside\"}},\"marker\":{\"colorbar\":{\"outlinewidth\":0,\"tickcolor\":\"rgb(237,237,237)\",\"ticklen\":6,\"ticks\":\"inside\"}},\"type\":\"scatter3d\"}],\"scattercarpet\":[{\"marker\":{\"colorbar\":{\"outlinewidth\":0,\"tickcolor\":\"rgb(237,237,237)\",\"ticklen\":6,\"ticks\":\"inside\"}},\"type\":\"scattercarpet\"}],\"scattergeo\":[{\"marker\":{\"colorbar\":{\"outlinewidth\":0,\"tickcolor\":\"rgb(237,237,237)\",\"ticklen\":6,\"ticks\":\"inside\"}},\"type\":\"scattergeo\"}],\"scattergl\":[{\"marker\":{\"colorbar\":{\"outlinewidth\":0,\"tickcolor\":\"rgb(237,237,237)\",\"ticklen\":6,\"ticks\":\"inside\"}},\"type\":\"scattergl\"}],\"scattermapbox\":[{\"marker\":{\"colorbar\":{\"outlinewidth\":0,\"tickcolor\":\"rgb(237,237,237)\",\"ticklen\":6,\"ticks\":\"inside\"}},\"type\":\"scattermapbox\"}],\"scatterpolargl\":[{\"marker\":{\"colorbar\":{\"outlinewidth\":0,\"tickcolor\":\"rgb(237,237,237)\",\"ticklen\":6,\"ticks\":\"inside\"}},\"type\":\"scatterpolargl\"}],\"scatterpolar\":[{\"marker\":{\"colorbar\":{\"outlinewidth\":0,\"tickcolor\":\"rgb(237,237,237)\",\"ticklen\":6,\"ticks\":\"inside\"}},\"type\":\"scatterpolar\"}],\"scatter\":[{\"fillpattern\":{\"fillmode\":\"overlay\",\"size\":10,\"solidity\":0.2},\"type\":\"scatter\"}],\"scatterternary\":[{\"marker\":{\"colorbar\":{\"outlinewidth\":0,\"tickcolor\":\"rgb(237,237,237)\",\"ticklen\":6,\"ticks\":\"inside\"}},\"type\":\"scatterternary\"}],\"surface\":[{\"colorbar\":{\"outlinewidth\":0,\"tickcolor\":\"rgb(237,237,237)\",\"ticklen\":6,\"ticks\":\"inside\"},\"colorscale\":[[0,\"rgb(20,44,66)\"],[1,\"rgb(90,179,244)\"]],\"type\":\"surface\"}],\"table\":[{\"cells\":{\"fill\":{\"color\":\"rgb(237,237,237)\"},\"line\":{\"color\":\"white\"}},\"header\":{\"fill\":{\"color\":\"rgb(217,217,217)\"},\"line\":{\"color\":\"white\"}},\"type\":\"table\"}]},\"layout\":{\"annotationdefaults\":{\"arrowhead\":0,\"arrowwidth\":1},\"autotypenumbers\":\"strict\",\"coloraxis\":{\"colorbar\":{\"outlinewidth\":0,\"tickcolor\":\"rgb(237,237,237)\",\"ticklen\":6,\"ticks\":\"inside\"}},\"colorscale\":{\"sequential\":[[0,\"rgb(20,44,66)\"],[1,\"rgb(90,179,244)\"]],\"sequentialminus\":[[0,\"rgb(20,44,66)\"],[1,\"rgb(90,179,244)\"]]},\"colorway\":[\"#F8766D\",\"#A3A500\",\"#00BF7D\",\"#00B0F6\",\"#E76BF3\"],\"font\":{\"color\":\"rgb(51,51,51)\"},\"geo\":{\"bgcolor\":\"white\",\"lakecolor\":\"white\",\"landcolor\":\"rgb(237,237,237)\",\"showlakes\":true,\"showland\":true,\"subunitcolor\":\"white\"},\"hoverlabel\":{\"align\":\"left\"},\"hovermode\":\"closest\",\"paper_bgcolor\":\"white\",\"plot_bgcolor\":\"rgb(237,237,237)\",\"polar\":{\"angularaxis\":{\"gridcolor\":\"white\",\"linecolor\":\"white\",\"showgrid\":true,\"tickcolor\":\"rgb(51,51,51)\",\"ticks\":\"outside\"},\"bgcolor\":\"rgb(237,237,237)\",\"radialaxis\":{\"gridcolor\":\"white\",\"linecolor\":\"white\",\"showgrid\":true,\"tickcolor\":\"rgb(51,51,51)\",\"ticks\":\"outside\"}},\"scene\":{\"xaxis\":{\"backgroundcolor\":\"rgb(237,237,237)\",\"gridcolor\":\"white\",\"gridwidth\":2,\"linecolor\":\"white\",\"showbackground\":true,\"showgrid\":true,\"tickcolor\":\"rgb(51,51,51)\",\"ticks\":\"outside\",\"zerolinecolor\":\"white\"},\"yaxis\":{\"backgroundcolor\":\"rgb(237,237,237)\",\"gridcolor\":\"white\",\"gridwidth\":2,\"linecolor\":\"white\",\"showbackground\":true,\"showgrid\":true,\"tickcolor\":\"rgb(51,51,51)\",\"ticks\":\"outside\",\"zerolinecolor\":\"white\"},\"zaxis\":{\"backgroundcolor\":\"rgb(237,237,237)\",\"gridcolor\":\"white\",\"gridwidth\":2,\"linecolor\":\"white\",\"showbackground\":true,\"showgrid\":true,\"tickcolor\":\"rgb(51,51,51)\",\"ticks\":\"outside\",\"zerolinecolor\":\"white\"}},\"shapedefaults\":{\"fillcolor\":\"black\",\"line\":{\"width\":0},\"opacity\":0.3},\"ternary\":{\"aaxis\":{\"gridcolor\":\"white\",\"linecolor\":\"white\",\"showgrid\":true,\"tickcolor\":\"rgb(51,51,51)\",\"ticks\":\"outside\"},\"baxis\":{\"gridcolor\":\"white\",\"linecolor\":\"white\",\"showgrid\":true,\"tickcolor\":\"rgb(51,51,51)\",\"ticks\":\"outside\"},\"bgcolor\":\"rgb(237,237,237)\",\"caxis\":{\"gridcolor\":\"white\",\"linecolor\":\"white\",\"showgrid\":true,\"tickcolor\":\"rgb(51,51,51)\",\"ticks\":\"outside\"}},\"xaxis\":{\"automargin\":true,\"gridcolor\":\"white\",\"linecolor\":\"white\",\"showgrid\":true,\"tickcolor\":\"rgb(51,51,51)\",\"ticks\":\"outside\",\"title\":{\"standoff\":15},\"zerolinecolor\":\"white\"},\"yaxis\":{\"automargin\":true,\"gridcolor\":\"white\",\"linecolor\":\"white\",\"showgrid\":true,\"tickcolor\":\"rgb(51,51,51)\",\"ticks\":\"outside\",\"title\":{\"standoff\":15},\"zerolinecolor\":\"white\"}}},\"xaxis\":{\"anchor\":\"y\",\"domain\":[0.0,1.0]},\"yaxis\":{\"anchor\":\"x\",\"domain\":[0.0,1.0]},\"showlegend\":true,\"title\":{\"text\":\"Actual vs. Forecast (Out-of-Sample)\"}},                        {\"responsive\": true}                    ).then(function(){\n",
       "                            \n",
       "var gd = document.getElementById('b9554a56-b22b-4867-a2b5-0b429fa2948d');\n",
       "var x = new MutationObserver(function (mutations, observer) {{\n",
       "        var display = window.getComputedStyle(gd).display;\n",
       "        if (!display || display === 'none') {{\n",
       "            console.log([gd, 'removed!']);\n",
       "            Plotly.purge(gd);\n",
       "            observer.disconnect();\n",
       "        }}\n",
       "}});\n",
       "\n",
       "// Listen for the removal of the full notebook cells\n",
       "var notebookContainer = gd.closest('#notebook-container');\n",
       "if (notebookContainer) {{\n",
       "    x.observe(notebookContainer, {childList: true});\n",
       "}}\n",
       "\n",
       "// Listen for the clearing of the current output cell\n",
       "var outputEl = gd.closest('.output');\n",
       "if (outputEl) {{\n",
       "    x.observe(outputEl, {childList: true});\n",
       "}}\n",
       "\n",
       "                        })                };                            </script>        </div>\n",
       "</body>\n",
       "</html>"
      ]
     },
     "metadata": {},
     "output_type": "display_data"
    }
   ],
   "source": [
    "s2.plot_model(es2, plot =  'forecast', fig_kwargs={'renderer': 'colab'})"
   ]
  },
  {
   "cell_type": "code",
   "execution_count": 31,
   "id": "255386aa-0bcc-4713-90fb-710fa7fdc593",
   "metadata": {},
   "outputs": [],
   "source": [
    "#uses ES model to predict sales and measure preformance for the next 12 months\n",
    "yhat2 = s2.predict_model(es2, fh = 12)\n",
    "yhat2 = yhat2.reset_index()\n",
    "yhat2['index'] = yhat2['index'].astype(str)"
   ]
  },
  {
   "cell_type": "code",
   "execution_count": 55,
   "id": "380fa822-7e79-4d36-b071-a126cb42b748",
   "metadata": {},
   "outputs": [
    {
     "data": {
      "text/html": [
       "<div>\n",
       "<style scoped>\n",
       "    .dataframe tbody tr th:only-of-type {\n",
       "        vertical-align: middle;\n",
       "    }\n",
       "\n",
       "    .dataframe tbody tr th {\n",
       "        vertical-align: top;\n",
       "    }\n",
       "\n",
       "    .dataframe thead th {\n",
       "        text-align: right;\n",
       "    }\n",
       "</style>\n",
       "<table border=\"1\" class=\"dataframe\">\n",
       "  <thead>\n",
       "    <tr style=\"text-align: right;\">\n",
       "      <th></th>\n",
       "      <th>index</th>\n",
       "      <th>y_pred</th>\n",
       "    </tr>\n",
       "  </thead>\n",
       "  <tbody>\n",
       "    <tr>\n",
       "      <th>0</th>\n",
       "      <td>2016-12</td>\n",
       "      <td>1885.2037</td>\n",
       "    </tr>\n",
       "    <tr>\n",
       "      <th>1</th>\n",
       "      <td>2017-01</td>\n",
       "      <td>1865.3879</td>\n",
       "    </tr>\n",
       "    <tr>\n",
       "      <th>2</th>\n",
       "      <td>2017-02</td>\n",
       "      <td>1894.8826</td>\n",
       "    </tr>\n",
       "    <tr>\n",
       "      <th>3</th>\n",
       "      <td>2017-03</td>\n",
       "      <td>2479.7591</td>\n",
       "    </tr>\n",
       "    <tr>\n",
       "      <th>4</th>\n",
       "      <td>2017-04</td>\n",
       "      <td>2779.1029</td>\n",
       "    </tr>\n",
       "    <tr>\n",
       "      <th>5</th>\n",
       "      <td>2017-05</td>\n",
       "      <td>3021.3831</td>\n",
       "    </tr>\n",
       "    <tr>\n",
       "      <th>6</th>\n",
       "      <td>2017-06</td>\n",
       "      <td>3141.6421</td>\n",
       "    </tr>\n",
       "    <tr>\n",
       "      <th>7</th>\n",
       "      <td>2017-07</td>\n",
       "      <td>3482.2760</td>\n",
       "    </tr>\n",
       "    <tr>\n",
       "      <th>8</th>\n",
       "      <td>2017-08</td>\n",
       "      <td>3082.4891</td>\n",
       "    </tr>\n",
       "    <tr>\n",
       "      <th>9</th>\n",
       "      <td>2017-09</td>\n",
       "      <td>2774.4291</td>\n",
       "    </tr>\n",
       "    <tr>\n",
       "      <th>10</th>\n",
       "      <td>2017-10</td>\n",
       "      <td>2649.0333</td>\n",
       "    </tr>\n",
       "    <tr>\n",
       "      <th>11</th>\n",
       "      <td>2017-11</td>\n",
       "      <td>2762.8569</td>\n",
       "    </tr>\n",
       "  </tbody>\n",
       "</table>\n",
       "</div>"
      ],
      "text/plain": [
       "      index     y_pred\n",
       "0   2016-12  1885.2037\n",
       "1   2017-01  1865.3879\n",
       "2   2017-02  1894.8826\n",
       "3   2017-03  2479.7591\n",
       "4   2017-04  2779.1029\n",
       "5   2017-05  3021.3831\n",
       "6   2017-06  3141.6421\n",
       "7   2017-07  3482.2760\n",
       "8   2017-08  3082.4891\n",
       "9   2017-09  2774.4291\n",
       "10  2017-10  2649.0333\n",
       "11  2017-11  2762.8569"
      ]
     },
     "execution_count": 55,
     "metadata": {},
     "output_type": "execute_result"
    }
   ],
   "source": [
    "s2.predict_model(es2, fh = 12).reset_index()"
   ]
  },
  {
   "cell_type": "code",
   "execution_count": 38,
   "id": "6b2fbe5e-0813-4906-9dea-86572a6ce575",
   "metadata": {},
   "outputs": [
    {
     "data": {
      "text/plain": [
       "[<matplotlib.lines.Line2D at 0x17093aa0700>]"
      ]
     },
     "execution_count": 38,
     "metadata": {},
     "output_type": "execute_result"
    },
    {
     "data": {
      "image/png": "[encoded data removed]",
      "text/plain": [
       "<Figure size 864x576 with 1 Axes>"
      ]
     },
     "metadata": {
      "needs_background": "light"
     },
     "output_type": "display_data"
    }
   ],
   "source": [
    "test['Order Month'] = test['Date'].dt.strftime('%Y-%m')\n",
    "#plotting exponential smoothing model and calculating performance metrics\n",
    "dft = test[['Order Month', 'sales']].join(yhat2.set_index('index'), on = 'Order Month', how = 'left')\n",
    "\n",
    "dft[['Order Month', 'sales']].plot(kind = 'line', figsize = (12, 8))\n",
    "plt.plot(dft['y_pred'], color = 'red')"
   ]
  },
  {
   "cell_type": "code",
   "execution_count": 39,
   "id": "f572186f-119b-4a09-b649-5822561d20f7",
   "metadata": {},
   "outputs": [
    {
     "name": "stdout",
     "output_type": "stream",
     "text": [
      "R2 score is:  0.9459172418550259 \n",
      "MAE: is 108.66986666666664 \n",
      "MSE is:  13663.24567751833 \n",
      "RMSE is:  116.88988697709622\n"
     ]
    }
   ],
   "source": [
    "from sklearn.metrics import r2_score\n",
    "\n",
    "from sklearn.metrics import mean_absolute_error, mean_squared_error\n",
    "\n",
    "r2 = r2_score(dft[~dft['y_pred'].isnull()]['sales'], dft[~dft['y_pred'].isnull()]['y_pred'])\n",
    "mae = mean_absolute_error(dft[~dft['y_pred'].isnull()]['y_pred'], dft[~dft['y_pred'].isnull()]['sales'])\n",
    "mse = mean_squared_error(dft[~dft['y_pred'].isnull()]['y_pred'], dft[~dft['y_pred'].isnull()]['sales'], squared=True)\n",
    "rmse = ((dft[~dft['y_pred'].isnull()]['y_pred'] - dft[~dft['y_pred'].isnull()]['sales']) ** 2).mean() ** .5\n",
    "print('R2 score is: ', r2, '\\nMAE: is', mae, '\\nMSE is: ', mse, '\\nRMSE is: ', rmse)"
   ]
  },
  {
   "cell_type": "code",
   "execution_count": 40,
   "id": "95d27372-0f35-438c-b007-ffa23f2208e3",
   "metadata": {},
   "outputs": [],
   "source": [
    "#after build a second exponential smoothing algorithm and applying it to a new product, exponential smoothing seems to be the best predictor"
   ]
  },
  {
   "cell_type": "code",
   "execution_count": 41,
   "id": "c8e4950e-9926-45e5-a7cf-521ef1f8d8c3",
   "metadata": {},
   "outputs": [
    {
     "name": "stdout",
     "output_type": "stream",
     "text": [
      "Transformation Pipeline and Model Successfully Saved\n"
     ]
    },
    {
     "data": {
      "text/plain": [
       "(ForecastingPipeline(steps=[('forecaster',\n",
       "                             TransformedTargetForecaster(steps=[('model',\n",
       "                                                                 ExponentialSmoothing(seasonal='mul',\n",
       "                                                                                      sp=12,\n",
       "                                                                                      trend='add'))]))]),\n",
       " 'exponential_smoothing06072022.pkl')"
      ]
     },
     "execution_count": 41,
     "metadata": {},
     "output_type": "execute_result"
    }
   ],
   "source": [
    "s2.save_model(es2, model_name = 'exponential_smoothing06072022')"
   ]
  },
  {
   "cell_type": "code",
   "execution_count": 49,
   "id": "7479bdcb-6f4d-4363-a71e-383541e45664",
   "metadata": {},
   "outputs": [],
   "source": [
    "s2.save_config('es_config')"
   ]
  },
  {
   "cell_type": "code",
   "execution_count": 64,
   "id": "dff18c6f-2a75-4e00-9a09-2d6c642bc52b",
   "metadata": {},
   "outputs": [
    {
     "data": {
      "text/plain": [
       "DatetimeIndex(['2018-01-01', '2018-02-01', '2018-03-01', '2018-04-01',\n",
       "               '2018-05-01', '2018-06-01', '2018-07-01', '2018-08-01',\n",
       "               '2018-09-01', '2018-10-01', '2018-11-01', '2018-12-01'],\n",
       "              dtype='datetime64[ns]', freq='MS')"
      ]
     },
     "execution_count": 64,
     "metadata": {},
     "output_type": "execute_result"
    }
   ],
   "source": [
    "pd.date_range(start = '2017-12-01', end = '2018-12-01', freq = 'MS')"
   ]
  },
  {
   "cell_type": "code",
   "execution_count": 70,
   "id": "81c607bb-1fea-4335-a84c-8062bf186a28",
   "metadata": {},
   "outputs": [],
   "source": [
    "yhat2['Date'] = yhat2['index']"
   ]
  },
  {
   "cell_type": "code",
   "execution_count": 67,
   "id": "35471b19-d3f5-4d54-aaa8-7d6666580b1f",
   "metadata": {},
   "outputs": [
    {
     "data": {
      "text/html": [
       "<div>\n",
       "<style scoped>\n",
       "    .dataframe tbody tr th:only-of-type {\n",
       "        vertical-align: middle;\n",
       "    }\n",
       "\n",
       "    .dataframe tbody tr th {\n",
       "        vertical-align: top;\n",
       "    }\n",
       "\n",
       "    .dataframe thead th {\n",
       "        text-align: right;\n",
       "    }\n",
       "</style>\n",
       "<table border=\"1\" class=\"dataframe\">\n",
       "  <thead>\n",
       "    <tr style=\"text-align: right;\">\n",
       "      <th></th>\n",
       "      <th>Year</th>\n",
       "      <th>Month</th>\n",
       "      <th>time_series</th>\n",
       "      <th>sales</th>\n",
       "      <th>Series</th>\n",
       "      <th>Date</th>\n",
       "    </tr>\n",
       "  </thead>\n",
       "  <tbody>\n",
       "    <tr>\n",
       "      <th>0</th>\n",
       "      <td>2013</td>\n",
       "      <td>1</td>\n",
       "      <td>store_1_item_30</td>\n",
       "      <td>633</td>\n",
       "      <td>1</td>\n",
       "      <td>2013-01-01</td>\n",
       "    </tr>\n",
       "    <tr>\n",
       "      <th>1</th>\n",
       "      <td>2013</td>\n",
       "      <td>2</td>\n",
       "      <td>store_1_item_30</td>\n",
       "      <td>664</td>\n",
       "      <td>2</td>\n",
       "      <td>2013-02-01</td>\n",
       "    </tr>\n",
       "    <tr>\n",
       "      <th>2</th>\n",
       "      <td>2013</td>\n",
       "      <td>3</td>\n",
       "      <td>store_1_item_30</td>\n",
       "      <td>862</td>\n",
       "      <td>3</td>\n",
       "      <td>2013-03-01</td>\n",
       "    </tr>\n",
       "    <tr>\n",
       "      <th>3</th>\n",
       "      <td>2013</td>\n",
       "      <td>4</td>\n",
       "      <td>store_1_item_30</td>\n",
       "      <td>937</td>\n",
       "      <td>4</td>\n",
       "      <td>2013-04-01</td>\n",
       "    </tr>\n",
       "    <tr>\n",
       "      <th>4</th>\n",
       "      <td>2013</td>\n",
       "      <td>5</td>\n",
       "      <td>store_1_item_30</td>\n",
       "      <td>1011</td>\n",
       "      <td>5</td>\n",
       "      <td>2013-05-01</td>\n",
       "    </tr>\n",
       "  </tbody>\n",
       "</table>\n",
       "</div>"
      ],
      "text/plain": [
       "   Year  Month      time_series  sales  Series       Date\n",
       "0  2013      1  store_1_item_30    633       1 2013-01-01\n",
       "1  2013      2  store_1_item_30    664       2 2013-02-01\n",
       "2  2013      3  store_1_item_30    862       3 2013-03-01\n",
       "3  2013      4  store_1_item_30    937       4 2013-04-01\n",
       "4  2013      5  store_1_item_30   1011       5 2013-05-01"
      ]
     },
     "execution_count": 67,
     "metadata": {},
     "output_type": "execute_result"
    }
   ],
   "source": [
    "data.head()"
   ]
  },
  {
   "cell_type": "code",
   "execution_count": 72,
   "id": "ef166c6d-74ff-4d6f-b58f-4f52457c4ec5",
   "metadata": {},
   "outputs": [
    {
     "data": {
      "text/html": [
       "<div>\n",
       "<style scoped>\n",
       "    .dataframe tbody tr th:only-of-type {\n",
       "        vertical-align: middle;\n",
       "    }\n",
       "\n",
       "    .dataframe tbody tr th {\n",
       "        vertical-align: top;\n",
       "    }\n",
       "\n",
       "    .dataframe thead th {\n",
       "        text-align: right;\n",
       "    }\n",
       "</style>\n",
       "<table border=\"1\" class=\"dataframe\">\n",
       "  <thead>\n",
       "    <tr style=\"text-align: right;\">\n",
       "      <th></th>\n",
       "      <th>Year</th>\n",
       "      <th>Month</th>\n",
       "      <th>time_series</th>\n",
       "      <th>sales</th>\n",
       "      <th>Series</th>\n",
       "      <th>Date</th>\n",
       "      <th>index</th>\n",
       "      <th>y_pred</th>\n",
       "    </tr>\n",
       "  </thead>\n",
       "  <tbody>\n",
       "    <tr>\n",
       "      <th>0</th>\n",
       "      <td>2013.0</td>\n",
       "      <td>1.0</td>\n",
       "      <td>store_1_item_30</td>\n",
       "      <td>633.0</td>\n",
       "      <td>1.0</td>\n",
       "      <td>2013-01-01 00:00:00</td>\n",
       "      <td>NaN</td>\n",
       "      <td>NaN</td>\n",
       "    </tr>\n",
       "    <tr>\n",
       "      <th>1</th>\n",
       "      <td>2013.0</td>\n",
       "      <td>2.0</td>\n",
       "      <td>store_1_item_30</td>\n",
       "      <td>664.0</td>\n",
       "      <td>2.0</td>\n",
       "      <td>2013-02-01 00:00:00</td>\n",
       "      <td>NaN</td>\n",
       "      <td>NaN</td>\n",
       "    </tr>\n",
       "    <tr>\n",
       "      <th>2</th>\n",
       "      <td>2013.0</td>\n",
       "      <td>3.0</td>\n",
       "      <td>store_1_item_30</td>\n",
       "      <td>862.0</td>\n",
       "      <td>3.0</td>\n",
       "      <td>2013-03-01 00:00:00</td>\n",
       "      <td>NaN</td>\n",
       "      <td>NaN</td>\n",
       "    </tr>\n",
       "    <tr>\n",
       "      <th>3</th>\n",
       "      <td>2013.0</td>\n",
       "      <td>4.0</td>\n",
       "      <td>store_1_item_30</td>\n",
       "      <td>937.0</td>\n",
       "      <td>4.0</td>\n",
       "      <td>2013-04-01 00:00:00</td>\n",
       "      <td>NaN</td>\n",
       "      <td>NaN</td>\n",
       "    </tr>\n",
       "    <tr>\n",
       "      <th>4</th>\n",
       "      <td>2013.0</td>\n",
       "      <td>5.0</td>\n",
       "      <td>store_1_item_30</td>\n",
       "      <td>1011.0</td>\n",
       "      <td>5.0</td>\n",
       "      <td>2013-05-01 00:00:00</td>\n",
       "      <td>NaN</td>\n",
       "      <td>NaN</td>\n",
       "    </tr>\n",
       "    <tr>\n",
       "      <th>...</th>\n",
       "      <td>...</td>\n",
       "      <td>...</td>\n",
       "      <td>...</td>\n",
       "      <td>...</td>\n",
       "      <td>...</td>\n",
       "      <td>...</td>\n",
       "      <td>...</td>\n",
       "      <td>...</td>\n",
       "    </tr>\n",
       "    <tr>\n",
       "      <th>7</th>\n",
       "      <td>NaN</td>\n",
       "      <td>NaN</td>\n",
       "      <td>NaN</td>\n",
       "      <td>NaN</td>\n",
       "      <td>NaN</td>\n",
       "      <td>2017-07</td>\n",
       "      <td>2017-07</td>\n",
       "      <td>3482.2760</td>\n",
       "    </tr>\n",
       "    <tr>\n",
       "      <th>8</th>\n",
       "      <td>NaN</td>\n",
       "      <td>NaN</td>\n",
       "      <td>NaN</td>\n",
       "      <td>NaN</td>\n",
       "      <td>NaN</td>\n",
       "      <td>2017-08</td>\n",
       "      <td>2017-08</td>\n",
       "      <td>3082.4891</td>\n",
       "    </tr>\n",
       "    <tr>\n",
       "      <th>9</th>\n",
       "      <td>NaN</td>\n",
       "      <td>NaN</td>\n",
       "      <td>NaN</td>\n",
       "      <td>NaN</td>\n",
       "      <td>NaN</td>\n",
       "      <td>2017-09</td>\n",
       "      <td>2017-09</td>\n",
       "      <td>2774.4291</td>\n",
       "    </tr>\n",
       "    <tr>\n",
       "      <th>10</th>\n",
       "      <td>NaN</td>\n",
       "      <td>NaN</td>\n",
       "      <td>NaN</td>\n",
       "      <td>NaN</td>\n",
       "      <td>NaN</td>\n",
       "      <td>2017-10</td>\n",
       "      <td>2017-10</td>\n",
       "      <td>2649.0333</td>\n",
       "    </tr>\n",
       "    <tr>\n",
       "      <th>11</th>\n",
       "      <td>NaN</td>\n",
       "      <td>NaN</td>\n",
       "      <td>NaN</td>\n",
       "      <td>NaN</td>\n",
       "      <td>NaN</td>\n",
       "      <td>2017-11</td>\n",
       "      <td>2017-11</td>\n",
       "      <td>2762.8569</td>\n",
       "    </tr>\n",
       "  </tbody>\n",
       "</table>\n",
       "<p>72 rows × 8 columns</p>\n",
       "</div>"
      ],
      "text/plain": [
       "      Year  Month      time_series   sales  Series                 Date  \\\n",
       "0   2013.0    1.0  store_1_item_30   633.0     1.0  2013-01-01 00:00:00   \n",
       "1   2013.0    2.0  store_1_item_30   664.0     2.0  2013-02-01 00:00:00   \n",
       "2   2013.0    3.0  store_1_item_30   862.0     3.0  2013-03-01 00:00:00   \n",
       "3   2013.0    4.0  store_1_item_30   937.0     4.0  2013-04-01 00:00:00   \n",
       "4   2013.0    5.0  store_1_item_30  1011.0     5.0  2013-05-01 00:00:00   \n",
       "..     ...    ...              ...     ...     ...                  ...   \n",
       "7      NaN    NaN              NaN     NaN     NaN              2017-07   \n",
       "8      NaN    NaN              NaN     NaN     NaN              2017-08   \n",
       "9      NaN    NaN              NaN     NaN     NaN              2017-09   \n",
       "10     NaN    NaN              NaN     NaN     NaN              2017-10   \n",
       "11     NaN    NaN              NaN     NaN     NaN              2017-11   \n",
       "\n",
       "      index     y_pred  \n",
       "0       NaN        NaN  \n",
       "1       NaN        NaN  \n",
       "2       NaN        NaN  \n",
       "3       NaN        NaN  \n",
       "4       NaN        NaN  \n",
       "..      ...        ...  \n",
       "7   2017-07  3482.2760  \n",
       "8   2017-08  3082.4891  \n",
       "9   2017-09  2774.4291  \n",
       "10  2017-10  2649.0333  \n",
       "11  2017-11  2762.8569  \n",
       "\n",
       "[72 rows x 8 columns]"
      ]
     },
     "execution_count": 72,
     "metadata": {},
     "output_type": "execute_result"
    }
   ],
   "source": [
    "pd.concat((data, yhat2), axis = 0)"
   ]
  },
  {
   "cell_type": "code",
   "execution_count": null,
   "id": "d346fd73-2d68-491b-b537-1896516112f3",
   "metadata": {},
   "outputs": [],
   "source": []
  }
 ],
 "metadata": {
  "kernelspec": {
   "display_name": "Python 3",
   "language": "python",
   "name": "python3"
  },
  "language_info": {
   "codemirror_mode": {
    "name": "ipython",
    "version": 3
   },
   "file_extension": ".py",
   "mimetype": "text/x-python",
   "name": "python",
   "nbconvert_exporter": "python",
   "pygments_lexer": "ipython3",
   "version": "3.8.8"
  }
 },
 "nbformat": 4,
 "nbformat_minor": 5
}
